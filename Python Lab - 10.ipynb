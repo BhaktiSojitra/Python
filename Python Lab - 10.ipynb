{
 "cells": [
  {
   "attachments": {},
   "cell_type": "markdown",
   "metadata": {},
   "source": [
    "<a href='https://www.darshan.ac.in/'> <img src='https://www.darshan.ac.in/Content/media/DU_Logo.svg' width=\"250\" height=\"300\"/></a>\n",
    "<pre>\n",
    "<center><b><h1>Python Programming - 2101CS405</b></center>\n",
    "<center><b><h1>Lab - 10</b></center>    \n",
    "<pre>"
   ]
  },
  {
   "cell_type": "markdown",
   "metadata": {},
   "source": [
    "# Modules"
   ]
  },
  {
   "cell_type": "markdown",
   "metadata": {},
   "source": [
    "# A"
   ]
  },
  {
   "cell_type": "markdown",
   "metadata": {},
   "source": [
    "### 01) WAP to create Calculator module which defines functions like add, sub,mul and div. create another file that uses the Calculator module."
   ]
  },
  {
   "cell_type": "code",
   "execution_count": 2,
   "metadata": {},
   "outputs": [
    {
     "name": "stdout",
     "output_type": "stream",
     "text": [
      "Please select the operation.\n",
      "a. Add\n",
      "b. Subtract\n",
      "c. Multiply\n",
      "d. Divide\n"
     ]
    },
    {
     "name": "stdin",
     "output_type": "stream",
     "text": [
      "Please enter choice (a/ b/ c/ d):  a\n",
      "Please enter the first number:  10\n",
      "Please enter the second number:  20\n"
     ]
    },
    {
     "name": "stdout",
     "output_type": "stream",
     "text": [
      "10  +  20  =  30\n"
     ]
    }
   ],
   "source": [
    "def add(P, Q):     \n",
    "   return P + Q   \n",
    "def subtract(P, Q):    \n",
    "   return P - Q   \n",
    "def multiply(P, Q):      \n",
    "   return P * Q   \n",
    "def divide(P, Q):      \n",
    "   return P / Q        \n",
    "print (\"Please select the operation.\")    \n",
    "print (\"a. Add\")    \n",
    "print (\"b. Subtract\")    \n",
    "print (\"c. Multiply\")    \n",
    "print (\"d. Divide\")       \n",
    "choice = input(\"Please enter choice (a/ b/ c/ d): \")    \n",
    "    \n",
    "num_1 = int (input (\"Please enter the first number: \"))    \n",
    "num_2 = int (input (\"Please enter the second number: \"))    \n",
    "    \n",
    "if choice == 'a':    \n",
    "   print (num_1, \" + \", num_2, \" = \", add(num_1, num_2))    \n",
    "    \n",
    "elif choice == 'b':    \n",
    "   print (num_1, \" - \", num_2, \" = \", subtract(num_1, num_2))    \n",
    "    \n",
    "elif choice == 'c':    \n",
    "   print (num1, \" * \", num2, \" = \", multiply(num1, num2))    \n",
    "elif choice == 'd':    \n",
    "   print (num_1, \" / \", num_2, \" = \", divide(num_1, num_2))    \n",
    "else:    \n",
    "   print (\"This is an invalid input\")"
   ]
  },
  {
   "cell_type": "markdown",
   "metadata": {},
   "source": [
    "### 02) WAP to Pick a random character from a given String."
   ]
  },
  {
   "cell_type": "code",
   "execution_count": 7,
   "metadata": {},
   "outputs": [
    {
     "name": "stdin",
     "output_type": "stream",
     "text": [
      "enter string:- hello orld\n"
     ]
    },
    {
     "name": "stdout",
     "output_type": "stream",
     "text": [
      "The given input String:  hello orld\n",
      "The generated random String item =  o\n"
     ]
    }
   ],
   "source": [
    "import random\n",
    "givenString = input(\"enter string:-\")\n",
    "print(\"The given input String: \", givenString)\n",
    "randomItem = random.choice(givenString)\n",
    "print(\"The generated random String item = \", randomItem)"
   ]
  },
  {
   "cell_type": "markdown",
   "metadata": {},
   "source": [
    "### 03) WAP to Pick a random element from a given list."
   ]
  },
  {
   "cell_type": "code",
   "execution_count": 8,
   "metadata": {},
   "outputs": [
    {
     "name": "stdout",
     "output_type": "stream",
     "text": [
      "[100, 90, 80, 70, 60, 50, 40, 30, 20, 10]\n",
      "random element 30\n"
     ]
    }
   ],
   "source": [
    "import random\n",
    "list=[100,90,80,70,60,50,40,30,20,10]\n",
    "print(list)\n",
    "random=random.choice(list)\n",
    "print(\"random element\",random)"
   ]
  },
  {
   "cell_type": "markdown",
   "metadata": {},
   "source": [
    "### 04) WAP to demonstrate the use of the math module."
   ]
  },
  {
   "cell_type": "code",
   "execution_count": 1,
   "metadata": {},
   "outputs": [
    {
     "name": "stdout",
     "output_type": "stream",
     "text": [
      "Value of pi 3.141592653589793\n",
      "Value of e 2.718281828459045\n",
      "Square root of 10 3.1622776601683795\n",
      "Sine of 30 degree -0.9880316240928618\n",
      "Cosine of 45 degree 0.5253219888177297\n",
      "Tangent of 60 degree 0.320040389379563\n",
      "floor of 2.5 2\n",
      "Ceiling of 3.2 4\n",
      "factorial of 5 120\n",
      "Absolute value of -5 5.0\n",
      "2 raised to the power of 3 8.0\n",
      "Logarithm of 10 to the base 2 3.3219280948873626\n",
      "Natural logarithm of 10 (log of 10 to the base e) 2.302585092994046\n",
      "Hyperbolic sine of 1 1.1752011936438014\n",
      "Hyperbolic cosine of 1 1.5430806348152437\n",
      "Hyperbolic tangent of 1 0.7615941559557649\n",
      "Inverse Hyperbolic sine of 1 0.881373587019543\n",
      "Inverse Hyperbolic cosine of 1 0.0\n",
      "Inverse Hyperbolic tangent of 0 0.0\n"
     ]
    }
   ],
   "source": [
    "import math\n",
    "print(\"Value of pi\",math.pi)\n",
    "print(\"Value of e\",math.e)\n",
    "print(\"Square root of 10\",math.sqrt(10))\n",
    "print(\"Sine of 30 degree\",math.sin(30))\n",
    "print(\"Cosine of 45 degree\",math.cos(45))\n",
    "print(\"Tangent of 60 degree\",math.tan(60))\n",
    "print(\"floor of 2.5\",math.floor(2.5))\n",
    "print(\"Ceiling of 3.2\",math.ceil(3.2))\n",
    "print(\"factorial of 5\",math.factorial(5))\n",
    "print(\"Absolute value of -5\",math.fabs(-5))\n",
    "print(\"2 raised to the power of 3\",math.pow(2,3))\n",
    "print(\"Logarithm of 10 to the base 2\",math.log(10,2))\n",
    "print(\"Natural logarithm of 10 (log of 10 to the base e)\",math.log(10))\n",
    "print(\"Hyperbolic sine of 1\",math.sinh(1))\n",
    "print(\"Hyperbolic cosine of 1\",math.cosh(1))\n",
    "print(\"Hyperbolic tangent of 1\",math.tanh(1))\n",
    "print(\"Inverse Hyperbolic sine of 1\",math.asinh(1))\n",
    "print(\"Inverse Hyperbolic cosine of 1\",math.acosh(1))\n",
    "print(\"Inverse Hyperbolic tangent of 0\",math.atanh(0))"
   ]
  },
  {
   "cell_type": "markdown",
   "metadata": {},
   "source": [
    "### 05) WAP to demonstrate the use of date time module."
   ]
  },
  {
   "cell_type": "code",
   "execution_count": 10,
   "metadata": {},
   "outputs": [
    {
     "name": "stdout",
     "output_type": "stream",
     "text": [
      "2024-04-12 21:11:18.875929\n"
     ]
    }
   ],
   "source": [
    "import datetime\n",
    "now = datetime.datetime.now()\n",
    "print(now)"
   ]
  },
  {
   "cell_type": "raw",
   "metadata": {},
   "source": [
    "# B"
   ]
  },
  {
   "cell_type": "markdown",
   "metadata": {},
   "source": [
    "### 01) WAP to Roll dice in such a way that every time you get the same number."
   ]
  },
  {
   "cell_type": "code",
   "execution_count": 13,
   "metadata": {},
   "outputs": [
    {
     "name": "stdout",
     "output_type": "stream",
     "text": [
      "Result of rolling the die: 6\n"
     ]
    }
   ],
   "source": [
    "import random\n",
    "def roll_dice():\n",
    "    return 6\n",
    "for _ in range(5):\n",
    "    result = roll_dice()\n",
    "print(\"Result of rolling the die:\", result)"
   ]
  },
  {
   "cell_type": "markdown",
   "metadata": {},
   "source": [
    "### 02) WAP to generate 3 random integers between 100 and 999 which is divisible by 5."
   ]
  },
  {
   "cell_type": "code",
   "execution_count": 14,
   "metadata": {},
   "outputs": [
    {
     "name": "stdout",
     "output_type": "stream",
     "text": [
      "Generated Numbers: 880 390 485\n"
     ]
    }
   ],
   "source": [
    "import random\n",
    "a = random.randrange(100, 999, 5)\n",
    "b = random.randrange(100, 999, 5)\n",
    "c = random.randrange(100, 999, 5)\n",
    "print(\"Generated Numbers:\", a, b, c)"
   ]
  },
  {
   "cell_type": "markdown",
   "metadata": {},
   "source": [
    "### 03) WAP to generate 100 random lottery tickets and pick two lucky tickets from it as a winner."
   ]
  },
  {
   "cell_type": "code",
   "execution_count": 16,
   "metadata": {},
   "outputs": [
    {
     "name": "stdout",
     "output_type": "stream",
     "text": [
      "List of all lottery tickets: [907589, 224252, 502677, 610579, 469440, 786903, 559223, 632894, 821195, 171945, 566373, 817940, 796556, 254540, 666419, 129218, 185913, 899543, 512069, 301411, 433033, 765417, 986630, 609260, 983446, 965078, 671860, 233035, 726975, 550903, 918043, 871575, 962028, 876655, 568132, 352615, 596941, 439997, 858383, 831538, 772339, 349820, 398305, 144287, 788132, 900600, 844546, 357399, 325325, 360481, 160374, 358545, 675891, 382507, 192949, 231606, 203233, 869960, 127988, 853174, 468800, 122434, 611140, 946993, 815672, 349343, 562687, 972596, 320741, 920348, 304137, 583847, 597517, 762250, 889655, 670804, 918662, 845633, 198905, 480395, 933703, 420285, 434913, 300516, 229374, 815386, 978363, 139690, 526991, 966230, 508801, 150799, 902824, 562793, 757940, 830092, 700095, 781877, 493254, 300121]\n",
      "Two lucky winners: [198905, 566373]\n"
     ]
    }
   ],
   "source": [
    "import random\n",
    "def generate_lottery_ticket():\n",
    "    return random.randint(100000, 999999)\n",
    "lottery_tickets = [generate_lottery_ticket() for _ in range(100)]\n",
    "winners = random.sample(lottery_tickets, 2)\n",
    "print(\"List of all lottery tickets:\", lottery_tickets)\n",
    "print(\"Two lucky winners:\", winners)"
   ]
  },
  {
   "cell_type": "markdown",
   "metadata": {},
   "source": [
    "### 04) WAP to print current date and time in Python."
   ]
  },
  {
   "cell_type": "code",
   "execution_count": 17,
   "metadata": {},
   "outputs": [
    {
     "name": "stdout",
     "output_type": "stream",
     "text": [
      "Current date and time: 2024-04-12 21:13:46.342504\n"
     ]
    }
   ],
   "source": [
    "import datetime\n",
    "current_datetime = datetime.datetime.now()\n",
    "print(\"Current date and time:\", current_datetime)"
   ]
  },
  {
   "cell_type": "markdown",
   "metadata": {},
   "source": [
    "### 05) Subtract a week (7 days) from a given date in Python."
   ]
  },
  {
   "cell_type": "code",
   "execution_count": 18,
   "metadata": {},
   "outputs": [
    {
     "name": "stdout",
     "output_type": "stream",
     "text": [
      "Given date: 2024-04-11 00:00:00\n",
      "New date after subtracting a week: 2024-04-04 00:00:00\n"
     ]
    }
   ],
   "source": [
    "import datetime\n",
    "given_date = datetime.datetime(2024, 4, 11)\n",
    "one_week_delta = datetime.timedelta(days=7)\n",
    "new_date = given_date - one_week_delta\n",
    "print(\"Given date:\", given_date)\n",
    "print(\"New date after subtracting a week:\", new_date)"
   ]
  },
  {
   "cell_type": "markdown",
   "metadata": {},
   "source": [
    "### 06) WAP to Calculate number of days between two given dates."
   ]
  },
  {
   "cell_type": "code",
   "execution_count": 21,
   "metadata": {},
   "outputs": [
    {
     "name": "stdout",
     "output_type": "stream",
     "text": [
      "Number of days between 2024-04-01 and 2024-04-11 is: 10\n"
     ]
    }
   ],
   "source": [
    "import datetime\n",
    "def days_between_dates(date1, date2):\n",
    "    delta = abs(date2 - date1)\n",
    "    return delta.days\n",
    "date1 = datetime.date(2024, 4, 1)\n",
    "date2 = datetime.date(2024, 4, 11)\n",
    "num_days = days_between_dates(date1, date2)\n",
    "print(\"Number of days between\", date1, \"and\", date2, \"is:\", num_days)"
   ]
  },
  {
   "cell_type": "markdown",
   "metadata": {},
   "source": [
    "### 07) WAP to Find the day of the week of a given date."
   ]
  },
  {
   "cell_type": "code",
   "execution_count": 22,
   "metadata": {},
   "outputs": [
    {
     "name": "stdout",
     "output_type": "stream",
     "text": [
      "The day of the week for 2024-04-11 is: Thursday\n"
     ]
    }
   ],
   "source": [
    "import datetime\n",
    "def day_of_week(date):\n",
    "    day_index = date.weekday()\n",
    "    days = [\"Monday\", \"Tuesday\", \"Wednesday\", \"Thursday\", \"Friday\", \"Saturday\",\"Sunday\"]\n",
    "    return days[day_index]\n",
    "given_date = datetime.date(2024, 4, 11)\n",
    "day = day_of_week(given_date)\n",
    "print(\"The day of the week for\", given_date, \"is:\", day)"
   ]
  },
  {
   "cell_type": "code",
   "execution_count": null,
   "metadata": {},
   "outputs": [],
   "source": []
  }
 ],
 "metadata": {
  "kernelspec": {
   "display_name": "Python 3 (ipykernel)",
   "language": "python",
   "name": "python3"
  },
  "language_info": {
   "codemirror_mode": {
    "name": "ipython",
    "version": 3
   },
   "file_extension": ".py",
   "mimetype": "text/x-python",
   "name": "python",
   "nbconvert_exporter": "python",
   "pygments_lexer": "ipython3",
   "version": "3.12.1"
  }
 },
 "nbformat": 4,
 "nbformat_minor": 4
}
