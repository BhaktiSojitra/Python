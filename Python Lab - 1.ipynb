{
 "cells": [
  {
   "cell_type": "markdown",
   "metadata": {},
   "source": [
    "<a href='https://www.darshan.ac.in/'> <img src='https://www.darshan.ac.in/Content/media/DU_Logo.svg' width=\"250\" height=\"300\"/></a>\n",
    "<pre>\n",
    "<center><b><h1>Python Programming - 2101CS405</b></center>\n",
    "<center><b><h1>Lab - 1</b></center>    \n",
    "<pre>"
   ]
  },
  {
   "cell_type": "code",
   "execution_count": null,
   "metadata": {},
   "outputs": [],
   "source": [
    "NAME:- SOJITRA BHAKTI\n",
    "ENROLLMENT:- 23010101650\n",
    "BATCH:- 03"
   ]
  },
  {
   "cell_type": "markdown",
   "metadata": {},
   "source": [
    "### 01) WAP to print “Hello World”"
   ]
  },
  {
   "cell_type": "code",
   "execution_count": 2,
   "metadata": {},
   "outputs": [
    {
     "name": "stdout",
     "output_type": "stream",
     "text": [
      "hello world\n"
     ]
    }
   ],
   "source": [
    "print(\"hello world\")"
   ]
  },
  {
   "cell_type": "markdown",
   "metadata": {},
   "source": [
    "### 02) WAP to print your address i) using single print ii) using multiple print"
   ]
  },
  {
   "cell_type": "code",
   "execution_count": 2,
   "metadata": {},
   "outputs": [
    {
     "name": "stdout",
     "output_type": "stream",
     "text": [
      "hello world\n",
      "hello \n",
      " world\n"
     ]
    }
   ],
   "source": [
    "print(\"hello world\")\n",
    "print(\"hello \\n world\")"
   ]
  },
  {
   "cell_type": "markdown",
   "metadata": {},
   "source": [
    "### 03) WAP to print addition of 2 numbers (without input function)"
   ]
  },
  {
   "cell_type": "code",
   "execution_count": 5,
   "metadata": {},
   "outputs": [
    {
     "name": "stdout",
     "output_type": "stream",
     "text": [
      "c:-  30\n"
     ]
    }
   ],
   "source": [
    "a=10\n",
    "b=20\n",
    "c=a+b\n",
    "print(\"c:- \",c)"
   ]
  },
  {
   "cell_type": "markdown",
   "metadata": {},
   "source": [
    "### 04) WAP to calculate and print average of 2 numbers (without input function)"
   ]
  },
  {
   "cell_type": "code",
   "execution_count": 9,
   "metadata": {},
   "outputs": [
    {
     "name": "stdout",
     "output_type": "stream",
     "text": [
      "sum 30\n",
      "average:-  15.0\n"
     ]
    }
   ],
   "source": [
    "a=10\n",
    "b=20\n",
    "sum=a+b\n",
    "average=(a+b)/2\n",
    "print(\"sum\",sum)\n",
    "print(\"average:- \",average)"
   ]
  },
  {
   "cell_type": "markdown",
   "metadata": {},
   "source": [
    "### 05) WAP to add two number entered by user."
   ]
  },
  {
   "cell_type": "code",
   "execution_count": 1,
   "metadata": {},
   "outputs": [
    {
     "name": "stdin",
     "output_type": "stream",
     "text": [
      "enter number1:-  10\n",
      "enter number2:-  20\n"
     ]
    },
    {
     "name": "stdout",
     "output_type": "stream",
     "text": [
      "30\n"
     ]
    }
   ],
   "source": [
    "a=int(input(\"enter number1:- \"))\n",
    "b=int(input(\"enter number2:- \"))\n",
    "c=a+b\n",
    "print(c)"
   ]
  },
  {
   "cell_type": "markdown",
   "metadata": {},
   "source": [
    "### 06) WAP to calculate simple interest."
   ]
  },
  {
   "cell_type": "code",
   "execution_count": 15,
   "metadata": {},
   "outputs": [
    {
     "name": "stdout",
     "output_type": "stream",
     "text": [
      "simple interest 2500.0\n"
     ]
    }
   ],
   "source": [
    "p=1000\n",
    "r=50\n",
    "t=5\n",
    "si=(p*r*t)/100\n",
    "print(\"simple interest\",si)"
   ]
  },
  {
   "cell_type": "markdown",
   "metadata": {},
   "source": [
    "### 07) WAP Calculate Area and Circumfrence of Circle"
   ]
  },
  {
   "cell_type": "code",
   "execution_count": 17,
   "metadata": {},
   "outputs": [
    {
     "name": "stdout",
     "output_type": "stream",
     "text": [
      "area:- 78.5\n",
      "Circumfrence of Circle:- 31.400000000000002\n"
     ]
    }
   ],
   "source": [
    "pi=3.14\n",
    "r=5\n",
    "c=2*pi*r\n",
    "print(\"area:-\",pi*r*r)\n",
    "print(\"Circumfrence of Circle:-\",c)"
   ]
  },
  {
   "cell_type": "markdown",
   "metadata": {},
   "source": [
    "### 08) WAP to print Multiplication table of given number without using loops."
   ]
  },
  {
   "cell_type": "code",
   "execution_count": 14,
   "metadata": {},
   "outputs": [
    {
     "name": "stdout",
     "output_type": "stream",
     "text": [
      "2*0= 0\n",
      "2*1= 2\n",
      "2*2= 4\n",
      "2*3= 6\n",
      "2*4= 8\n",
      "2*5= 10\n",
      "2*6= 12\n",
      "2*7= 14\n",
      "2*8= 16\n",
      "2*9= 18\n",
      "2*10= 20\n"
     ]
    }
   ],
   "source": [
    "print(\"2*0=\",(2*0))\n",
    "print(\"2*1=\",(2*1))\n",
    "print(\"2*2=\",(2*2))\n",
    "print(\"2*3=\",(2*3))\n",
    "print(\"2*4=\",(2*4))\n",
    "print(\"2*5=\",(2*5))\n",
    "print(\"2*6=\",(2*6))\n",
    "print(\"2*7=\",(2*7))\n",
    "print(\"2*8=\",(2*8))\n",
    "print(\"2*9=\",(2*9))\n",
    "print(\"2*10=\",(2*10))"
   ]
  },
  {
   "cell_type": "markdown",
   "metadata": {},
   "source": [
    "### 09) WAP to calculate Area of Triangle (hint: a = h * b * 0.5)"
   ]
  },
  {
   "cell_type": "code",
   "execution_count": 18,
   "metadata": {},
   "outputs": [
    {
     "name": "stdout",
     "output_type": "stream",
     "text": [
      "Area of Triangle:- 4.5\n"
     ]
    }
   ],
   "source": [
    "h=3\n",
    "b=3\n",
    "a=h*b*0.5\n",
    "print(\"Area of Triangle:-\",a)"
   ]
  },
  {
   "cell_type": "markdown",
   "metadata": {},
   "source": [
    "### 10) WAP to convert degree to Fahrenheit and vice versa."
   ]
  },
  {
   "cell_type": "code",
   "execution_count": 24,
   "metadata": {},
   "outputs": [
    {
     "name": "stdout",
     "output_type": "stream",
     "text": [
      "fahrenheit:- 50.0\n",
      "vice versa:- 10.0\n"
     ]
    }
   ],
   "source": [
    "c=10\n",
    "f=c*(9/5)+32\n",
    "print(\"fahrenheit:-\",f)\n",
    "a=(f-32)*5/9\n",
    "print(\"vice versa:-\",a)"
   ]
  },
  {
   "cell_type": "markdown",
   "metadata": {},
   "source": [
    "### 11) WAP to calculate total marks and Percentage."
   ]
  },
  {
   "cell_type": "code",
   "execution_count": 6,
   "metadata": {},
   "outputs": [
    {
     "name": "stdout",
     "output_type": "stream",
     "text": [
      "Sum is:- 67.5\n",
      "percentage is:- 22.5\n"
     ]
    }
   ],
   "source": [
    "a=10.5\n",
    "b=22.0\n",
    "c=35.0\n",
    "sum=a+b+c\n",
    "print(\"Sum is:-\",sum)\n",
    "percentage=sum/3;\n",
    "print(\"percentage is:-\",percentage);"
   ]
  },
  {
   "cell_type": "markdown",
   "metadata": {},
   "source": [
    "### 12) Compute distance between two points taking input from the user (Pythagorean Theorem)."
   ]
  },
  {
   "cell_type": "code",
   "execution_count": 9,
   "metadata": {},
   "outputs": [
    {
     "name": "stdin",
     "output_type": "stream",
     "text": [
      "Enter x-coordinate of first point:  3\n",
      "Enter y-coordinate of first point:  4\n",
      "Enter x-coordinate of second point:  7\n",
      "Enter y-coordinate of second point:  7\n"
     ]
    },
    {
     "name": "stdout",
     "output_type": "stream",
     "text": [
      "The distance between the two points is 5.0\n"
     ]
    }
   ],
   "source": [
    "x1 = float(input(\"Enter x-coordinate of first point: \"))\n",
    "y1 = float(input(\"Enter y-coordinate of first point: \"))\n",
    "x2 = float(input(\"Enter x-coordinate of second point: \"))\n",
    "y2 = float(input(\"Enter y-coordinate of second point: \"))\n",
    "\n",
    "distance = (((x2 - x1)**2 +(y2 - y1)**2)**0.5) \n",
    "print(\"The distance between the two points is\", distance)"
   ]
  },
  {
   "cell_type": "markdown",
   "metadata": {},
   "source": [
    "### 13) WAP to convert seconds into hours, minutes & seconds and print in HH:MM:SS\n",
    "[e.g. 10000 seconds mean 2:46:40 (2 Hours, 46 Minutes, 40Seconds)]"
   ]
  },
  {
   "cell_type": "code",
   "execution_count": 3,
   "metadata": {
    "scrolled": true
   },
   "outputs": [
    {
     "name": "stdin",
     "output_type": "stream",
     "text": [
      "enter seconds:- 12345\n"
     ]
    },
    {
     "name": "stdout",
     "output_type": "stream",
     "text": [
      "3:25:45\n"
     ]
    }
   ],
   "source": [
    "seconds = int(input(\"enter seconds:-\"))\n",
    "seconds = seconds % (24 * 3600)\n",
    "hour = seconds // 3600\n",
    "seconds %= 3600\n",
    "minutes = seconds // 60\n",
    "seconds %= 60\n",
    "print(hour, minutes, seconds,sep=\":\")"
   ]
  },
  {
   "cell_type": "markdown",
   "metadata": {},
   "source": [
    "### 14) WAP to enter distance into kilometer and convert it into meter, feet,inches, and centimeter"
   ]
  },
  {
   "cell_type": "code",
   "execution_count": 28,
   "metadata": {},
   "outputs": [
    {
     "name": "stdin",
     "output_type": "stream",
     "text": [
      "enter distance into kilometer:- 1\n"
     ]
    },
    {
     "name": "stdout",
     "output_type": "stream",
     "text": [
      "meter is:- 1000\n"
     ]
    }
   ],
   "source": [
    "#convert kilometer to meter\n",
    "kilometer=int(input(\"enter distance into kilometer:-\"))\n",
    "meter=kilometer*1000\n",
    "print(\"meter is:-\",meter)"
   ]
  },
  {
   "cell_type": "code",
   "execution_count": 29,
   "metadata": {},
   "outputs": [
    {
     "name": "stdin",
     "output_type": "stream",
     "text": [
      "enter distance into kilometer:- 2\n"
     ]
    },
    {
     "name": "stdout",
     "output_type": "stream",
     "text": [
      "feet is:- 6562\n"
     ]
    }
   ],
   "source": [
    "#convert kilometer to feet\n",
    "kilometer=int(input(\"enter distance into kilometer:-\"))\n",
    "feet=kilometer*3281\n",
    "print(\"feet is:-\",feet)"
   ]
  },
  {
   "cell_type": "code",
   "execution_count": 30,
   "metadata": {},
   "outputs": [
    {
     "name": "stdin",
     "output_type": "stream",
     "text": [
      "enter distance into kilometer:- 2\n"
     ]
    },
    {
     "name": "stdout",
     "output_type": "stream",
     "text": [
      "inches is:- 78740\n"
     ]
    }
   ],
   "source": [
    "#convert kilometer to inches\n",
    "kilometer=int(input(\"enter distance into kilometer:-\"))\n",
    "inches=kilometer*39370\n",
    "print(\"inches is:-\",inches)"
   ]
  },
  {
   "cell_type": "code",
   "execution_count": 31,
   "metadata": {},
   "outputs": [
    {
     "name": "stdin",
     "output_type": "stream",
     "text": [
      "enter distance into kilometer:- 3\n"
     ]
    },
    {
     "name": "stdout",
     "output_type": "stream",
     "text": [
      "centimeter is:- 300000\n"
     ]
    }
   ],
   "source": [
    "#convert kilometer to centimeter\n",
    "kilometer=int(input(\"enter distance into kilometer:-\"))\n",
    "centimeter=kilometer*100000\n",
    "print(\"centimeter is:-\",centimeter)"
   ]
  }
 ],
 "metadata": {
  "kernelspec": {
   "display_name": "Python 3 (ipykernel)",
   "language": "python",
   "name": "python3"
  },
  "language_info": {
   "codemirror_mode": {
    "name": "ipython",
    "version": 3
   },
   "file_extension": ".py",
   "mimetype": "text/x-python",
   "name": "python",
   "nbconvert_exporter": "python",
   "pygments_lexer": "ipython3",
   "version": "3.12.1"
  },
  "vscode": {
   "interpreter": {
    "hash": "31f2aee4e71d21fbe5cf8b01ff0e069b9275f58929596ceb00d14d90e3e16cd6"
   }
  }
 },
 "nbformat": 4,
 "nbformat_minor": 4
}
