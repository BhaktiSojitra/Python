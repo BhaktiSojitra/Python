{
 "cells": [
  {
   "cell_type": "markdown",
   "metadata": {},
   "source": [
    "<a href='https://www.darshan.ac.in/'> <img src='https://www.darshan.ac.in/Content/media/DU_Logo.svg' width=\"250\" height=\"300\"/></a>\n",
    "<pre>\n",
    "<center><b><h1>Python Programming - 2101CS405</b></center>\n",
    "<center><b><h1>Lab - 9</b></center>    \n",
    "<pre>"
   ]
  },
  {
   "cell_type": "markdown",
   "metadata": {},
   "source": [
    "# Exception Handling"
   ]
  },
  {
   "cell_type": "markdown",
   "metadata": {},
   "source": [
    "# A"
   ]
  },
  {
   "cell_type": "markdown",
   "metadata": {},
   "source": [
    "### 01) WAP to handle divide by zero exception."
   ]
  },
  {
   "cell_type": "code",
   "execution_count": 1,
   "metadata": {},
   "outputs": [
    {
     "name": "stdin",
     "output_type": "stream",
     "text": [
      "Enter number:- 10\n"
     ]
    },
    {
     "name": "stdout",
     "output_type": "stream",
     "text": [
      "number can not divisible by zero\n",
      "program is finished..\n"
     ]
    }
   ],
   "source": [
    "try:\n",
    "    number=int(input(\"Enter number:-\"))\n",
    "    result=number/0\n",
    "except ZeroDivisionError:\n",
    "    print(\"number can not divisible by zero\")\n",
    "finally:\n",
    "    print(\"program is finished..\")"
   ]
  },
  {
   "cell_type": "markdown",
   "metadata": {},
   "source": [
    "### 02)  Write a Python program that inputs a number and generates an error message if it is not a number."
   ]
  },
  {
   "cell_type": "code",
   "execution_count": 12,
   "metadata": {},
   "outputs": [
    {
     "name": "stdin",
     "output_type": "stream",
     "text": [
      "Enter value:- 10\n"
     ]
    },
    {
     "name": "stdout",
     "output_type": "stream",
     "text": [
      "program is finished..\n"
     ]
    }
   ],
   "source": [
    "try:\n",
    "    value=int(input(\"Enter value:-\"))\n",
    "except ValueError:\n",
    "    print(\"enter value is not a number\")\n",
    "finally:\n",
    "    print(\"program is finished..\")"
   ]
  },
  {
   "cell_type": "markdown",
   "metadata": {},
   "source": [
    "### 03) WAP to handle file not found Exception"
   ]
  },
  {
   "cell_type": "code",
   "execution_count": 11,
   "metadata": {},
   "outputs": [
    {
     "name": "stdin",
     "output_type": "stream",
     "text": [
      "enter file name:-  model.txt\n"
     ]
    },
    {
     "name": "stdout",
     "output_type": "stream",
     "text": [
      "file not found\n",
      "program is finished..\n"
     ]
    }
   ],
   "source": [
    "try:\n",
    "    filename=input(\"enter file name:- \")\n",
    "    Fileobject=open(filename,\"r\")\n",
    "    print(\"Fileobject:-\",Fileobject)\n",
    "except FileNotFoundError:\n",
    "    print(\"file not found\")\n",
    "else:\n",
    "    print(Fileobject.readlines())\n",
    "finally:\n",
    "    print(\"program is finished..\")"
   ]
  },
  {
   "cell_type": "markdown",
   "metadata": {},
   "source": [
    "### 04) WAP to handle type Exception."
   ]
  },
  {
   "cell_type": "code",
   "execution_count": 25,
   "metadata": {},
   "outputs": [
    {
     "name": "stdin",
     "output_type": "stream",
     "text": [
      "Enter value1:- 10\n",
      "Enter value2:- a\n"
     ]
    },
    {
     "name": "stdout",
     "output_type": "stream",
     "text": [
      "can not concat\n",
      "program is finished..\n"
     ]
    }
   ],
   "source": [
    "try:\n",
    "    value1=input(\"Enter value1:-\")\n",
    "    value2=input(\"Enter value2:-\")\n",
    "    if value1.isnumeric() and value2.isnumeric():\n",
    "        result = int(value1) + int(value2)\n",
    "        print(result)\n",
    "    else:\n",
    "        raise TypeError\n",
    "except TypeError:\n",
    "    print(\"can not concat\")\n",
    "finally:\n",
    "    print(\"program is finished..\")"
   ]
  },
  {
   "cell_type": "markdown",
   "metadata": {},
   "source": [
    "### 05) WAP to demonstrate valueError and indexError with example."
   ]
  },
  {
   "cell_type": "code",
   "execution_count": 30,
   "metadata": {},
   "outputs": [
    {
     "name": "stdin",
     "output_type": "stream",
     "text": [
      "Enter size:- 3\n",
      "Enter element for list:- 10\n",
      "Enter element for list:- 20\n",
      "Enter element for list:- 30\n"
     ]
    },
    {
     "name": "stdout",
     "output_type": "stream",
     "text": [
      "list:- [10, 20, 30]\n"
     ]
    },
    {
     "name": "stdin",
     "output_type": "stream",
     "text": [
      "enter index: 3\n"
     ]
    },
    {
     "name": "stdout",
     "output_type": "stream",
     "text": [
      "index is not found\n",
      "program is finished..\n"
     ]
    }
   ],
   "source": [
    "#value error\n",
    "'''try:\n",
    "    value=int(input(\"Enter value:-\"))\n",
    "except ValueError:\n",
    "    print(\"enter value is not a number\")\n",
    "finally:\n",
    "    print(\"program is finished..\")'''\n",
    "\n",
    "#indexerror\n",
    "list=[]\n",
    "size=int(input(\"Enter size:-\"))\n",
    "for i in range(0,size):\n",
    "    element=int(input(\"Enter element for list:-\"))\n",
    "    list.append(element)\n",
    "print(\"list:-\",list)\n",
    "try:\n",
    "    index=int(input(\"enter index:\"))\n",
    "    result=list[index]\n",
    "    print(\"element is:-\",result)\n",
    "except IndexError:\n",
    "    print(\"index is not found\")\n",
    "finally:\n",
    "    print(\"program is finished..\")"
   ]
  },
  {
   "cell_type": "markdown",
   "metadata": {},
   "source": [
    "### 06) WAP to domonstrate else  and finally block."
   ]
  },
  {
   "cell_type": "code",
   "execution_count": 31,
   "metadata": {},
   "outputs": [
    {
     "name": "stdin",
     "output_type": "stream",
     "text": [
      "Enter value1:- 10\n",
      "Enter value2:- a\n"
     ]
    },
    {
     "name": "stdout",
     "output_type": "stream",
     "text": [
      "can not concat\n",
      "program is finished..\n"
     ]
    }
   ],
   "source": [
    "try:\n",
    "    value1=input(\"Enter value1:-\")\n",
    "    value2=input(\"Enter value2:-\")\n",
    "    if value1.isnumeric() and value2.isnumeric():\n",
    "        result = int(value1) + int(value2)\n",
    "        print(result)\n",
    "    else:\n",
    "        raise TypeError\n",
    "except TypeError:\n",
    "    print(\"can not concat\")\n",
    "finally:\n",
    "    print(\"program is finished..\")"
   ]
  },
  {
   "cell_type": "markdown",
   "metadata": {},
   "source": [
    "### 07) Create a short program that prompts the user for a list of grades separated by commas. Split the string into individual grades and use a list comprehension to convert each string to an integer. You should use a try statement to inform the user when the values they entered cannot be converted."
   ]
  },
  {
   "cell_type": "code",
   "execution_count": null,
   "metadata": {},
   "outputs": [],
   "source": [
    "#12,ab,10,8"
   ]
  },
  {
   "cell_type": "markdown",
   "metadata": {},
   "source": [
    "def main():\r\n",
    "    while True:\r\n",
    "        try:\r\n",
    "            # Prompt user for input\r\n",
    "            grades_input = input(\"Enter a list of grades separated by commas: \")\r\n",
    "            \r\n",
    "            # Split the input string into individual grades\r\n",
    "            grades_list = grades_input.split(',')\r\n",
    "            \r\n",
    "            # Convert each grade to an integer using list comprehension\r\n",
    "            grades = [int(grade) for grade in grades_list]\r\n",
    "            \r\n",
    "            # Print the converted grades\r\n",
    "            print(\"Converted grades:\", grades)\r\n",
    "            \r\n",
    "            break  # Exit the loop if conversion succeeds\r\n",
    "        except ValueError:\r\n",
    "            # Inform the user if conversion fails\r\n",
    "            print(\"Invalid input. Please enter numeric values separated by commas.\")\r\n",
    "\r\n",
    "if __name__ == \"_main__\":\r\n",
    "    main()\r\n"
   ]
  },
  {
   "cell_type": "markdown",
   "metadata": {},
   "source": [
    "# B"
   ]
  },
  {
   "cell_type": "raw",
   "metadata": {},
   "source": [
    "01) WAP to Raising User Generated Exception."
   ]
  },
  {
   "cell_type": "code",
   "execution_count": 1,
   "metadata": {},
   "outputs": [
    {
     "name": "stdout",
     "output_type": "stream",
     "text": [
      "division by zero\n"
     ]
    }
   ],
   "source": [
    "try:\n",
    "    raise ZeroDivisionError\n",
    "except ZeroDivisionError:\n",
    "    print(\"division by zero\")"
   ]
  },
  {
   "cell_type": "markdown",
   "metadata": {},
   "source": [
    "### 02) WAP to raise your custom Exception."
   ]
  },
  {
   "cell_type": "code",
   "execution_count": 2,
   "metadata": {},
   "outputs": [
    {
     "name": "stdin",
     "output_type": "stream",
     "text": [
      "Enter a age:  50\n"
     ]
    },
    {
     "name": "stdout",
     "output_type": "stream",
     "text": [
      "Eligible to Vote\n"
     ]
    }
   ],
   "source": [
    "class InvalidAgeException(Exception):\n",
    "    \"Raised when the input value is less than 18\"\n",
    "    pass\n",
    "number=18\n",
    "try:\n",
    "    input_num = int(input(\"Enter a age: \"))\n",
    "    if input_num < number:\n",
    "        raise InvalidAgeException\n",
    "    else:\n",
    "        print(\"Eligible to Vote\")\n",
    "except InvalidAgeException:\n",
    "    print(\"Exception occurred: Invalid Age\")"
   ]
  },
  {
   "cell_type": "code",
   "execution_count": null,
   "metadata": {},
   "outputs": [],
   "source": []
  }
 ],
 "metadata": {
  "kernelspec": {
   "display_name": "Python 3 (ipykernel)",
   "language": "python",
   "name": "python3"
  },
  "language_info": {
   "codemirror_mode": {
    "name": "ipython",
    "version": 3
   },
   "file_extension": ".py",
   "mimetype": "text/x-python",
   "name": "python",
   "nbconvert_exporter": "python",
   "pygments_lexer": "ipython3",
   "version": "3.12.1"
  }
 },
 "nbformat": 4,
 "nbformat_minor": 4
}
