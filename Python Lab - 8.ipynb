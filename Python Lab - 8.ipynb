{
 "cells": [
  {
   "cell_type": "markdown",
   "metadata": {
    "id": "I36ZtkY_TPga"
   },
   "source": [
    "<a href='https://www.darshan.ac.in/'> <img src='https://www.darshan.ac.in/Content/media/DU_Logo.svg' width=\"250\" height=\"300\"/></a>\n",
    "<pre>\n",
    "<center><b><h1>Python Programming - 2101CS405</b></center>\n",
    "<center><b><h1>Lab - 8</b></center>    \n",
    "<pre>"
   ]
  },
  {
   "cell_type": "markdown",
   "metadata": {},
   "source": [
    "## Name :: { }\n",
    "## Enrollment :: { }\n",
    "## Date :: { }"
   ]
  },
  {
   "cell_type": "markdown",
   "metadata": {
    "id": "xBdreJBkTPgd"
   },
   "source": [
    "# File handling"
   ]
  },
  {
   "cell_type": "markdown",
   "metadata": {},
   "source": [
    "# f= open(\"abc.txt\",\"r\")\n",
    "### open(\" file_path \" , \" permission \") == open given file with given permisson\n",
    "### \"w\" = write mode (which overwrite file)\n",
    "### \"a\" = write mode (which append at end of  file)\n",
    "### \"r\" = read mode\n",
    "\n",
    "# f.readlines()\n",
    "### read() == return whole file in string\n",
    "### readline() == return first line of file\n",
    "### readlines() == return list of all lines \n",
    "\n",
    "# f.close() to close opened file"
   ]
  },
  {
   "cell_type": "markdown",
   "metadata": {},
   "source": [
    "## Simple Example of Character Encoding and Decoding\n",
    "## use this to encode and decode files"
   ]
  },
  {
   "cell_type": "code",
   "execution_count": 1,
   "metadata": {},
   "outputs": [
    {
     "name": "stdout",
     "output_type": "stream",
     "text": [
      "abcdefghijklmnopqrstuvwxyzABCDEFGHIJKLMNOPQRSTUVWXYZ\n",
      "URXjqYOguKkbANeSiZECMQHPIvGzncBVpmwDhadTsxLWJfrloytF\n",
      "abc encoded :  URX\n",
      "xyz encoded :  PIv\n",
      "hello encoded :  gqbbe\n"
     ]
    }
   ],
   "source": [
    "s = \"abcdefghijklmnopqrstuvwxyzABCDEFGHIJKLMNOPQRSTUVWXYZ\"\n",
    "print(s)\n",
    "b = \"URXjqYOguKkbANeSiZECMQHPIvGzncBVpmwDhadTsxLWJfrloytF\"\n",
    "print(b)\n",
    "\n",
    "def encode(word):\n",
    "    x = \"\"\n",
    "    for i in word:\n",
    "        x += b[s.find(i)]\n",
    "    return x\n",
    "        \n",
    "print(\"abc encoded : \",encode(\"abc\"))\n",
    "print(\"xyz encoded : \",encode(\"xyz\"))\n",
    "print(\"hello encoded : \",encode(\"hello\"))"
   ]
  },
  {
   "cell_type": "code",
   "execution_count": 2,
   "metadata": {},
   "outputs": [
    {
     "name": "stdout",
     "output_type": "stream",
     "text": [
      "abcdefghijklmnopqrstuvwxyzABCDEFGHIJKLMNOPQRSTUVWXYZ\n",
      "URXjqYOguKkbANeSiZECMQHPIvGzncBVpmwDhadTsxLWJfrloytF\n",
      "URX decoded :  abc\n",
      "PIv decoded :  xyz\n",
      "gqbbe decoded :  hello\n"
     ]
    }
   ],
   "source": [
    "s = \"abcdefghijklmnopqrstuvwxyzABCDEFGHIJKLMNOPQRSTUVWXYZ\"\n",
    "print(s)\n",
    "b = \"URXjqYOguKkbANeSiZECMQHPIvGzncBVpmwDhadTsxLWJfrloytF\"\n",
    "print(b)\n",
    "\n",
    "def decode(word):\n",
    "    x = \"\"\n",
    "    for i in word:\n",
    "        x += s[b.find(i)]\n",
    "    return x\n",
    "        \n",
    "print(\"URX decoded : \",decode(\"URX\"))\n",
    "print(\"PIv decoded : \",decode(\"PIv\"))\n",
    "print(\"gqbbe decoded : \",decode(\"gqbbe\"))"
   ]
  },
  {
   "cell_type": "markdown",
   "metadata": {
    "id": "A97RmQaYTPgd"
   },
   "source": [
    "# A"
   ]
  },
  {
   "cell_type": "markdown",
   "metadata": {
    "id": "od-WISIcTPge"
   },
   "source": [
    "### 01) WAP to read entire file named abc.txt"
   ]
  },
  {
   "cell_type": "code",
   "execution_count": 26,
   "metadata": {
    "id": "2THz-NwJTPge",
    "outputId": "9012361b-4976-4566-a06d-9f257d079352"
   },
   "outputs": [
    {
     "name": "stdout",
     "output_type": "stream",
     "text": [
      "Lorem ipsum dolor sit amet, consectetur adipiscing elit, sed do eiusmod tempor incididunt ut labore et dolore magna aliqua. \n",
      "Tristique sollicitudin nibh sit amet. Euismod elementum nisi quis eleifend quam adipiscing vitae. \n",
      "Feugiat in fermentum posuere urna nec tincidunt praesent. \n",
      "Sit amet consectetur adipiscing elit pellentesque habitant. \n",
      "Ut placerat orci nulla pellentesque dignissim. \n",
      "Laoreet id donec ultrices tincidunt arcu non sodales neque. \n",
      "Rhoncus dolor purus non enim. \n",
      "Cursus eget nunc scelerisque viverra. \n",
      "Scelerisque eu ultrices vitae auctor eu augue. \n",
      "Potenti nullam ac tortor vitae purus faucibus. \n",
      "Porttitor massa id neque aliquam vestibulum morbi blandit cursus risus. \n",
      "Dolor morbi non arcu risus quis varius. \n",
      "Lacus vestibulum sed arcu non odio euismod lacinia. \n",
      "Lobortis feugiat vivamus at augue eget arcu dictum varius. \n",
      "Fames ac turpis egestas maecenas. \n",
      "In nisl nisi scelerisque eu ultrices vitae auctor eu. \n",
      "Eget nunc scelerisque viverra mauris.\n"
     ]
    }
   ],
   "source": [
    "Fileobject=open(\"abc.txt\",\"r\")\n",
    "print(\"\".join(Fileobject.readlines()))"
   ]
  },
  {
   "cell_type": "markdown",
   "metadata": {
    "id": "dw7WR9pyTPgf"
   },
   "source": [
    "### 02) WAP to print program it self on console."
   ]
  },
  {
   "cell_type": "code",
   "execution_count": 24,
   "metadata": {
    "colab": {
     "base_uri": "https://localhost:8080/",
     "height": 192
    },
    "executionInfo": {
     "elapsed": 5,
     "status": "error",
     "timestamp": 1706841915158,
     "user": {
      "displayName": "Tej Patel",
      "userId": "04032777318747107215"
     },
     "user_tz": -330
    },
    "id": "9Lu5xWYGTPgf",
    "outputId": "75fb1079-d9c9-465a-ee43-d57dbf85f143"
   },
   "outputs": [
    {
     "name": "stdout",
     "output_type": "stream",
     "text": [
      "{\n",
      " \"cells\": [\n",
      "  {\n",
      "   \"cell_type\": \"markdown\",\n",
      "   \"metadata\": {\n",
      "    \"id\": \"I36ZtkY_TPga\"\n",
      "   },\n",
      "   \"source\": [\n",
      "    \"<a href='https://www.darshan.ac.in/'> <img src='https://www.darshan.ac.in/Content/media/DU_Logo.svg' width=\\\"250\\\" height=\\\"300\\\"/></a>\\n\",\n",
      "    \"<pre>\\n\",\n",
      "    \"<center><b><h1>Python Programming - 2101CS405</b></center>\\n\",\n",
      "    \"<center><b><h1>Lab - 8</b></center>    \\n\",\n",
      "    \"<pre>\"\n",
      "   ]\n",
      "  },\n",
      "  {\n",
      "   \"cell_type\": \"markdown\",\n",
      "   \"metadata\": {},\n",
      "   \"source\": [\n",
      "    \"## Name :: { }\\n\",\n",
      "    \"## Enrollment :: { }\\n\",\n",
      "    \"## Date :: { }\"\n",
      "   ]\n",
      "  },\n",
      "  {\n",
      "   \"cell_type\": \"markdown\",\n",
      "   \"metadata\": {\n",
      "    \"id\": \"xBdreJBkTPgd\"\n",
      "   },\n",
      "   \"source\": [\n",
      "    \"# File handling\"\n",
      "   ]\n",
      "  },\n",
      "  {\n",
      "   \"cell_type\": \"markdown\",\n",
      "   \"metadata\": {},\n",
      "   \"source\": [\n",
      "    \"# f= open(\\\"abc.txt\\\",\\\"r\\\")\\n\",\n",
      "    \"### open(\\\" file_path \\\" , \\\" permission \\\") == open given file with given permisson\\n\",\n",
      "    \"### \\\"w\\\" = write mode (which overwrite file)\\n\",\n",
      "    \"### \\\"a\\\" = write mode (which append at end of  file)\\n\",\n",
      "    \"### \\\"r\\\" = read mode\\n\",\n",
      "    \"\\n\",\n",
      "    \"# f.readlines()\\n\",\n",
      "    \"### read() == return whole file in string\\n\",\n",
      "    \"### readline() == return first line of file\\n\",\n",
      "    \"### readlines() == return list of all lines \\n\",\n",
      "    \"\\n\",\n",
      "    \"# f.close() to close opened file\"\n",
      "   ]\n",
      "  },\n",
      "  {\n",
      "   \"cell_type\": \"markdown\",\n",
      "   \"metadata\": {},\n",
      "   \"source\": [\n",
      "    \"## Simple Example of Character Encoding and Decoding\\n\",\n",
      "    \"## use this to encode and decode files\"\n",
      "   ]\n",
      "  },\n",
      "  {\n",
      "   \"cell_type\": \"code\",\n",
      "   \"execution_count\": 1,\n",
      "   \"metadata\": {},\n",
      "   \"outputs\": [\n",
      "    {\n",
      "     \"name\": \"stdout\",\n",
      "     \"output_type\": \"stream\",\n",
      "     \"text\": [\n",
      "      \"abcdefghijklmnopqrstuvwxyzABCDEFGHIJKLMNOPQRSTUVWXYZ\\n\",\n",
      "      \"URXjqYOguKkbANeSiZECMQHPIvGzncBVpmwDhadTsxLWJfrloytF\\n\",\n",
      "      \"abc encoded :  URX\\n\",\n",
      "      \"xyz encoded :  PIv\\n\",\n",
      "      \"hello encoded :  gqbbe\\n\"\n",
      "     ]\n",
      "    }\n",
      "   ],\n",
      "   \"source\": [\n",
      "    \"s = \\\"abcdefghijklmnopqrstuvwxyzABCDEFGHIJKLMNOPQRSTUVWXYZ\\\"\\n\",\n",
      "    \"print(s)\\n\",\n",
      "    \"b = \\\"URXjqYOguKkbANeSiZECMQHPIvGzncBVpmwDhadTsxLWJfrloytF\\\"\\n\",\n",
      "    \"print(b)\\n\",\n",
      "    \"\\n\",\n",
      "    \"def encode(word):\\n\",\n",
      "    \"    x = \\\"\\\"\\n\",\n",
      "    \"    for i in word:\\n\",\n",
      "    \"        x += b[s.find(i)]\\n\",\n",
      "    \"    return x\\n\",\n",
      "    \"        \\n\",\n",
      "    \"print(\\\"abc encoded : \\\",encode(\\\"abc\\\"))\\n\",\n",
      "    \"print(\\\"xyz encoded : \\\",encode(\\\"xyz\\\"))\\n\",\n",
      "    \"print(\\\"hello encoded : \\\",encode(\\\"hello\\\"))\"\n",
      "   ]\n",
      "  },\n",
      "  {\n",
      "   \"cell_type\": \"code\",\n",
      "   \"execution_count\": 2,\n",
      "   \"metadata\": {},\n",
      "   \"outputs\": [\n",
      "    {\n",
      "     \"name\": \"stdout\",\n",
      "     \"output_type\": \"stream\",\n",
      "     \"text\": [\n",
      "      \"abcdefghijklmnopqrstuvwxyzABCDEFGHIJKLMNOPQRSTUVWXYZ\\n\",\n",
      "      \"URXjqYOguKkbANeSiZECMQHPIvGzncBVpmwDhadTsxLWJfrloytF\\n\",\n",
      "      \"URX decoded :  abc\\n\",\n",
      "      \"PIv decoded :  xyz\\n\",\n",
      "      \"gqbbe decoded :  hello\\n\"\n",
      "     ]\n",
      "    }\n",
      "   ],\n",
      "   \"source\": [\n",
      "    \"s = \\\"abcdefghijklmnopqrstuvwxyzABCDEFGHIJKLMNOPQRSTUVWXYZ\\\"\\n\",\n",
      "    \"print(s)\\n\",\n",
      "    \"b = \\\"URXjqYOguKkbANeSiZECMQHPIvGzncBVpmwDhadTsxLWJfrloytF\\\"\\n\",\n",
      "    \"print(b)\\n\",\n",
      "    \"\\n\",\n",
      "    \"def decode(word):\\n\",\n",
      "    \"    x = \\\"\\\"\\n\",\n",
      "    \"    for i in word:\\n\",\n",
      "    \"        x += s[b.find(i)]\\n\",\n",
      "    \"    return x\\n\",\n",
      "    \"        \\n\",\n",
      "    \"print(\\\"URX decoded : \\\",decode(\\\"URX\\\"))\\n\",\n",
      "    \"print(\\\"PIv decoded : \\\",decode(\\\"PIv\\\"))\\n\",\n",
      "    \"print(\\\"gqbbe decoded : \\\",decode(\\\"gqbbe\\\"))\"\n",
      "   ]\n",
      "  },\n",
      "  {\n",
      "   \"cell_type\": \"markdown\",\n",
      "   \"metadata\": {\n",
      "    \"id\": \"A97RmQaYTPgd\"\n",
      "   },\n",
      "   \"source\": [\n",
      "    \"# A\"\n",
      "   ]\n",
      "  },\n",
      "  {\n",
      "   \"cell_type\": \"markdown\",\n",
      "   \"metadata\": {\n",
      "    \"id\": \"od-WISIcTPge\"\n",
      "   },\n",
      "   \"source\": [\n",
      "    \"### 01) WAP to read entire file named abc.txt\"\n",
      "   ]\n",
      "  },\n",
      "  {\n",
      "   \"cell_type\": \"code\",\n",
      "   \"execution_count\": 5,\n",
      "   \"metadata\": {\n",
      "    \"id\": \"2THz-NwJTPge\",\n",
      "    \"outputId\": \"9012361b-4976-4566-a06d-9f257d079352\"\n",
      "   },\n",
      "   \"outputs\": [\n",
      "    {\n",
      "     \"name\": \"stdout\",\n",
      "     \"output_type\": \"stream\",\n",
      "     \"text\": [\n",
      "      \"Lorem ipsum dolor sit amet, consectetur adipiscing elit, sed do eiusmod tempor incididunt ut labore et dolore magna aliqua. Tristique sollicitudin nibh sit amet. Euismod elementum nisi quis eleifend quam adipiscing vitae. Feugiat in fermentum posuere urna nec tincidunt praesent. Sit amet consectetur adipiscing elit pellentesque habitant. Ut placerat orci nulla pellentesque dignissim. Laoreet id donec ultrices tincidunt arcu non sodales neque. Rhoncus dolor purus non enim. Cursus eget nunc scelerisque viverra. Scelerisque eu ultrices vitae auctor eu augue. Potenti nullam ac tortor vitae purus faucibus. Porttitor massa id neque aliquam vestibulum morbi blandit cursus risus. Dolor morbi non arcu risus quis varius. Lacus vestibulum sed arcu non odio euismod lacinia. Lobortis feugiat vivamus at augue eget arcu dictum varius. Fames ac turpis egestas maecenas. In nisl nisi scelerisque eu ultrices vitae auctor eu. Eget nunc scelerisque viverra mauris.\\n\"\n",
      "     ]\n",
      "    }\n",
      "   ],\n",
      "   \"source\": [\n",
      "    \"Fileobject=open(\\\"abc.txt\\\",\\\"r\\\")\\n\",\n",
      "    \"print(\\\"\\\".join(Fileobject.readlines()))\"\n",
      "   ]\n",
      "  },\n",
      "  {\n",
      "   \"cell_type\": \"markdown\",\n",
      "   \"metadata\": {\n",
      "    \"id\": \"dw7WR9pyTPgf\"\n",
      "   },\n",
      "   \"source\": [\n",
      "    \"### 02) WAP to print program it self on console.\"\n",
      "   ]\n",
      "  },\n",
      "  {\n",
      "   \"cell_type\": \"code\",\n",
      "   \"execution_count\": 22,\n",
      "   \"metadata\": {\n",
      "    \"colab\": {\n",
      "     \"base_uri\": \"https://localhost:8080/\",\n",
      "     \"height\": 192\n",
      "    },\n",
      "    \"executionInfo\": {\n",
      "     \"elapsed\": 5,\n",
      "     \"status\": \"error\",\n",
      "     \"timestamp\": 1706841915158,\n",
      "     \"user\": {\n",
      "      \"displayName\": \"Tej Patel\",\n",
      "      \"userId\": \"04032777318747107215\"\n",
      "     },\n",
      "     \"user_tz\": -330\n",
      "    },\n",
      "    \"id\": \"9Lu5xWYGTPgf\",\n",
      "    \"outputId\": \"75fb1079-d9c9-465a-ee43-d57dbf85f143\"\n",
      "   },\n",
      "   \"outputs\": [\n",
      "    {\n",
      "     \"name\": \"stdout\",\n",
      "     \"output_type\": \"stream\",\n",
      "     \"text\": [\n",
      "      \"['{\\\\n', ' \\\"cells\\\": [\\\\n', '  {\\\\n', '   \\\"cell_type\\\": \\\"markdown\\\",\\\\n', '   \\\"metadata\\\": {\\\\n', '    \\\"id\\\": \\\"I36ZtkY_TPga\\\"\\\\n', '   },\\\\n', '   \\\"source\\\": [\\\\n', '    \\\"<a href=\\\\'https://www.darshan.ac.in/\\\\'> <img src=\\\\'https://www.darshan.ac.in/Content/media/DU_Logo.svg\\\\' width=\\\\\\\\\\\"250\\\\\\\\\\\" height=\\\\\\\\\\\"300\\\\\\\\\\\"/></a>\\\\\\\\n\\\",\\\\n', '    \\\"<pre>\\\\\\\\n\\\",\\\\n', '    \\\"<center><b><h1>Python Programming - 2101CS405</b></center>\\\\\\\\n\\\",\\\\n', '    \\\"<center><b><h1>Lab - 8</b></center>    \\\\\\\\n\\\",\\\\n', '    \\\"<pre>\\\"\\\\n', '   ]\\\\n', '  },\\\\n', '  {\\\\n', '   \\\"cell_type\\\": \\\"markdown\\\",\\\\n', '   \\\"metadata\\\": {},\\\\n', '   \\\"source\\\": [\\\\n', '    \\\"## Name :: { }\\\\\\\\n\\\",\\\\n', '    \\\"## Enrollment :: { }\\\\\\\\n\\\",\\\\n', '    \\\"## Date :: { }\\\"\\\\n', '   ]\\\\n', '  },\\\\n', '  {\\\\n', '   \\\"cell_type\\\": \\\"markdown\\\",\\\\n', '   \\\"metadata\\\": {\\\\n', '    \\\"id\\\": \\\"xBdreJBkTPgd\\\"\\\\n', '   },\\\\n', '   \\\"source\\\": [\\\\n', '    \\\"# File handling\\\"\\\\n', '   ]\\\\n', '  },\\\\n', '  {\\\\n', '   \\\"cell_type\\\": \\\"markdown\\\",\\\\n', '   \\\"metadata\\\": {},\\\\n', '   \\\"source\\\": [\\\\n', '    \\\"# f= open(\\\\\\\\\\\"abc.txt\\\\\\\\\\\",\\\\\\\\\\\"r\\\\\\\\\\\")\\\\\\\\n\\\",\\\\n', '    \\\"### open(\\\\\\\\\\\" file_path \\\\\\\\\\\" , \\\\\\\\\\\" permission \\\\\\\\\\\") == open given file with given permisson\\\\\\\\n\\\",\\\\n', '    \\\"### \\\\\\\\\\\"w\\\\\\\\\\\" = write mode (which overwrite file)\\\\\\\\n\\\",\\\\n', '    \\\"### \\\\\\\\\\\"a\\\\\\\\\\\" = write mode (which append at end of  file)\\\\\\\\n\\\",\\\\n', '    \\\"### \\\\\\\\\\\"r\\\\\\\\\\\" = read mode\\\\\\\\n\\\",\\\\n', '    \\\"\\\\\\\\n\\\",\\\\n', '    \\\"# f.readlines()\\\\\\\\n\\\",\\\\n', '    \\\"### read() == return whole file in string\\\\\\\\n\\\",\\\\n', '    \\\"### readline() == return first line of file\\\\\\\\n\\\",\\\\n', '    \\\"### readlines() == return list of all lines \\\\\\\\n\\\",\\\\n', '    \\\"\\\\\\\\n\\\",\\\\n', '    \\\"# f.close() to close opened file\\\"\\\\n', '   ]\\\\n', '  },\\\\n', '  {\\\\n', '   \\\"cell_type\\\": \\\"markdown\\\",\\\\n', '   \\\"metadata\\\": {},\\\\n', '   \\\"source\\\": [\\\\n', '    \\\"## Simple Example of Character Encoding and Decoding\\\\\\\\n\\\",\\\\n', '    \\\"## use this to encode and decode files\\\"\\\\n', '   ]\\\\n', '  },\\\\n', '  {\\\\n', '   \\\"cell_type\\\": \\\"code\\\",\\\\n', '   \\\"execution_count\\\": 1,\\\\n', '   \\\"metadata\\\": {},\\\\n', '   \\\"outputs\\\": [\\\\n', '    {\\\\n', '     \\\"name\\\": \\\"stdout\\\",\\\\n', '     \\\"output_type\\\": \\\"stream\\\",\\\\n', '     \\\"text\\\": [\\\\n', '      \\\"abcdefghijklmnopqrstuvwxyzABCDEFGHIJKLMNOPQRSTUVWXYZ\\\\\\\\n\\\",\\\\n', '      \\\"URXjqYOguKkbANeSiZECMQHPIvGzncBVpmwDhadTsxLWJfrloytF\\\\\\\\n\\\",\\\\n', '      \\\"abc encoded :  URX\\\\\\\\n\\\",\\\\n', '      \\\"xyz encoded :  PIv\\\\\\\\n\\\",\\\\n', '      \\\"hello encoded :  gqbbe\\\\\\\\n\\\"\\\\n', '     ]\\\\n', '    }\\\\n', '   ],\\\\n', '   \\\"source\\\": [\\\\n', '    \\\"s = \\\\\\\\\\\"abcdefghijklmnopqrstuvwxyzABCDEFGHIJKLMNOPQRSTUVWXYZ\\\\\\\\\\\"\\\\\\\\n\\\",\\\\n', '    \\\"print(s)\\\\\\\\n\\\",\\\\n', '    \\\"b = \\\\\\\\\\\"URXjqYOguKkbANeSiZECMQHPIvGzncBVpmwDhadTsxLWJfrloytF\\\\\\\\\\\"\\\\\\\\n\\\",\\\\n', '    \\\"print(b)\\\\\\\\n\\\",\\\\n', '    \\\"\\\\\\\\n\\\",\\\\n', '    \\\"def encode(word):\\\\\\\\n\\\",\\\\n', '    \\\"    x = \\\\\\\\\\\"\\\\\\\\\\\"\\\\\\\\n\\\",\\\\n', '    \\\"    for i in word:\\\\\\\\n\\\",\\\\n', '    \\\"        x += b[s.find(i)]\\\\\\\\n\\\",\\\\n', '    \\\"    return x\\\\\\\\n\\\",\\\\n', '    \\\"        \\\\\\\\n\\\",\\\\n', '    \\\"print(\\\\\\\\\\\"abc encoded : \\\\\\\\\\\",encode(\\\\\\\\\\\"abc\\\\\\\\\\\"))\\\\\\\\n\\\",\\\\n', '    \\\"print(\\\\\\\\\\\"xyz encoded : \\\\\\\\\\\",encode(\\\\\\\\\\\"xyz\\\\\\\\\\\"))\\\\\\\\n\\\",\\\\n', '    \\\"print(\\\\\\\\\\\"hello encoded : \\\\\\\\\\\",encode(\\\\\\\\\\\"hello\\\\\\\\\\\"))\\\"\\\\n', '   ]\\\\n', '  },\\\\n', '  {\\\\n', '   \\\"cell_type\\\": \\\"code\\\",\\\\n', '   \\\"execution_count\\\": 2,\\\\n', '   \\\"metadata\\\": {},\\\\n', '   \\\"outputs\\\": [\\\\n', '    {\\\\n', '     \\\"name\\\": \\\"stdout\\\",\\\\n', '     \\\"output_type\\\": \\\"stream\\\",\\\\n', '     \\\"text\\\": [\\\\n', '      \\\"abcdefghijklmnopqrstuvwxyzABCDEFGHIJKLMNOPQRSTUVWXYZ\\\\\\\\n\\\",\\\\n', '      \\\"URXjqYOguKkbANeSiZECMQHPIvGzncBVpmwDhadTsxLWJfrloytF\\\\\\\\n\\\",\\\\n', '      \\\"URX decoded :  abc\\\\\\\\n\\\",\\\\n', '      \\\"PIv decoded :  xyz\\\\\\\\n\\\",\\\\n', '      \\\"gqbbe decoded :  hello\\\\\\\\n\\\"\\\\n', '     ]\\\\n', '    }\\\\n', '   ],\\\\n', '   \\\"source\\\": [\\\\n', '    \\\"s = \\\\\\\\\\\"abcdefghijklmnopqrstuvwxyzABCDEFGHIJKLMNOPQRSTUVWXYZ\\\\\\\\\\\"\\\\\\\\n\\\",\\\\n', '    \\\"print(s)\\\\\\\\n\\\",\\\\n', '    \\\"b = \\\\\\\\\\\"URXjqYOguKkbANeSiZECMQHPIvGzncBVpmwDhadTsxLWJfrloytF\\\\\\\\\\\"\\\\\\\\n\\\",\\\\n', '    \\\"print(b)\\\\\\\\n\\\",\\\\n', '    \\\"\\\\\\\\n\\\",\\\\n', '    \\\"def decode(word):\\\\\\\\n\\\",\\\\n', '    \\\"    x = \\\\\\\\\\\"\\\\\\\\\\\"\\\\\\\\n\\\",\\\\n', '    \\\"    for i in word:\\\\\\\\n\\\",\\\\n', '    \\\"        x += s[b.find(i)]\\\\\\\\n\\\",\\\\n', '    \\\"    return x\\\\\\\\n\\\",\\\\n', '    \\\"        \\\\\\\\n\\\",\\\\n', '    \\\"print(\\\\\\\\\\\"URX decoded : \\\\\\\\\\\",decode(\\\\\\\\\\\"URX\\\\\\\\\\\"))\\\\\\\\n\\\",\\\\n', '    \\\"print(\\\\\\\\\\\"PIv decoded : \\\\\\\\\\\",decode(\\\\\\\\\\\"PIv\\\\\\\\\\\"))\\\\\\\\n\\\",\\\\n', '    \\\"print(\\\\\\\\\\\"gqbbe decoded : \\\\\\\\\\\",decode(\\\\\\\\\\\"gqbbe\\\\\\\\\\\"))\\\"\\\\n', '   ]\\\\n', '  },\\\\n', '  {\\\\n', '   \\\"cell_type\\\": \\\"markdown\\\",\\\\n', '   \\\"metadata\\\": {\\\\n', '    \\\"id\\\": \\\"A97RmQaYTPgd\\\"\\\\n', '   },\\\\n', '   \\\"source\\\": [\\\\n', '    \\\"# A\\\"\\\\n', '   ]\\\\n', '  },\\\\n', '  {\\\\n', '   \\\"cell_type\\\": \\\"markdown\\\",\\\\n', '   \\\"metadata\\\": {\\\\n', '    \\\"id\\\": \\\"od-WISIcTPge\\\"\\\\n', '   },\\\\n', '   \\\"source\\\": [\\\\n', '    \\\"### 01) WAP to read entire file named abc.txt\\\"\\\\n', '   ]\\\\n', '  },\\\\n', '  {\\\\n', '   \\\"cell_type\\\": \\\"code\\\",\\\\n', '   \\\"execution_count\\\": 5,\\\\n', '   \\\"metadata\\\": {\\\\n', '    \\\"id\\\": \\\"2THz-NwJTPge\\\",\\\\n', '    \\\"outputId\\\": \\\"9012361b-4976-4566-a06d-9f257d079352\\\"\\\\n', '   },\\\\n', '   \\\"outputs\\\": [\\\\n', '    {\\\\n', '     \\\"name\\\": \\\"stdout\\\",\\\\n', '     \\\"output_type\\\": \\\"stream\\\",\\\\n', '     \\\"text\\\": [\\\\n', '      \\\"Lorem ipsum dolor sit amet, consectetur adipiscing elit, sed do eiusmod tempor incididunt ut labore et dolore magna aliqua. Tristique sollicitudin nibh sit amet. Euismod elementum nisi quis eleifend quam adipiscing vitae. Feugiat in fermentum posuere urna nec tincidunt praesent. Sit amet consectetur adipiscing elit pellentesque habitant. Ut placerat orci nulla pellentesque dignissim. Laoreet id donec ultrices tincidunt arcu non sodales neque. Rhoncus dolor purus non enim. Cursus eget nunc scelerisque viverra. Scelerisque eu ultrices vitae auctor eu augue. Potenti nullam ac tortor vitae purus faucibus. Porttitor massa id neque aliquam vestibulum morbi blandit cursus risus. Dolor morbi non arcu risus quis varius. Lacus vestibulum sed arcu non odio euismod lacinia. Lobortis feugiat vivamus at augue eget arcu dictum varius. Fames ac turpis egestas maecenas. In nisl nisi scelerisque eu ultrices vitae auctor eu. Eget nunc scelerisque viverra mauris.\\\\\\\\n\\\"\\\\n', '     ]\\\\n', '    }\\\\n', '   ],\\\\n', '   \\\"source\\\": [\\\\n', '    \\\"Fileobject=open(\\\\\\\\\\\"abc.txt\\\\\\\\\\\",\\\\\\\\\\\"r\\\\\\\\\\\")\\\\\\\\n\\\",\\\\n', '    \\\"print(\\\\\\\\\\\"\\\\\\\\\\\".join(Fileobject.readlines()))\\\"\\\\n', '   ]\\\\n', '  },\\\\n', '  {\\\\n', '   \\\"cell_type\\\": \\\"markdown\\\",\\\\n', '   \\\"metadata\\\": {\\\\n', '    \\\"id\\\": \\\"dw7WR9pyTPgf\\\"\\\\n', '   },\\\\n', '   \\\"source\\\": [\\\\n', '    \\\"### 02) WAP to print program it self on console.\\\"\\\\n', '   ]\\\\n', '  },\\\\n', '  {\\\\n', '   \\\"cell_type\\\": \\\"code\\\",\\\\n', '   \\\"execution_count\\\": 19,\\\\n', '   \\\"metadata\\\": {\\\\n', '    \\\"colab\\\": {\\\\n', '     \\\"base_uri\\\": \\\"https://localhost:8080/\\\",\\\\n', '     \\\"height\\\": 192\\\\n', '    },\\\\n', '    \\\"executionInfo\\\": {\\\\n', '     \\\"elapsed\\\": 5,\\\\n', '     \\\"status\\\": \\\"error\\\",\\\\n', '     \\\"timestamp\\\": 1706841915158,\\\\n', '     \\\"user\\\": {\\\\n', '      \\\"displayName\\\": \\\"Tej Patel\\\",\\\\n', '      \\\"userId\\\": \\\"04032777318747107215\\\"\\\\n', '     },\\\\n', '     \\\"user_tz\\\": -330\\\\n', '    },\\\\n', '    \\\"id\\\": \\\"9Lu5xWYGTPgf\\\",\\\\n', '    \\\"outputId\\\": \\\"75fb1079-d9c9-465a-ee43-d57dbf85f143\\\"\\\\n', '   },\\\\n', '   \\\"outputs\\\": [\\\\n', '    {\\\\n', '     \\\"ename\\\": \\\"FileNotFoundError\\\",\\\\n', '     \\\"evalue\\\": \\\"[Errno 2] No such file or directory: \\\\'abc.ipynb\\\\'\\\",\\\\n', '     \\\"output_type\\\": \\\"error\\\",\\\\n', '     \\\"traceback\\\": [\\\\n', '      \\\"\\\\\\\\u001b[1;31m---------------------------------------------------------------------------\\\\\\\\u001b[0m\\\",\\\\n', '      \\\"\\\\\\\\u001b[1;31mFileNotFoundError\\\\\\\\u001b[0m                         Traceback (most recent call last)\\\",\\\\n', '      \\\"Cell \\\\\\\\u001b[1;32mIn[19], line 1\\\\\\\\u001b[0m\\\\\\\\n\\\\\\\\u001b[1;32m----> 1\\\\\\\\u001b[0m Fileobject\\\\\\\\u001b[38;5;241m=\\\\\\\\u001b[39m\\\\\\\\u001b[38;5;28;43mopen\\\\\\\\u001b[39;49m\\\\\\\\u001b[43m(\\\\\\\\u001b[49m\\\\\\\\u001b[38;5;124;43m\\\\\\\\\\\"\\\\\\\\u001b[39;49m\\\\\\\\u001b[38;5;124;43mabc.ipynb\\\\\\\\u001b[39;49m\\\\\\\\u001b[38;5;124;43m\\\\\\\\\\\"\\\\\\\\u001b[39;49m\\\\\\\\u001b[43m,\\\\\\\\u001b[49m\\\\\\\\u001b[38;5;124;43m\\\\\\\\\\\"\\\\\\\\u001b[39;49m\\\\\\\\u001b[38;5;124;43mr\\\\\\\\u001b[39;49m\\\\\\\\u001b[38;5;124;43m\\\\\\\\\\\"\\\\\\\\u001b[39;49m\\\\\\\\u001b[43m)\\\\\\\\u001b[49m\\\\\\\\n\\\\\\\\u001b[0;32m      2\\\\\\\\u001b[0m \\\\\\\\u001b[38;5;28mprint\\\\\\\\u001b[39m(\\\\\\\\u001b[38;5;124m\\\\\\\\\\\"\\\\\\\\u001b[39m\\\\\\\\u001b[38;5;124m\\\\\\\\\\\"\\\\\\\\u001b[39m\\\\\\\\u001b[38;5;241m.\\\\\\\\u001b[39mjoin(Fileobject\\\\\\\\u001b[38;5;241m.\\\\\\\\u001b[39mreadlines()))\\\\\\\\n\\\",\\\\n', '      \\\"File \\\\\\\\u001b[1;32mD:\\\\\\\\\\\\\\\\python\\\\\\\\\\\\\\\\Lib\\\\\\\\\\\\\\\\site-packages\\\\\\\\\\\\\\\\IPython\\\\\\\\\\\\\\\\core\\\\\\\\\\\\\\\\interactiveshell.py:310\\\\\\\\u001b[0m, in \\\\\\\\u001b[0;36m_modified_open\\\\\\\\u001b[1;34m(file, *args, **kwargs)\\\\\\\\u001b[0m\\\\\\\\n\\\\\\\\u001b[0;32m    303\\\\\\\\u001b[0m \\\\\\\\u001b[38;5;28;01mif\\\\\\\\u001b[39;00m file \\\\\\\\u001b[38;5;129;01min\\\\\\\\u001b[39;00m {\\\\\\\\u001b[38;5;241m0\\\\\\\\u001b[39m, \\\\\\\\u001b[38;5;241m1\\\\\\\\u001b[39m, \\\\\\\\u001b[38;5;241m2\\\\\\\\u001b[39m}:\\\\\\\\n\\\\\\\\u001b[0;32m    304\\\\\\\\u001b[0m     \\\\\\\\u001b[38;5;28;01mraise\\\\\\\\u001b[39;00m \\\\\\\\u001b[38;5;167;01mValueError\\\\\\\\u001b[39;00m(\\\\\\\\n\\\\\\\\u001b[0;32m    305\\\\\\\\u001b[0m         \\\\\\\\u001b[38;5;124mf\\\\\\\\u001b[39m\\\\\\\\u001b[38;5;124m\\\\\\\\\\\"\\\\\\\\u001b[39m\\\\\\\\u001b[38;5;124mIPython won\\\\\\\\u001b[39m\\\\\\\\u001b[38;5;124m\\\\'\\\\\\\\u001b[39m\\\\\\\\u001b[38;5;124mt let you open fd=\\\\\\\\u001b[39m\\\\\\\\u001b[38;5;132;01m{\\\\\\\\u001b[39;00mfile\\\\\\\\u001b[38;5;132;01m}\\\\\\\\u001b[39;00m\\\\\\\\u001b[38;5;124m by default \\\\\\\\u001b[39m\\\\\\\\u001b[38;5;124m\\\\\\\\\\\"\\\\\\\\u001b[39m\\\\\\\\n\\\\\\\\u001b[0;32m    306\\\\\\\\u001b[0m         \\\\\\\\u001b[38;5;124m\\\\\\\\\\\"\\\\\\\\u001b[39m\\\\\\\\u001b[38;5;124mas it is likely to crash IPython. If you know what you are doing, \\\\\\\\u001b[39m\\\\\\\\u001b[38;5;124m\\\\\\\\\\\"\\\\\\\\u001b[39m\\\\\\\\n\\\\\\\\u001b[0;32m    307\\\\\\\\u001b[0m         \\\\\\\\u001b[38;5;124m\\\\\\\\\\\"\\\\\\\\u001b[39m\\\\\\\\u001b[38;5;124myou can use builtins\\\\\\\\u001b[39m\\\\\\\\u001b[38;5;124m\\\\'\\\\\\\\u001b[39m\\\\\\\\u001b[38;5;124m open.\\\\\\\\u001b[39m\\\\\\\\u001b[38;5;124m\\\\\\\\\\\"\\\\\\\\u001b[39m\\\\\\\\n\\\\\\\\u001b[0;32m    308\\\\\\\\u001b[0m     )\\\\\\\\n\\\\\\\\u001b[1;32m--> 310\\\\\\\\u001b[0m \\\\\\\\u001b[38;5;28;01mreturn\\\\\\\\u001b[39;00m \\\\\\\\u001b[43mio_open\\\\\\\\u001b[49m\\\\\\\\u001b[43m(\\\\\\\\u001b[49m\\\\\\\\u001b[43mfile\\\\\\\\u001b[49m\\\\\\\\u001b[43m,\\\\\\\\u001b[49m\\\\\\\\u001b[43m \\\\\\\\u001b[49m\\\\\\\\u001b[38;5;241;43m*\\\\\\\\u001b[39;49m\\\\\\\\u001b[43margs\\\\\\\\u001b[49m\\\\\\\\u001b[43m,\\\\\\\\u001b[49m\\\\\\\\u001b[43m \\\\\\\\u001b[49m\\\\\\\\u001b[38;5;241;43m*\\\\\\\\u001b[39;49m\\\\\\\\u001b[38;5;241;43m*\\\\\\\\u001b[39;49m\\\\\\\\u001b[43mkwargs\\\\\\\\u001b[49m\\\\\\\\u001b[43m)\\\\\\\\u001b[49m\\\\\\\\n\\\",\\\\n', '      \\\"\\\\\\\\u001b[1;31mFileNotFoundError\\\\\\\\u001b[0m: [Errno 2] No such file or directory: \\\\'abc.ipynb\\\\'\\\"\\\\n', '     ]\\\\n', '    }\\\\n', '   ],\\\\n', '   \\\"source\\\": []\\\\n', '  },\\\\n', '  {\\\\n', '   \\\"cell_type\\\": \\\"markdown\\\",\\\\n', '   \\\"metadata\\\": {\\\\n', '    \\\"id\\\": \\\"TZgCdZrCTPgg\\\"\\\\n', '   },\\\\n', '   \\\"source\\\": [\\\\n', '    \\\"### 03) WAP to read first 5 lines from the file named abc.txt\\\"\\\\n', '   ]\\\\n', '  },\\\\n', '  {\\\\n', '   \\\"cell_type\\\": \\\"code\\\",\\\\n', '   \\\"execution_count\\\": 17,\\\\n', '   \\\"metadata\\\": {\\\\n', '    \\\"id\\\": \\\"PaMKPMlETPgg\\\",\\\\n', '    \\\"outputId\\\": \\\"df4daab5-8a4f-4efb-fc05-d869df22fcb7\\\"\\\\n', '   },\\\\n', '   \\\"outputs\\\": [\\\\n', '    {\\\\n', '     \\\"name\\\": \\\"stdin\\\",\\\\n', '     \\\"output_type\\\": \\\"stream\\\",\\\\n', '     \\\"text\\\": [\\\\n', '      \\\"Enter number:- 5\\\\\\\\n\\\"\\\\n', '     ]\\\\n', '    },\\\\n', '    {\\\\n', '     \\\"name\\\": \\\"stdout\\\",\\\\n', '     \\\"output_type\\\": \\\"stream\\\",\\\\n', '     \\\"text\\\": [\\\\n', '      \\\"Lorem ipsum dolor sit amet, consectetur adipiscing elit, sed do eiusmod tempor incididunt ut labore et dolore magna aliqua. \\\\\\\\n\\\",\\\\n', '      \\\"\\\\\\\\n\\\",\\\\n', '      \\\"Tristique sollicitudin nibh sit amet. Euismod elementum nisi quis eleifend quam adipiscing vitae. \\\\\\\\n\\\",\\\\n', '      \\\"\\\\\\\\n\\\",\\\\n', '      \\\"Feugiat in fermentum posuere urna nec tincidunt praesent. \\\\\\\\n\\\",\\\\n', '      \\\"\\\\\\\\n\\\",\\\\n', '      \\\"Sit amet consectetur adipiscing elit pellentesque habitant. \\\\\\\\n\\\",\\\\n', '      \\\"\\\\\\\\n\\\",\\\\n', '      \\\"Ut placerat orci nulla pellentesque dignissim. \\\\\\\\n\\\",\\\\n', '      \\\"\\\\\\\\n\\\"\\\\n', '     ]\\\\n', '    }\\\\n', '   ],\\\\n', '   \\\"source\\\": [\\\\n', '    \\\"number=int(input(\\\\\\\\\\\"Enter number:-\\\\\\\\\\\"))\\\\\\\\n\\\",\\\\n', '    \\\"File=open(\\\\\\\\\\\"abc.txt\\\\\\\\\\\",\\\\\\\\\\\"r\\\\\\\\\\\")\\\\\\\\n\\\",\\\\n', '    \\\"for i in range(number):\\\\\\\\n\\\",\\\\n', '    \\\"    print(File.readline())\\\"\\\\n', '   ]\\\\n', '  },\\\\n', '  {\\\\n', '   \\\"cell_type\\\": \\\"markdown\\\",\\\\n', '   \\\"metadata\\\": {\\\\n', '    \\\"id\\\": \\\"q-YevoPZTPgg\\\"\\\\n', '   },\\\\n', '   \\\"source\\\": [\\\\n', '    \\\"### 04) WAP to find the longest word in a file named abc.txt\\\"\\\\n', '   ]\\\\n', '  },\\\\n', '  {\\\\n', '   \\\"cell_type\\\": \\\"code\\\",\\\\n', '   \\\"execution_count\\\": 4,\\\\n', '   \\\"metadata\\\": {\\\\n', '    \\\"id\\\": \\\"-nFvgaoRTPgg\\\",\\\\n', '    \\\"outputId\\\": \\\"5e80bbfe-c20a-4ccd-b5f3-7f76e9b5461f\\\"\\\\n', '   },\\\\n', '   \\\"outputs\\\": [\\\\n', '    {\\\\n', '     \\\"name\\\": \\\"stdout\\\",\\\\n', '     \\\"output_type\\\": \\\"stream\\\",\\\\n', '     \\\"text\\\": [\\\\n', '      \\\"sollicitudin\\\\\\\\n\\\"\\\\n', '     ]\\\\n', '    }\\\\n', '   ],\\\\n', '   \\\"source\\\": []\\\\n', '  },\\\\n', '  {\\\\n', '   \\\"cell_type\\\": \\\"markdown\\\",\\\\n', '   \\\"metadata\\\": {\\\\n', '    \\\"id\\\": \\\"DvMAEtYiTPgh\\\"\\\\n', '   },\\\\n', '   \\\"source\\\": [\\\\n', '    \\\"### 05) WAP to find the size of the file named abc.txt\\\"\\\\n', '   ]\\\\n', '  },\\\\n', '  {\\\\n', '   \\\"cell_type\\\": \\\"code\\\",\\\\n', '   \\\"execution_count\\\": 6,\\\\n', '   \\\"metadata\\\": {\\\\n', '    \\\"id\\\": \\\"qzFSYd-5TPgh\\\",\\\\n', '    \\\"outputId\\\": \\\"f474b5d3-fb48-4fa8-b22d-93c562fe3daf\\\"\\\\n', '   },\\\\n', '   \\\"outputs\\\": [\\\\n', '    {\\\\n', '     \\\"name\\\": \\\"stdout\\\",\\\\n', '     \\\"output_type\\\": \\\"stream\\\",\\\\n', '     \\\"text\\\": [\\\\n', '      \\\"993\\\\\\\\n\\\"\\\\n', '     ]\\\\n', '    }\\\\n', '   ],\\\\n', '   \\\"source\\\": [\\\\n', '    \\\"\\\\\\\\n\\\"\\\\n', '   ]\\\\n', '  },\\\\n', '  {\\\\n', '   \\\"cell_type\\\": \\\"markdown\\\",\\\\n', '   \\\"metadata\\\": {\\\\n', '    \\\"id\\\": \\\"kJLGBHk1TPgh\\\"\\\\n', '   },\\\\n', '   \\\"source\\\": [\\\\n', '    \\\"### 06) WAP to implement search function to search specific occurance of word in a given text file.\\\"\\\\n', '   ]\\\\n', '  },\\\\n', '  {\\\\n', '   \\\"cell_type\\\": \\\"markdown\\\",\\\\n', '   \\\"metadata\\\": {},\\\\n', '   \\\"source\\\": [\\\\n', '    \\\"## find for case sensitive and case insensitive\\\"\\\\n', '   ]\\\\n', '  },\\\\n', '  {\\\\n', '   \\\"cell_type\\\": \\\"code\\\",\\\\n', '   \\\"execution_count\\\": 9,\\\\n', '   \\\"metadata\\\": {\\\\n', '    \\\"id\\\": \\\"tD4lzsmnTPgh\\\",\\\\n', '    \\\"outputId\\\": \\\"6b14f7eb-70e4-4810-fa16-eedfab8d7a56\\\"\\\\n', '   },\\\\n', '   \\\"outputs\\\": [\\\\n', '    {\\\\n', '     \\\"name\\\": \\\"stdout\\\",\\\\n', '     \\\"output_type\\\": \\\"stream\\\",\\\\n', '     \\\"text\\\": [\\\\n', '      \\\"Enter Word For Search :  scelerisque\\\\\\\\n\\\"\\\\n', '     ]\\\\n', '    },\\\\n', '    {\\\\n', '     \\\"name\\\": \\\"stdout\\\",\\\\n', '     \\\"output_type\\\": \\\"stream\\\",\\\\n', '     \\\"text\\\": [\\\\n', '      \\\"4 occurence\\\\\\\\n\\\"\\\\n', '     ]\\\\n', '    }\\\\n', '   ],\\\\n', '   \\\"source\\\": []\\\\n', '  },\\\\n', '  {\\\\n', '   \\\"cell_type\\\": \\\"code\\\",\\\\n', '   \\\"execution_count\\\": 12,\\\\n', '   \\\"metadata\\\": {},\\\\n', '   \\\"outputs\\\": [\\\\n', '    {\\\\n', '     \\\"name\\\": \\\"stdout\\\",\\\\n', '     \\\"output_type\\\": \\\"stream\\\",\\\\n', '     \\\"text\\\": [\\\\n', '      \\\"Enter Word For Search :  scelerisque\\\\\\\\n\\\"\\\\n', '     ]\\\\n', '    },\\\\n', '    {\\\\n', '     \\\"name\\\": \\\"stdout\\\",\\\\n', '     \\\"output_type\\\": \\\"stream\\\",\\\\n', '     \\\"text\\\": [\\\\n', '      \\\"3 occurence\\\\\\\\n\\\"\\\\n', '     ]\\\\n', '    }\\\\n', '   ],\\\\n', '   \\\"source\\\": []\\\\n', '  },\\\\n', '  {\\\\n', '   \\\"cell_type\\\": \\\"markdown\\\",\\\\n', '   \\\"metadata\\\": {\\\\n', '    \\\"id\\\": \\\"L6REsnDATPgi\\\"\\\\n', '   },\\\\n', '   \\\"source\\\": [\\\\n', '    \\\"# B\\\"\\\\n', '   ]\\\\n', '  },\\\\n', '  {\\\\n', '   \\\"cell_type\\\": \\\"markdown\\\",\\\\n', '   \\\"metadata\\\": {\\\\n', '    \\\"id\\\": \\\"kHJlC4Y6TPgi\\\"\\\\n', '   },\\\\n', '   \\\"source\\\": [\\\\n', '    \\\"### 01) WAP to write first 100 prime numbers to a file named primenumbers.txt\\\\\\\\n\\\",\\\\n', '    \\\"(Note: each number should be in new line)\\\"\\\\n', '   ]\\\\n', '  },\\\\n', '  {\\\\n', '   \\\"cell_type\\\": \\\"code\\\",\\\\n', '   \\\"execution_count\\\": 15,\\\\n', '   \\\"metadata\\\": {\\\\n', '    \\\"id\\\": \\\"Exuwt3LUTPgi\\\"\\\\n', '   },\\\\n', '   \\\"outputs\\\": [\\\\n', '    {\\\\n', '     \\\"name\\\": \\\"stdout\\\",\\\\n', '     \\\"output_type\\\": \\\"stream\\\",\\\\n', '     \\\"text\\\": [\\\\n', '      \\\"2 3 5 7 11 13 17 19 23 29 31 37 41 43 47 53 59 61 67 71 73 79 83 89 97 \\\"\\\\n', '     ]\\\\n', '    }\\\\n', '   ],\\\\n', '   \\\"source\\\": [\\\\n', '    \\\"from prime import prime\\\"\\\\n', '   ]\\\\n', '  },\\\\n', '  {\\\\n', '   \\\"cell_type\\\": \\\"markdown\\\",\\\\n', '   \\\"metadata\\\": {\\\\n', '    \\\"id\\\": \\\"RiwS7zu9TPgi\\\"\\\\n', '   },\\\\n', '   \\\"source\\\": [\\\\n', '    \\\"### 02) WAP to merge two files and write it in a new file.\\\"\\\\n', '   ]\\\\n', '  },\\\\n', '  {\\\\n', '   \\\"cell_type\\\": \\\"code\\\",\\\\n', '   \\\"execution_count\\\": 17,\\\\n', '   \\\"metadata\\\": {\\\\n', '    \\\"id\\\": \\\"mbJst57RTPgi\\\"\\\\n', '   },\\\\n', '   \\\"outputs\\\": [],\\\\n', '   \\\"source\\\": []\\\\n', '  },\\\\n', '  {\\\\n', '   \\\"cell_type\\\": \\\"markdown\\\",\\\\n', '   \\\"metadata\\\": {\\\\n', '    \\\"id\\\": \\\"rvUXdk_HTPgj\\\"\\\\n', '   },\\\\n', '   \\\"source\\\": [\\\\n', '    \\\"### 03) WAP to encrypt a text file.\\\"\\\\n', '   ]\\\\n', '  },\\\\n', '  {\\\\n', '   \\\"cell_type\\\": \\\"code\\\",\\\\n', '   \\\"execution_count\\\": 3,\\\\n', '   \\\"metadata\\\": {\\\\n', '    \\\"colab\\\": {\\\\n', '     \\\"base_uri\\\": \\\"https://localhost:8080/\\\",\\\\n', '     \\\"height\\\": 290\\\\n', '    },\\\\n', '    \\\"executionInfo\\\": {\\\\n', '     \\\"elapsed\\\": 810346,\\\\n', '     \\\"status\\\": \\\"error\\\",\\\\n', '     \\\"timestamp\\\": 1704252480254,\\\\n', '     \\\"user\\\": {\\\\n', '      \\\"displayName\\\": \\\"Javiya Hit\\\",\\\\n', '      \\\"userId\\\": \\\"07658258706577815819\\\"\\\\n', '     },\\\\n', '     \\\"user_tz\\\": -330\\\\n', '    },\\\\n', '    \\\"id\\\": \\\"VzWMkuX5TPgj\\\",\\\\n', '    \\\"outputId\\\": \\\"0533eb74-4d4d-4001-ac6d-12b4183ff656\\\"\\\\n', '   },\\\\n', '   \\\"outputs\\\": [\\\\n', '    {\\\\n', '     \\\"name\\\": \\\"stdout\\\",\\\\n', '     \\\"output_type\\\": \\\"stream\\\",\\\\n', '     \\\"text\\\": [\\\\n', '      \\\"Enter Key :  23\\\\\\\\n\\\"\\\\n', '     ]\\\\n', '    }\\\\n', '   ],\\\\n', '   \\\"source\\\": []\\\\n', '  },\\\\n', '  {\\\\n', '   \\\"cell_type\\\": \\\"markdown\\\",\\\\n', '   \\\"metadata\\\": {\\\\n', '    \\\"id\\\": \\\"tH0WQ_KWTPgj\\\"\\\\n', '   },\\\\n', '   \\\"source\\\": [\\\\n', '    \\\"### 04) WAP to decrypt a previously encrypted file.\\\"\\\\n', '   ]\\\\n', '  },\\\\n', '  {\\\\n', '   \\\"cell_type\\\": \\\"code\\\",\\\\n', '   \\\"execution_count\\\": 4,\\\\n', '   \\\"metadata\\\": {\\\\n', '    \\\"id\\\": \\\"xMBZQxZ-TPgj\\\",\\\\n', '    \\\"outputId\\\": \\\"51bd33ea-d1fd-4d8e-c421-8a69fe715e1f\\\"\\\\n', '   },\\\\n', '   \\\"outputs\\\": [\\\\n', '    {\\\\n', '     \\\"name\\\": \\\"stdout\\\",\\\\n', '     \\\"output_type\\\": \\\"stream\\\",\\\\n', '     \\\"text\\\": [\\\\n', '      \\\"Enter Key :  23\\\\\\\\n\\\"\\\\n', '     ]\\\\n', '    }\\\\n', '   ],\\\\n', '   \\\"source\\\": []\\\\n', '  },\\\\n', '  {\\\\n', '   \\\"cell_type\\\": \\\"markdown\\\",\\\\n', '   \\\"metadata\\\": {\\\\n', '    \\\"id\\\": \\\"LDiFjfv5TPgj\\\"\\\\n', '   },\\\\n', '   \\\"source\\\": [\\\\n', '    \\\"### 05) WAP to remove a word from text file.\\\"\\\\n', '   ]\\\\n', '  },\\\\n', '  {\\\\n', '   \\\"cell_type\\\": \\\"code\\\",\\\\n', '   \\\"execution_count\\\": 56,\\\\n', '   \\\"metadata\\\": {\\\\n', '    \\\"id\\\": \\\"IeL9KPTLTPgk\\\",\\\\n', '    \\\"outputId\\\": \\\"961c121c-c3ac-4fa9-d599-23374dac4292\\\"\\\\n', '   },\\\\n', '   \\\"outputs\\\": [\\\\n', '    {\\\\n', '     \\\"name\\\": \\\"stdout\\\",\\\\n', '     \\\"output_type\\\": \\\"stream\\\",\\\\n', '     \\\"text\\\": [\\\\n', '      \\\"Enter word to remove:  dolor\\\\\\\\n\\\"\\\\n', '     ]\\\\n', '    },\\\\n', '    {\\\\n', '     \\\"name\\\": \\\"stdout\\\",\\\\n', '     \\\"output_type\\\": \\\"stream\\\",\\\\n', '     \\\"text\\\": [\\\\n', '      \\\"[\\\\'Lorem\\\\', \\\\'ipsum\\\\', \\\\'sit\\\\', \\\\'amet,\\\\', \\\\'consectetur\\\\', \\\\'adipiscing\\\\', \\\\'elit,\\\\', \\\\'sed\\\\', \\\\'do\\\\', \\\\'eiusmod\\\\', \\\\'tempor\\\\', \\\\'incididunt\\\\', \\\\'ut\\\\', \\\\'labore\\\\', \\\\'et\\\\', \\\\'dolore\\\\', \\\\'magna\\\\', \\\\'aliqua.\\\\', \\\\'Lacinia\\\\', \\\\'at\\\\', \\\\'quis\\\\', \\\\'risus\\\\', \\\\'sed\\\\', \\\\'vulputate.\\\\', \\\\'Ac\\\\', \\\\'tortor\\\\', \\\\'vitae\\\\', \\\\'purus\\\\', \\\\'faucibus.\\\\', \\\\'Sed\\\\', \\\\'ullamcorper\\\\', \\\\'morbi\\\\', \\\\'tincidunt\\\\', \\\\'ornare\\\\', \\\\'massa\\\\', \\\\'eget\\\\', \\\\'egestas.\\\\', \\\\'Facilisis\\\\', \\\\'sed\\\\', \\\\'odio\\\\', \\\\'morbi\\\\', \\\\'quis.\\\\', \\\\'Vulputate\\\\', \\\\'mi\\\\', \\\\'sit\\\\', \\\\'amet\\\\', \\\\'mauris\\\\', \\\\'commodo\\\\', \\\\'quis\\\\', \\\\'imperdiet\\\\', \\\\'massa.\\\\', \\\\'Purus\\\\', \\\\'in\\\\', \\\\'massa\\\\', \\\\'tempor\\\\', \\\\'nec\\\\', \\\\'feugiat\\\\', \\\\'dolor\\\\', \\\\'nisl\\\\', \\\\'pretium.\\\\', \\\\'Elementum\\\\', \\\\'nibh\\\\', \\\\'tellus\\\\', \\\\'molestie\\\\', \\\\'nunc\\\\', \\\\'non\\\\', \\\\'blandit.\\\\', \\\\'Purus\\\\', \\\\'ut\\\\', \\\\'faucibus\\\\', \\\\'pulvinar\\\\', \\\\'elementum\\\\', \\\\'integer\\\\', \\\\'enim\\\\', \\\\'neque.\\\\', \\\\'Nec\\\\', \\\\'nam\\\\', \\\\'aliquam\\\\', \\\\'sem\\\\', \\\\'et\\\\', \\\\'tortor\\\\', \\\\'dolor\\\\', \\\\'consequat\\\\', \\\\'id\\\\', \\\\'porta.\\\\', \\\\'Molestie\\\\', \\\\'a\\\\', \\\\'iaculis\\\\', \\\\'at\\\\', \\\\'erat.\\\\', \\\\'Maecenas\\\\', \\\\'ultricies\\\\', \\\\'mi\\\\', \\\\'eget\\\\', \\\\'mauris\\\\', \\\\'pharetra.\\\\', \\\\'Ut\\\\', \\\\'tellus\\\\', \\\\'elementum\\\\', \\\\'sagittis\\\\', \\\\'vitae\\\\', \\\\'et\\\\', \\\\'leo\\\\', \\\\'duis\\\\', \\\\'ut.\\\\', \\\\'Montes\\\\', \\\\'nascetur\\\\', \\\\'ridiculus\\\\', \\\\'mus\\\\', \\\\'mauris\\\\', \\\\'vitae\\\\', \\\\'ultricies\\\\', \\\\'leo\\\\', \\\\'integer\\\\', \\\\'malesuada.\\\\', \\\\'Senectus\\\\', \\\\'et\\\\', \\\\'netus\\\\', \\\\'et\\\\', \\\\'malesuada.\\\\', \\\\'Quis\\\\', \\\\'ipsum\\\\', \\\\'suspendisse\\\\', \\\\'ultrices\\\\', \\\\'gravida\\\\', \\\\'dictum\\\\', \\\\'fusce\\\\', \\\\'ut\\\\', \\\\'placerat.\\\\', \\\\'Nunc\\\\', \\\\'sed\\\\', \\\\'blandit\\\\', \\\\'libero\\\\', \\\\'volutpat\\\\', \\\\'sed\\\\', \\\\'cras\\\\', \\\\'ornare\\\\', \\\\'arcu.\\\\']\\\\\\\\n\\\"\\\\n', '     ]\\\\n', '    }\\\\n', '   ],\\\\n', '   \\\"source\\\": []\\\\n', '  }\\\\n', ' ],\\\\n', ' \\\"metadata\\\": {\\\\n', '  \\\"colab\\\": {\\\\n', '   \\\"provenance\\\": []\\\\n', '  },\\\\n', '  \\\"kernelspec\\\": {\\\\n', '   \\\"display_name\\\": \\\"Python 3 (ipykernel)\\\",\\\\n', '   \\\"language\\\": \\\"python\\\",\\\\n', '   \\\"name\\\": \\\"python3\\\"\\\\n', '  },\\\\n', '  \\\"language_info\\\": {\\\\n', '   \\\"codemirror_mode\\\": {\\\\n', '    \\\"name\\\": \\\"ipython\\\",\\\\n', '    \\\"version\\\": 3\\\\n', '   },\\\\n', '   \\\"file_extension\\\": \\\".py\\\",\\\\n', '   \\\"mimetype\\\": \\\"text/x-python\\\",\\\\n', '   \\\"name\\\": \\\"python\\\",\\\\n', '   \\\"nbconvert_exporter\\\": \\\"python\\\",\\\\n', '   \\\"pygments_lexer\\\": \\\"ipython3\\\",\\\\n', '   \\\"version\\\": \\\"3.12.1\\\"\\\\n', '  },\\\\n', '  \\\"vscode\\\": {\\\\n', '   \\\"interpreter\\\": {\\\\n', '    \\\"hash\\\": \\\"5238573367df39f7286bb46f9ff5f08f63a01a80960060ce41e3c79b190280fa\\\"\\\\n', '   }\\\\n', '  }\\\\n', ' },\\\\n', ' \\\"nbformat\\\": 4,\\\\n', ' \\\"nbformat_minor\\\": 4\\\\n', '}\\\\n']\\n\"\n",
      "     ]\n",
      "    }\n",
      "   ],\n",
      "   \"source\": [\n",
      "    \"file=open(\\\"Lab-8-Helper.ipynb\\\",\\\"r\\\")\\n\",\n",
      "    \"print(file.readlines())\"\n",
      "   ]\n",
      "  },\n",
      "  {\n",
      "   \"cell_type\": \"markdown\",\n",
      "   \"metadata\": {\n",
      "    \"id\": \"TZgCdZrCTPgg\"\n",
      "   },\n",
      "   \"source\": [\n",
      "    \"### 03) WAP to read first 5 lines from the file named abc.txt\"\n",
      "   ]\n",
      "  },\n",
      "  {\n",
      "   \"cell_type\": \"code\",\n",
      "   \"execution_count\": 17,\n",
      "   \"metadata\": {\n",
      "    \"id\": \"PaMKPMlETPgg\",\n",
      "    \"outputId\": \"df4daab5-8a4f-4efb-fc05-d869df22fcb7\"\n",
      "   },\n",
      "   \"outputs\": [\n",
      "    {\n",
      "     \"name\": \"stdin\",\n",
      "     \"output_type\": \"stream\",\n",
      "     \"text\": [\n",
      "      \"Enter number:- 5\\n\"\n",
      "     ]\n",
      "    },\n",
      "    {\n",
      "     \"name\": \"stdout\",\n",
      "     \"output_type\": \"stream\",\n",
      "     \"text\": [\n",
      "      \"Lorem ipsum dolor sit amet, consectetur adipiscing elit, sed do eiusmod tempor incididunt ut labore et dolore magna aliqua. \\n\",\n",
      "      \"\\n\",\n",
      "      \"Tristique sollicitudin nibh sit amet. Euismod elementum nisi quis eleifend quam adipiscing vitae. \\n\",\n",
      "      \"\\n\",\n",
      "      \"Feugiat in fermentum posuere urna nec tincidunt praesent. \\n\",\n",
      "      \"\\n\",\n",
      "      \"Sit amet consectetur adipiscing elit pellentesque habitant. \\n\",\n",
      "      \"\\n\",\n",
      "      \"Ut placerat orci nulla pellentesque dignissim. \\n\",\n",
      "      \"\\n\"\n",
      "     ]\n",
      "    }\n",
      "   ],\n",
      "   \"source\": [\n",
      "    \"number=int(input(\\\"Enter number:-\\\"))\\n\",\n",
      "    \"File=open(\\\"abc.txt\\\",\\\"r\\\")\\n\",\n",
      "    \"for i in range(number):\\n\",\n",
      "    \"    print(File.readline())\"\n",
      "   ]\n",
      "  },\n",
      "  {\n",
      "   \"cell_type\": \"markdown\",\n",
      "   \"metadata\": {\n",
      "    \"id\": \"q-YevoPZTPgg\"\n",
      "   },\n",
      "   \"source\": [\n",
      "    \"### 04) WAP to find the longest word in a file named abc.txt\"\n",
      "   ]\n",
      "  },\n",
      "  {\n",
      "   \"cell_type\": \"code\",\n",
      "   \"execution_count\": 4,\n",
      "   \"metadata\": {\n",
      "    \"id\": \"-nFvgaoRTPgg\",\n",
      "    \"outputId\": \"5e80bbfe-c20a-4ccd-b5f3-7f76e9b5461f\"\n",
      "   },\n",
      "   \"outputs\": [\n",
      "    {\n",
      "     \"name\": \"stdout\",\n",
      "     \"output_type\": \"stream\",\n",
      "     \"text\": [\n",
      "      \"sollicitudin\\n\"\n",
      "     ]\n",
      "    }\n",
      "   ],\n",
      "   \"source\": []\n",
      "  },\n",
      "  {\n",
      "   \"cell_type\": \"markdown\",\n",
      "   \"metadata\": {\n",
      "    \"id\": \"DvMAEtYiTPgh\"\n",
      "   },\n",
      "   \"source\": [\n",
      "    \"### 05) WAP to find the size of the file named abc.txt\"\n",
      "   ]\n",
      "  },\n",
      "  {\n",
      "   \"cell_type\": \"code\",\n",
      "   \"execution_count\": 6,\n",
      "   \"metadata\": {\n",
      "    \"id\": \"qzFSYd-5TPgh\",\n",
      "    \"outputId\": \"f474b5d3-fb48-4fa8-b22d-93c562fe3daf\"\n",
      "   },\n",
      "   \"outputs\": [\n",
      "    {\n",
      "     \"name\": \"stdout\",\n",
      "     \"output_type\": \"stream\",\n",
      "     \"text\": [\n",
      "      \"993\\n\"\n",
      "     ]\n",
      "    }\n",
      "   ],\n",
      "   \"source\": [\n",
      "    \"\\n\"\n",
      "   ]\n",
      "  },\n",
      "  {\n",
      "   \"cell_type\": \"markdown\",\n",
      "   \"metadata\": {\n",
      "    \"id\": \"kJLGBHk1TPgh\"\n",
      "   },\n",
      "   \"source\": [\n",
      "    \"### 06) WAP to implement search function to search specific occurance of word in a given text file.\"\n",
      "   ]\n",
      "  },\n",
      "  {\n",
      "   \"cell_type\": \"markdown\",\n",
      "   \"metadata\": {},\n",
      "   \"source\": [\n",
      "    \"## find for case sensitive and case insensitive\"\n",
      "   ]\n",
      "  },\n",
      "  {\n",
      "   \"cell_type\": \"code\",\n",
      "   \"execution_count\": 9,\n",
      "   \"metadata\": {\n",
      "    \"id\": \"tD4lzsmnTPgh\",\n",
      "    \"outputId\": \"6b14f7eb-70e4-4810-fa16-eedfab8d7a56\"\n",
      "   },\n",
      "   \"outputs\": [\n",
      "    {\n",
      "     \"name\": \"stdout\",\n",
      "     \"output_type\": \"stream\",\n",
      "     \"text\": [\n",
      "      \"Enter Word For Search :  scelerisque\\n\"\n",
      "     ]\n",
      "    },\n",
      "    {\n",
      "     \"name\": \"stdout\",\n",
      "     \"output_type\": \"stream\",\n",
      "     \"text\": [\n",
      "      \"4 occurence\\n\"\n",
      "     ]\n",
      "    }\n",
      "   ],\n",
      "   \"source\": []\n",
      "  },\n",
      "  {\n",
      "   \"cell_type\": \"code\",\n",
      "   \"execution_count\": 12,\n",
      "   \"metadata\": {},\n",
      "   \"outputs\": [\n",
      "    {\n",
      "     \"name\": \"stdout\",\n",
      "     \"output_type\": \"stream\",\n",
      "     \"text\": [\n",
      "      \"Enter Word For Search :  scelerisque\\n\"\n",
      "     ]\n",
      "    },\n",
      "    {\n",
      "     \"name\": \"stdout\",\n",
      "     \"output_type\": \"stream\",\n",
      "     \"text\": [\n",
      "      \"3 occurence\\n\"\n",
      "     ]\n",
      "    }\n",
      "   ],\n",
      "   \"source\": []\n",
      "  },\n",
      "  {\n",
      "   \"cell_type\": \"markdown\",\n",
      "   \"metadata\": {\n",
      "    \"id\": \"L6REsnDATPgi\"\n",
      "   },\n",
      "   \"source\": [\n",
      "    \"# B\"\n",
      "   ]\n",
      "  },\n",
      "  {\n",
      "   \"cell_type\": \"markdown\",\n",
      "   \"metadata\": {\n",
      "    \"id\": \"kHJlC4Y6TPgi\"\n",
      "   },\n",
      "   \"source\": [\n",
      "    \"### 01) WAP to write first 100 prime numbers to a file named primenumbers.txt\\n\",\n",
      "    \"(Note: each number should be in new line)\"\n",
      "   ]\n",
      "  },\n",
      "  {\n",
      "   \"cell_type\": \"code\",\n",
      "   \"execution_count\": 15,\n",
      "   \"metadata\": {\n",
      "    \"id\": \"Exuwt3LUTPgi\"\n",
      "   },\n",
      "   \"outputs\": [\n",
      "    {\n",
      "     \"name\": \"stdout\",\n",
      "     \"output_type\": \"stream\",\n",
      "     \"text\": [\n",
      "      \"2 3 5 7 11 13 17 19 23 29 31 37 41 43 47 53 59 61 67 71 73 79 83 89 97 \"\n",
      "     ]\n",
      "    }\n",
      "   ],\n",
      "   \"source\": [\n",
      "    \"from prime import prime\"\n",
      "   ]\n",
      "  },\n",
      "  {\n",
      "   \"cell_type\": \"markdown\",\n",
      "   \"metadata\": {\n",
      "    \"id\": \"RiwS7zu9TPgi\"\n",
      "   },\n",
      "   \"source\": [\n",
      "    \"### 02) WAP to merge two files and write it in a new file.\"\n",
      "   ]\n",
      "  },\n",
      "  {\n",
      "   \"cell_type\": \"code\",\n",
      "   \"execution_count\": 17,\n",
      "   \"metadata\": {\n",
      "    \"id\": \"mbJst57RTPgi\"\n",
      "   },\n",
      "   \"outputs\": [],\n",
      "   \"source\": []\n",
      "  },\n",
      "  {\n",
      "   \"cell_type\": \"markdown\",\n",
      "   \"metadata\": {\n",
      "    \"id\": \"rvUXdk_HTPgj\"\n",
      "   },\n",
      "   \"source\": [\n",
      "    \"### 03) WAP to encrypt a text file.\"\n",
      "   ]\n",
      "  },\n",
      "  {\n",
      "   \"cell_type\": \"code\",\n",
      "   \"execution_count\": 3,\n",
      "   \"metadata\": {\n",
      "    \"colab\": {\n",
      "     \"base_uri\": \"https://localhost:8080/\",\n",
      "     \"height\": 290\n",
      "    },\n",
      "    \"executionInfo\": {\n",
      "     \"elapsed\": 810346,\n",
      "     \"status\": \"error\",\n",
      "     \"timestamp\": 1704252480254,\n",
      "     \"user\": {\n",
      "      \"displayName\": \"Javiya Hit\",\n",
      "      \"userId\": \"07658258706577815819\"\n",
      "     },\n",
      "     \"user_tz\": -330\n",
      "    },\n",
      "    \"id\": \"VzWMkuX5TPgj\",\n",
      "    \"outputId\": \"0533eb74-4d4d-4001-ac6d-12b4183ff656\"\n",
      "   },\n",
      "   \"outputs\": [\n",
      "    {\n",
      "     \"name\": \"stdout\",\n",
      "     \"output_type\": \"stream\",\n",
      "     \"text\": [\n",
      "      \"Enter Key :  23\\n\"\n",
      "     ]\n",
      "    }\n",
      "   ],\n",
      "   \"source\": []\n",
      "  },\n",
      "  {\n",
      "   \"cell_type\": \"markdown\",\n",
      "   \"metadata\": {\n",
      "    \"id\": \"tH0WQ_KWTPgj\"\n",
      "   },\n",
      "   \"source\": [\n",
      "    \"### 04) WAP to decrypt a previously encrypted file.\"\n",
      "   ]\n",
      "  },\n",
      "  {\n",
      "   \"cell_type\": \"code\",\n",
      "   \"execution_count\": 4,\n",
      "   \"metadata\": {\n",
      "    \"id\": \"xMBZQxZ-TPgj\",\n",
      "    \"outputId\": \"51bd33ea-d1fd-4d8e-c421-8a69fe715e1f\"\n",
      "   },\n",
      "   \"outputs\": [\n",
      "    {\n",
      "     \"name\": \"stdout\",\n",
      "     \"output_type\": \"stream\",\n",
      "     \"text\": [\n",
      "      \"Enter Key :  23\\n\"\n",
      "     ]\n",
      "    }\n",
      "   ],\n",
      "   \"source\": []\n",
      "  },\n",
      "  {\n",
      "   \"cell_type\": \"markdown\",\n",
      "   \"metadata\": {\n",
      "    \"id\": \"LDiFjfv5TPgj\"\n",
      "   },\n",
      "   \"source\": [\n",
      "    \"### 05) WAP to remove a word from text file.\"\n",
      "   ]\n",
      "  },\n",
      "  {\n",
      "   \"cell_type\": \"code\",\n",
      "   \"execution_count\": 56,\n",
      "   \"metadata\": {\n",
      "    \"id\": \"IeL9KPTLTPgk\",\n",
      "    \"outputId\": \"961c121c-c3ac-4fa9-d599-23374dac4292\"\n",
      "   },\n",
      "   \"outputs\": [\n",
      "    {\n",
      "     \"name\": \"stdout\",\n",
      "     \"output_type\": \"stream\",\n",
      "     \"text\": [\n",
      "      \"Enter word to remove:  dolor\\n\"\n",
      "     ]\n",
      "    },\n",
      "    {\n",
      "     \"name\": \"stdout\",\n",
      "     \"output_type\": \"stream\",\n",
      "     \"text\": [\n",
      "      \"['Lorem', 'ipsum', 'sit', 'amet,', 'consectetur', 'adipiscing', 'elit,', 'sed', 'do', 'eiusmod', 'tempor', 'incididunt', 'ut', 'labore', 'et', 'dolore', 'magna', 'aliqua.', 'Lacinia', 'at', 'quis', 'risus', 'sed', 'vulputate.', 'Ac', 'tortor', 'vitae', 'purus', 'faucibus.', 'Sed', 'ullamcorper', 'morbi', 'tincidunt', 'ornare', 'massa', 'eget', 'egestas.', 'Facilisis', 'sed', 'odio', 'morbi', 'quis.', 'Vulputate', 'mi', 'sit', 'amet', 'mauris', 'commodo', 'quis', 'imperdiet', 'massa.', 'Purus', 'in', 'massa', 'tempor', 'nec', 'feugiat', 'dolor', 'nisl', 'pretium.', 'Elementum', 'nibh', 'tellus', 'molestie', 'nunc', 'non', 'blandit.', 'Purus', 'ut', 'faucibus', 'pulvinar', 'elementum', 'integer', 'enim', 'neque.', 'Nec', 'nam', 'aliquam', 'sem', 'et', 'tortor', 'dolor', 'consequat', 'id', 'porta.', 'Molestie', 'a', 'iaculis', 'at', 'erat.', 'Maecenas', 'ultricies', 'mi', 'eget', 'mauris', 'pharetra.', 'Ut', 'tellus', 'elementum', 'sagittis', 'vitae', 'et', 'leo', 'duis', 'ut.', 'Montes', 'nascetur', 'ridiculus', 'mus', 'mauris', 'vitae', 'ultricies', 'leo', 'integer', 'malesuada.', 'Senectus', 'et', 'netus', 'et', 'malesuada.', 'Quis', 'ipsum', 'suspendisse', 'ultrices', 'gravida', 'dictum', 'fusce', 'ut', 'placerat.', 'Nunc', 'sed', 'blandit', 'libero', 'volutpat', 'sed', 'cras', 'ornare', 'arcu.']\\n\"\n",
      "     ]\n",
      "    }\n",
      "   ],\n",
      "   \"source\": []\n",
      "  }\n",
      " ],\n",
      " \"metadata\": {\n",
      "  \"colab\": {\n",
      "   \"provenance\": []\n",
      "  },\n",
      "  \"kernelspec\": {\n",
      "   \"display_name\": \"Python 3 (ipykernel)\",\n",
      "   \"language\": \"python\",\n",
      "   \"name\": \"python3\"\n",
      "  },\n",
      "  \"language_info\": {\n",
      "   \"codemirror_mode\": {\n",
      "    \"name\": \"ipython\",\n",
      "    \"version\": 3\n",
      "   },\n",
      "   \"file_extension\": \".py\",\n",
      "   \"mimetype\": \"text/x-python\",\n",
      "   \"name\": \"python\",\n",
      "   \"nbconvert_exporter\": \"python\",\n",
      "   \"pygments_lexer\": \"ipython3\",\n",
      "   \"version\": \"3.12.1\"\n",
      "  },\n",
      "  \"vscode\": {\n",
      "   \"interpreter\": {\n",
      "    \"hash\": \"5238573367df39f7286bb46f9ff5f08f63a01a80960060ce41e3c79b190280fa\"\n",
      "   }\n",
      "  }\n",
      " },\n",
      " \"nbformat\": 4,\n",
      " \"nbformat_minor\": 4\n",
      "}\n",
      "\n"
     ]
    }
   ],
   "source": [
    "file=open(\"Lab-8-Helper.ipynb\",\"r\")\n",
    "print(\"\".join(file.readlines()))"
   ]
  },
  {
   "cell_type": "markdown",
   "metadata": {
    "id": "TZgCdZrCTPgg"
   },
   "source": [
    "### 03) WAP to read first 5 lines from the file named abc.txt"
   ]
  },
  {
   "cell_type": "code",
   "execution_count": 25,
   "metadata": {
    "id": "PaMKPMlETPgg",
    "outputId": "df4daab5-8a4f-4efb-fc05-d869df22fcb7"
   },
   "outputs": [
    {
     "name": "stdin",
     "output_type": "stream",
     "text": [
      "Enter number:- 5\n"
     ]
    },
    {
     "name": "stdout",
     "output_type": "stream",
     "text": [
      "Lorem ipsum dolor sit amet, consectetur adipiscing elit, sed do eiusmod tempor incididunt ut labore et dolore magna aliqua. \n",
      "\n",
      "Tristique sollicitudin nibh sit amet. Euismod elementum nisi quis eleifend quam adipiscing vitae. \n",
      "\n",
      "Feugiat in fermentum posuere urna nec tincidunt praesent. \n",
      "\n",
      "Sit amet consectetur adipiscing elit pellentesque habitant. \n",
      "\n",
      "Ut placerat orci nulla pellentesque dignissim. \n",
      "\n"
     ]
    }
   ],
   "source": [
    "number=int(input(\"Enter number:-\"))\n",
    "File=open(\"abc.txt\",\"r\")\n",
    "for i in range(number):\n",
    "    print(File.readline())"
   ]
  },
  {
   "cell_type": "markdown",
   "metadata": {
    "id": "q-YevoPZTPgg"
   },
   "source": [
    "### 04) WAP to find the longest word in a file named abc.txt"
   ]
  },
  {
   "cell_type": "code",
   "execution_count": 39,
   "metadata": {
    "id": "-nFvgaoRTPgg",
    "outputId": "5e80bbfe-c20a-4ccd-b5f3-7f76e9b5461f"
   },
   "outputs": [
    {
     "name": "stdout",
     "output_type": "stream",
     "text": [
      "sollicitudin\n"
     ]
    }
   ],
   "source": [
    "file = open(\"abc.txt\", \"r\")\n",
    "words = file.read().split(\" \")\n",
    "max_word = words[0]\n",
    "for word in words:\n",
    "    if len(word) > len(max_word):\n",
    "        max_word = word\n",
    "print(max_word)"
   ]
  },
  {
   "cell_type": "markdown",
   "metadata": {
    "id": "DvMAEtYiTPgh"
   },
   "source": [
    "### 05) WAP to find the size of the file named abc.txt"
   ]
  },
  {
   "cell_type": "code",
   "execution_count": 41,
   "metadata": {
    "id": "qzFSYd-5TPgh",
    "outputId": "f474b5d3-fb48-4fa8-b22d-93c562fe3daf"
   },
   "outputs": [
    {
     "data": {
      "text/plain": [
       "989"
      ]
     },
     "execution_count": 41,
     "metadata": {},
     "output_type": "execute_result"
    }
   ],
   "source": [
    "import os\n",
    "os.stat(\"abc.txt\").st_size"
   ]
  },
  {
   "cell_type": "markdown",
   "metadata": {
    "id": "kJLGBHk1TPgh"
   },
   "source": [
    "### 06) WAP to implement search function to search specific occurance of word in a given text file."
   ]
  },
  {
   "cell_type": "markdown",
   "metadata": {},
   "source": [
    "## find for case sensitive and case insensitive"
   ]
  },
  {
   "cell_type": "code",
   "execution_count": null,
   "metadata": {
    "id": "tD4lzsmnTPgh",
    "outputId": "6b14f7eb-70e4-4810-fa16-eedfab8d7a56"
   },
   "outputs": [
    {
     "name": "stdout",
     "output_type": "stream",
     "text": [
      "4 occurence\n"
     ]
    }
   ],
   "source": [
    "def search_word_occurrence(filename, word, occurrence):\n",
    "    try:\n",
    "        with open(filename, 'r') as file:\n",
    "            text = file.read()\n",
    "            words = text.split()\n",
    "            count = 0\n",
    "            for w in words:\n",
    "                if w == word:\n",
    "                    count += 1\n",
    "                    if count == occurrence:\n",
    "                        return True\n",
    "            return False\n",
    "    except FileNotFoundError:\n",
    "        print(\"File not found!\")\n",
    "        return False\n",
    "        \n",
    "filename = \"sample.txt\"\n",
    "word_to_search = \"example\"\n",
    "desired_occurrence = 2\n",
    "\n",
    "if search_word_occurrence(filename, word_to_search, desired_occurrence):\n",
    "    print(f\"Word '{word_to_search}' found at occurrence {desired_occurrence}.\")\n",
    "else:\n",
    "    print(f\"Word '{word_to_search}' not found at occurrence {desired_occurrence}.\")\n"
   ]
  },
  {
   "cell_type": "code",
   "execution_count": 12,
   "metadata": {},
   "outputs": [
    {
     "name": "stdout",
     "output_type": "stream",
     "text": [
      "Enter Word For Search :  scelerisque\n"
     ]
    },
    {
     "name": "stdout",
     "output_type": "stream",
     "text": [
      "3 occurence\n"
     ]
    }
   ],
   "source": [
    "def search_word_occurrence(file_path, word, occurrence):\n",
    "    count = 0\n",
    "    with open(file_path, 'r') as file:\n",
    "        for line in file:\n",
    "            if word.lower() in line.lower():\n",
    "                count += 1\n",
    "                if count == occurrence:\n",
    "                    return line.strip()  \n",
    "    return None  \n",
    "\n",
    "file_path = 'sample.txt'  \n",
    "word_to_search = 'example'  \n",
    "target_occurrence = 2 \n",
    "\n",
    "result = search_word_occurrence(file_path, word_to_search, target_occurrence)\n",
    "if result:\n",
    "    print(f\"Found occurrence {target_occurrence} of '{word_to_search}' in file '{file_path}':\")\n",
    "    print(result)\n",
    "else:\n",
    "    print(f\"No occurrence {target_occurrence} of '{word_to_search}' found in file '{file_path}'.\")\n"
   ]
  },
  {
   "cell_type": "markdown",
   "metadata": {
    "id": "L6REsnDATPgi"
   },
   "source": [
    "# B"
   ]
  },
  {
   "cell_type": "markdown",
   "metadata": {
    "id": "kHJlC4Y6TPgi"
   },
   "source": [
    "### 01) WAP to write first 100 prime numbers to a file named primenumbers.txt\n",
    "(Note: each number should be in new line)"
   ]
  },
  {
   "cell_type": "code",
   "execution_count": 15,
   "metadata": {
    "id": "Exuwt3LUTPgi"
   },
   "outputs": [
    {
     "name": "stdout",
     "output_type": "stream",
     "text": [
      "2 3 5 7 11 13 17 19 23 29 31 37 41 43 47 53 59 61 67 71 73 79 83 89 97 "
     ]
    }
   ],
   "source": [
    "def is_prime(n):\n",
    "    if n <= 1:\n",
    "        return False\n",
    "    elif n <= 3:\n",
    "        return True\n",
    "    elif n % 2 == 0 or n % 3 == 0:\n",
    "        return False\n",
    "    i = 5\n",
    "    while i * i <= n:\n",
    "        if n % i == 0 or n % (i + 2) == 0:\n",
    "            return False\n",
    "        i += 6\n",
    "    return True\n",
    "\n",
    "def generate_prime_numbers(n):\n",
    "    primes = []\n",
    "    num = 2\n",
    "    while len(primes) < n:\n",
    "        if is_prime(num):\n",
    "            primes.append(num)\n",
    "        num += 1\n",
    "    return primes\n",
    "\n",
    "def write_to_file(prime_numbers, file_name):\n",
    "    with open(file_name, 'w') as file:\n",
    "        for prime in prime_numbers:\n",
    "            file.write(str(prime) + '\\n')\n",
    "            \n",
    "prime_numbers = generate_prime_numbers(100)\n",
    "write_to_file(prime_numbers, 'primenumbers.txt')\n",
    "print(\"Prime numbers have been written to primenumbers.txt\")"
   ]
  },
  {
   "cell_type": "markdown",
   "metadata": {
    "id": "RiwS7zu9TPgi"
   },
   "source": [
    "### 02) WAP to merge two files and write it in a new file."
   ]
  },
  {
   "cell_type": "code",
   "execution_count": 17,
   "metadata": {
    "id": "mbJst57RTPgi"
   },
   "outputs": [],
   "source": [
    "def merge_files(file1, file2, output_file):\n",
    "    with open(file1, 'r') as f1, open(file2, 'r') as f2, open(output_file, 'w') as output:\n",
    "        for line in f1:\n",
    "            output.write(line)\n",
    "        for line in f2:\n",
    "            output.write(line)\n",
    "            \n",
    "file1 = 'file1.txt'\n",
    "file2 = 'file2.txt'\n",
    "output_file = 'merged_output.txt'\n",
    "\n",
    "merge_files(file1, file2, output_file)\n",
    "print(f\"The contents of {file1} and {file2} have been merged and written to {output_file}.\")"
   ]
  },
  {
   "cell_type": "markdown",
   "metadata": {
    "id": "rvUXdk_HTPgj"
   },
   "source": [
    "### 03) WAP to encrypt a text file."
   ]
  },
  {
   "cell_type": "code",
   "execution_count": 3,
   "metadata": {
    "colab": {
     "base_uri": "https://localhost:8080/",
     "height": 290
    },
    "executionInfo": {
     "elapsed": 810346,
     "status": "error",
     "timestamp": 1704252480254,
     "user": {
      "displayName": "Javiya Hit",
      "userId": "07658258706577815819"
     },
     "user_tz": -330
    },
    "id": "VzWMkuX5TPgj",
    "outputId": "0533eb74-4d4d-4001-ac6d-12b4183ff656"
   },
   "outputs": [
    {
     "name": "stdout",
     "output_type": "stream",
     "text": [
      "Enter Key :  23\n"
     ]
    }
   ],
   "source": [
    "def encrypt(text, shift):\n",
    "    encrypted_text = ''\n",
    "    for char in text:\n",
    "        if char.isalpha():\n",
    "            shifted = ord(char) + shift\n",
    "            if char.islower():\n",
    "                if shifted > ord('z'):\n",
    "                    shifted -= 26\n",
    "            elif char.isupper():\n",
    "                if shifted > ord('Z'):\n",
    "                    shifted -= 26\n",
    "            encrypted_text += chr(shifted)\n",
    "        else:\n",
    "            encrypted_text += char\n",
    "    return encrypted_text\n",
    "\n",
    "def encrypt_file(input_file, output_file, shift):\n",
    "    with open(input_file, 'r') as file:\n",
    "        text = file.read()\n",
    "        encrypted_text = encrypt(text, shift)\n",
    "    \n",
    "    with open(output_file, 'w') as file:\n",
    "        file.write(encrypted_text)\n",
    "\n",
    "input_file = 'input.txt'\n",
    "output_file = 'encrypted_output.txt'\n",
    "shift = 3 \n",
    "\n",
    "encrypt_file(input_file, output_file, shift)\n",
    "print(f\"The contents of {input_file} have been encrypted and written to {output_file}.\")"
   ]
  },
  {
   "cell_type": "markdown",
   "metadata": {
    "id": "tH0WQ_KWTPgj"
   },
   "source": [
    "### 04) WAP to decrypt a previously encrypted file."
   ]
  },
  {
   "cell_type": "code",
   "execution_count": 4,
   "metadata": {
    "id": "xMBZQxZ-TPgj",
    "outputId": "51bd33ea-d1fd-4d8e-c421-8a69fe715e1f"
   },
   "outputs": [
    {
     "name": "stdout",
     "output_type": "stream",
     "text": [
      "Enter Key :  23\n"
     ]
    }
   ],
   "source": [
    "def decrypt(text, shift):\n",
    "    decrypted_text = ''\n",
    "    for char in text:\n",
    "        if char.isalpha():\n",
    "            shifted = ord(char) - shift\n",
    "            if char.islower():\n",
    "                if shifted < ord('a'):\n",
    "                    shifted += 26\n",
    "            elif char.isupper():\n",
    "                if shifted < ord('A'):\n",
    "                    shifted += 26\n",
    "            decrypted_text += chr(shifted)\n",
    "        else:\n",
    "            decrypted_text += char\n",
    "    return decrypted_text\n",
    "\n",
    "def decrypt_file(input_file, output_file, shift):\n",
    "    with open(input_file, 'r') as file:\n",
    "        text = file.read()\n",
    "        decrypted_text = decrypt(text, shift)\n",
    "    \n",
    "    with open(output_file, 'w') as file:\n",
    "        file.write(decrypted_text)\n",
    "\n",
    "input_file = 'encrypted_input.txt'\n",
    "output_file = 'decrypted_output.txt'\n",
    "shift = 3 \n",
    "\n",
    "decrypt_file(input_file, output_file, shift)\n",
    "print(f\"The contents of {input_file} have been decrypted and written to {output_file}.\")"
   ]
  },
  {
   "cell_type": "markdown",
   "metadata": {
    "id": "LDiFjfv5TPgj"
   },
   "source": [
    "### 05) WAP to remove a word from text file."
   ]
  },
  {
   "cell_type": "code",
   "execution_count": 56,
   "metadata": {
    "id": "IeL9KPTLTPgk",
    "outputId": "961c121c-c3ac-4fa9-d599-23374dac4292"
   },
   "outputs": [
    {
     "name": "stdout",
     "output_type": "stream",
     "text": [
      "Enter word to remove:  dolor\n"
     ]
    },
    {
     "name": "stdout",
     "output_type": "stream",
     "text": [
      "['Lorem', 'ipsum', 'sit', 'amet,', 'consectetur', 'adipiscing', 'elit,', 'sed', 'do', 'eiusmod', 'tempor', 'incididunt', 'ut', 'labore', 'et', 'dolore', 'magna', 'aliqua.', 'Lacinia', 'at', 'quis', 'risus', 'sed', 'vulputate.', 'Ac', 'tortor', 'vitae', 'purus', 'faucibus.', 'Sed', 'ullamcorper', 'morbi', 'tincidunt', 'ornare', 'massa', 'eget', 'egestas.', 'Facilisis', 'sed', 'odio', 'morbi', 'quis.', 'Vulputate', 'mi', 'sit', 'amet', 'mauris', 'commodo', 'quis', 'imperdiet', 'massa.', 'Purus', 'in', 'massa', 'tempor', 'nec', 'feugiat', 'dolor', 'nisl', 'pretium.', 'Elementum', 'nibh', 'tellus', 'molestie', 'nunc', 'non', 'blandit.', 'Purus', 'ut', 'faucibus', 'pulvinar', 'elementum', 'integer', 'enim', 'neque.', 'Nec', 'nam', 'aliquam', 'sem', 'et', 'tortor', 'dolor', 'consequat', 'id', 'porta.', 'Molestie', 'a', 'iaculis', 'at', 'erat.', 'Maecenas', 'ultricies', 'mi', 'eget', 'mauris', 'pharetra.', 'Ut', 'tellus', 'elementum', 'sagittis', 'vitae', 'et', 'leo', 'duis', 'ut.', 'Montes', 'nascetur', 'ridiculus', 'mus', 'mauris', 'vitae', 'ultricies', 'leo', 'integer', 'malesuada.', 'Senectus', 'et', 'netus', 'et', 'malesuada.', 'Quis', 'ipsum', 'suspendisse', 'ultrices', 'gravida', 'dictum', 'fusce', 'ut', 'placerat.', 'Nunc', 'sed', 'blandit', 'libero', 'volutpat', 'sed', 'cras', 'ornare', 'arcu.']\n"
     ]
    }
   ],
   "source": [
    "def remove_word(file_path, word):\n",
    "    with open(file_path, 'r') as file:\n",
    "        lines = file.readlines()\n",
    "\n",
    "    with open(file_path, 'w') as file:\n",
    "        for line in lines:\n",
    "            updated_line = line.replace(word, '')\n",
    "            file.write(updated_line)\n",
    "\n",
    "file_path = 'text_file.txt'\n",
    "word_to_remove = 'example'\n",
    "remove_word(file_path, word_to_remove)\n",
    "print(f\"The word '{word_to_remove}' has been removed from {file_path}.\")"
   ]
  }
 ],
 "metadata": {
  "colab": {
   "provenance": []
  },
  "kernelspec": {
   "display_name": "Python 3 (ipykernel)",
   "language": "python",
   "name": "python3"
  },
  "language_info": {
   "codemirror_mode": {
    "name": "ipython",
    "version": 3
   },
   "file_extension": ".py",
   "mimetype": "text/x-python",
   "name": "python",
   "nbconvert_exporter": "python",
   "pygments_lexer": "ipython3",
   "version": "3.12.1"
  },
  "vscode": {
   "interpreter": {
    "hash": "5238573367df39f7286bb46f9ff5f08f63a01a80960060ce41e3c79b190280fa"
   }
  }
 },
 "nbformat": 4,
 "nbformat_minor": 4
}
