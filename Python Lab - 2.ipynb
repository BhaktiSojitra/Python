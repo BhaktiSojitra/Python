{
 "cells": [
  {
   "cell_type": "markdown",
   "metadata": {},
   "source": [
    "\n",
    "<a href='https://www.darshan.ac.in/'> <img src='https://www.darshan.ac.in/Content/media/DU_Logo.svg' width=\"250\" height=\"300\"/></a>\n",
    "<pre>\n",
    "<center><b><h1>Python Programming - 2101CS405</b></center>\n",
    "<center><b><h1>Lab - 2</b></center>    \n",
    "<pre>"
   ]
  },
  {
   "cell_type": "markdown",
   "metadata": {},
   "source": [
    "# if..else.."
   ]
  },
  {
   "cell_type": "markdown",
   "metadata": {},
   "source": [
    "### 01) WAP to check whether the given number is positive or negative."
   ]
  },
  {
   "cell_type": "code",
   "execution_count": 4,
   "metadata": {},
   "outputs": [
    {
     "name": "stdin",
     "output_type": "stream",
     "text": [
      "Enter number 10\n"
     ]
    },
    {
     "name": "stdout",
     "output_type": "stream",
     "text": [
      "number is positive\n"
     ]
    }
   ],
   "source": [
    "number=int(input(\"Enter number:-\"))\n",
    "if(number>0):\n",
    "    print(\"number is positive\")\n",
    "else:\n",
    "    print(\"number is negative\")"
   ]
  },
  {
   "cell_type": "markdown",
   "metadata": {},
   "source": [
    "### 02) WAP to check whether the given number is odd or even"
   ]
  },
  {
   "cell_type": "code",
   "execution_count": null,
   "metadata": {},
   "outputs": [],
   "source": [
    "number=int(input(\"Enter number:-\"))\n",
    "if(number%2==0):\n",
    "    print(\"number is even\")\n",
    "else:\n",
    "    print(\"number is odd\")"
   ]
  },
  {
   "cell_type": "markdown",
   "metadata": {},
   "source": [
    "### 03) WAP to find out largest number from given two numbers using simple if and ternary operator."
   ]
  },
  {
   "cell_type": "code",
   "execution_count": 2,
   "metadata": {},
   "outputs": [
    {
     "name": "stdin",
     "output_type": "stream",
     "text": [
      "Enter a number :  10\n",
      "Enter b number :  20\n"
     ]
    },
    {
     "name": "stdout",
     "output_type": "stream",
     "text": [
      "b is largest number\n"
     ]
    }
   ],
   "source": [
    "a=int(input(\"Enter a number:-\"))\n",
    "b=int(input(\"Enter b number:-\"))\n",
    "'''if(a>b):\n",
    "    print(\"a is largest number\")\n",
    "else: \n",
    "    print(\"b is largest number\")'''\n",
    "\n",
    "print(\"a is largest number\") if(a>b) else print(\"b is largest number\")"
   ]
  },
  {
   "cell_type": "markdown",
   "metadata": {},
   "source": [
    "### 04) WAP to find out largest number from given three numbers."
   ]
  },
  {
   "cell_type": "code",
   "execution_count": null,
   "metadata": {},
   "outputs": [],
   "source": [
    "a=int(input(\"Enter a number:-\"))\n",
    "b=int(input(\"Enter b number:-\"))\n",
    "c=int(input(\"Enter b number:-\"))\n",
    "if(a>b and a>c):\n",
    "    print(\"a is largest number\")\n",
    "elif(b>c):\n",
    "    print(\"b is largest number\")\n",
    "else:\n",
    "    print(\"c is largest number\")"
   ]
  },
  {
   "cell_type": "markdown",
   "metadata": {},
   "source": [
    "### 05) WAP to check whether the given year is leap year or not.\n",
    "[If a year can be divisible by 4 but not divisible by 100 then it is leap year but if it is divisible by 400 then it is leap year]"
   ]
  },
  {
   "cell_type": "code",
   "execution_count": null,
   "metadata": {},
   "outputs": [],
   "source": [
    "year=int(input(\"Enter a year : \"));\n",
    "if(year%4==0 or year%400==0 and year%100!=0):\n",
    "    print(\"leap year\")\n",
    "else: \n",
    "    print(\"not leap year\")"
   ]
  },
  {
   "cell_type": "markdown",
   "metadata": {},
   "source": [
    "### 06) WAP in python to display the name of the day according to the number given by the user"
   ]
  },
  {
   "cell_type": "code",
   "execution_count": 3,
   "metadata": {},
   "outputs": [
    {
     "name": "stdin",
     "output_type": "stream",
     "text": [
      "Enter a day:- 7\n"
     ]
    },
    {
     "name": "stdout",
     "output_type": "stream",
     "text": [
      "it's sunday\n"
     ]
    }
   ],
   "source": [
    "day=int(input(\"Enter a day:-\"))\n",
    "if(day==1): \n",
    "    print(\"it's monday\")\n",
    "elif(day==2):\n",
    "    print(\"it's tuesday\")\n",
    "elif(day==3):\n",
    "    print(\"it's wednesday\")\n",
    "elif(day==4):\n",
    "    print(\"it's thursday\")\n",
    "elif(day==5): \n",
    "    print(\"it's friday\")\n",
    "elif(day==6):\n",
    "    print(\"it's saturday\")\n",
    "elif(day==7):\n",
    "    print(\"it's sunday\")\n",
    "else: \n",
    "    print(\"invalid day\")"
   ]
  },
  {
   "cell_type": "markdown",
   "metadata": {},
   "source": [
    "### 07) WAP to implement simple calculator which performs (add,sub,mul,div) of two no. based on user input."
   ]
  },
  {
   "cell_type": "code",
   "execution_count": 16,
   "metadata": {},
   "outputs": [
    {
     "name": "stdin",
     "output_type": "stream",
     "text": [
      "Enter number1:- 10\n",
      "Enter number2:- 20\n",
      "Enter your choice => +,-,*,/ :-  %\n"
     ]
    },
    {
     "name": "stdout",
     "output_type": "stream",
     "text": [
      "invalid choice\n"
     ]
    }
   ],
   "source": [
    "number1=int(input(\"Enter number1:-\"))\n",
    "number2=int(input(\"Enter number2:-\"))\n",
    "choice=input(\"Enter your choice => +,-,*,/ :- \")\n",
    "if(choice=='+'):\n",
    "    print(\"addition is:-\",(number1+number2))\n",
    "elif(choice=='-'):\n",
    "    print(\"subtraction is:-\",(number1-number2))\n",
    "elif(choice=='*'):\n",
    "    print(\"multiplication is:-\",(number1*number2))\n",
    "elif(choice=='/'):\n",
    "    print(\"division is:-\",(number1/number2))\n",
    "else:\n",
    "    print(\"invalid choice\")"
   ]
  },
  {
   "cell_type": "markdown",
   "metadata": {},
   "source": [
    "### 08) WAP to calculate electricity bill based on following criteria. Which takes the unit from the user.\n",
    "a. First 1 to 50 units – Rs. 2.60/unit</br>\n",
    "b. Next 50 to 100 units – Rs. 3.25/unit</br>\n",
    "c. Next 100 to 200 units – Rs. 5.26/unit</br>\n",
    "d. above 200 units – Rs. 8.45/unit"
   ]
  },
  {
   "cell_type": "code",
   "execution_count": 4,
   "metadata": {},
   "outputs": [
    {
     "name": "stdin",
     "output_type": "stream",
     "text": [
      "Enter unit:- 25\n"
     ]
    },
    {
     "name": "stdout",
     "output_type": "stream",
     "text": [
      "65.0\n"
     ]
    }
   ],
   "source": [
    "unit=int(input(\"Enter unit:-\"))\n",
    "if(unit>=1 and unit<=50):\n",
    "    print(unit*2.60)\n",
    "elif(unit>=51 and unit<=100):\n",
    "    print((50*2.60)+((unit-50)*3.25))\n",
    "elif(unit>=101 and unit<=200):\n",
    "    print((50*2.60)+(50*3.25)+((unit-100)*5.26))\n",
    "elif(unit>=201):\n",
    "    print((50*2.60)+(50*3.25)+(100*5.26)+((unit-200)*8.45))"
   ]
  },
  {
   "cell_type": "markdown",
   "metadata": {},
   "source": [
    "### 01) WAP to read marks of five subjects. Calculate percentage and print class accordingly. \n",
    "Fail below 35 </br>\n",
    "Pass Class between 35 to 45 </br>\n",
    "Second Class</br>\n",
    "between 45 to 60</br>\n",
    "First Class between 60 to 70</br> \n",
    "Distinction if more than 70"
   ]
  },
  {
   "cell_type": "code",
   "execution_count": 6,
   "metadata": {},
   "outputs": [
    {
     "name": "stdin",
     "output_type": "stream",
     "text": [
      "Enter PS mark:- 50\n",
      "Enter MADF mark:- 50\n",
      "Enter DAA mark:- 50\n",
      "Enter PP mark:- 50\n",
      "Enter WT mark:- 50\n"
     ]
    },
    {
     "name": "stdout",
     "output_type": "stream",
     "text": [
      "percentage is:- 50.0\n",
      "Second class\n"
     ]
    }
   ],
   "source": [
    "PS=int(input(\"Enter PS mark:-\"))\n",
    "MADF=int(input(\"Enter MADF mark:-\"))\n",
    "DAA=int(input(\"Enter DAA mark:-\"))\n",
    "PP=int(input(\"Enter PP mark:-\"))\n",
    "WT=int(input(\"Enter WT mark:-\"))\n",
    "percentage=(PS+MADF+DAA+PP+WT)/5\n",
    "print(\"percentage is:-\",percentage)\n",
    "if(percentage>70):\n",
    "    print(\"Distinction\")\n",
    "elif(percentage>60 and percentage<70):\n",
    "    print(\"First class\")\n",
    "elif(percentage>45 and percentage<60):\n",
    "    print(\"Second class\")\n",
    "elif(percentage>35 and percentage<45):\n",
    "    print(\"Pass class\")\n",
    "else :\n",
    "    print(\"Fail\")"
   ]
  },
  {
   "cell_type": "markdown",
   "metadata": {},
   "source": [
    "### 02) WAP to find out the Maximum and Minimum number from given 4 numbers."
   ]
  },
  {
   "cell_type": "code",
   "execution_count": 12,
   "metadata": {},
   "outputs": [
    {
     "name": "stdin",
     "output_type": "stream",
     "text": [
      "Enter number1:- 10\n",
      "Enter number2:- 0\n",
      "Enter number3:- 1\n",
      "Enter number4:- 50\n"
     ]
    },
    {
     "name": "stdout",
     "output_type": "stream",
     "text": [
      "number2 is minimum\n"
     ]
    }
   ],
   "source": [
    "number1=int(input(\"Enter number1:-\"))\n",
    "number2=int(input(\"Enter number2:-\"))\n",
    "number3=int(input(\"Enter number3:-\"))\n",
    "number4=int(input(\"Enter number4:-\"))\n",
    "\n",
    "if(number1>number2 and number1>number3 and number1>number4):\n",
    "    print(\"number1 is maximum\")\n",
    "elif(number2>number3 and number2>number4):\n",
    "    print(\"number2 is maximum\")\n",
    "elif(number3>number4):\n",
    "    print(\"number3 is maximum\")\n",
    "else:\n",
    "    print(\"number14 is maximum\")\n",
    "\n",
    "'''if(number1<number2 and number1<number3 and number1<number4):\n",
    "    print(\"number1 is minimum\")\n",
    "elif(number2<number3 and number2<number4):\n",
    "    print(\"number2 is minimum\")\n",
    "elif(number3<number4):\n",
    "    print(\"number3 is minimum\")\n",
    "else:\n",
    "    print(\"number14 is minimum\")'''"
   ]
  },
  {
   "cell_type": "markdown",
   "metadata": {},
   "source": [
    "### 03) WAP to input an integer number and check the last digit of number is even or odd."
   ]
  },
  {
   "cell_type": "code",
   "execution_count": 9,
   "metadata": {},
   "outputs": [
    {
     "name": "stdin",
     "output_type": "stream",
     "text": [
      "Enter number:- 121\n"
     ]
    },
    {
     "name": "stdout",
     "output_type": "stream",
     "text": [
      "last digit of number is odd\n"
     ]
    }
   ],
   "source": [
    "number=int(input(\"Enter number:-\"))\n",
    "n=number%10 #number%2\n",
    "if(n%2==0):\n",
    "    print(\"last digit of number is even\")\n",
    "else:\n",
    "    print(\"last digit of number is odd\")"
   ]
  },
  {
   "cell_type": "markdown",
   "metadata": {},
   "source": [
    "### 04) WAP to determine the roots of the equation ax2+bx+c=0."
   ]
  },
  {
   "cell_type": "code",
   "execution_count": 13,
   "metadata": {},
   "outputs": [
    {
     "name": "stdout",
     "output_type": "stream",
     "text": [
      "The solution are (-3+0j) and (-2+0j)\n"
     ]
    }
   ],
   "source": [
    "#Solve the quadratic equation ax**2 + bx + c = 0\n",
    "#import complex math module\n",
    "import cmath\n",
    "a=1\n",
    "b=5\n",
    "c=6\n",
    "d=(b**2)-(4*a*c)\n",
    "sol1=(-b-cmath.sqrt(d))/(2*a)\n",
    "sol2=(-b+cmath.sqrt(d))/(2*a)\n",
    "print('The solution are {0} and {1}'.format(sol1,sol2))"
   ]
  }
 ],
 "metadata": {
  "kernelspec": {
   "display_name": "Python 3 (ipykernel)",
   "language": "python",
   "name": "python3"
  },
  "language_info": {
   "codemirror_mode": {
    "name": "ipython",
    "version": 3
   },
   "file_extension": ".py",
   "mimetype": "text/x-python",
   "name": "python",
   "nbconvert_exporter": "python",
   "pygments_lexer": "ipython3",
   "version": "3.12.1"
  }
 },
 "nbformat": 4,
 "nbformat_minor": 4
}
