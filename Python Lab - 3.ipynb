{
 "cells": [
  {
   "cell_type": "markdown",
   "metadata": {},
   "source": [
    "\n",
    "<a href='https://www.darshan.ac.in/'> <img src='https://www.darshan.ac.in/Content/media/DU_Logo.svg' width=\"250\" height=\"300\"/></a>\n",
    "<pre>\n",
    "<center><b><h1>Python Programming - 2101CS405</b></center>\n",
    "<center><b><h1>Lab - 3</b></center>    \n",
    "<pre>"
   ]
  },
  {
   "cell_type": "code",
   "execution_count": null,
   "metadata": {},
   "outputs": [],
   "source": [
    "name:sojitra bhakti\n",
    "enrollment:23010101650"
   ]
  },
  {
   "cell_type": "markdown",
   "metadata": {},
   "source": [
    "# for and while loop"
   ]
  },
  {
   "cell_type": "markdown",
   "metadata": {},
   "source": [
    "### 01) WAP to print 1 to 10"
   ]
  },
  {
   "cell_type": "code",
   "execution_count": 7,
   "metadata": {},
   "outputs": [
    {
     "name": "stdout",
     "output_type": "stream",
     "text": [
      "1 2 3 4 5 6 7 8 9 10  \n",
      "1 2 3 4 5 6 7 8 9 10 "
     ]
    }
   ],
   "source": [
    "for i in range(1,11):\n",
    "    print(i,end=\" \")\n",
    "    \n",
    "print(\" \")\n",
    "\n",
    "i=1\n",
    "while(i<11):\n",
    "    print(i,end=\" \")\n",
    "    i+=1"
   ]
  },
  {
   "cell_type": "markdown",
   "metadata": {},
   "source": [
    "### 02) WAP to print 1 to n"
   ]
  },
  {
   "cell_type": "code",
   "execution_count": 9,
   "metadata": {},
   "outputs": [
    {
     "name": "stdin",
     "output_type": "stream",
     "text": [
      "Enter n:- 6\n"
     ]
    },
    {
     "name": "stdout",
     "output_type": "stream",
     "text": [
      "1 2 3 4 5  \n"
     ]
    },
    {
     "name": "stdin",
     "output_type": "stream",
     "text": [
      "Enter n1:- 6\n"
     ]
    },
    {
     "name": "stdout",
     "output_type": "stream",
     "text": [
      "1 2 3 4 5 "
     ]
    }
   ],
   "source": [
    "n=int(input(\"Enter n:-\"))\n",
    "for i in range(1,n):\n",
    "    print(i,end=\" \")\n",
    "\n",
    "print(\" \")\n",
    "\n",
    "n1=int(input(\"Enter n1:-\"))\n",
    "i=1\n",
    "while(i<n):\n",
    "    print(i,end=\" \")\n",
    "    i=i+1"
   ]
  },
  {
   "cell_type": "markdown",
   "metadata": {},
   "source": [
    "### 03) WAP to print odd numbers between 1 to n"
   ]
  },
  {
   "cell_type": "code",
   "execution_count": 12,
   "metadata": {},
   "outputs": [
    {
     "name": "stdin",
     "output_type": "stream",
     "text": [
      "Enter number:- 11\n"
     ]
    },
    {
     "name": "stdout",
     "output_type": "stream",
     "text": [
      "1 3 5 7 9  \n"
     ]
    },
    {
     "name": "stdin",
     "output_type": "stream",
     "text": [
      "Enter number1:- 11\n"
     ]
    },
    {
     "name": "stdout",
     "output_type": "stream",
     "text": [
      "1 3 5 7 9 "
     ]
    }
   ],
   "source": [
    "number=int(input(\"Enter number:-\"))\n",
    "for i in range(1,number,2):\n",
    "    print(i,end=\" \")\n",
    "\n",
    "print(\" \")\n",
    "\n",
    "number1=int(input(\"Enter number1:-\"))\n",
    "i=1\n",
    "while(i<number):\n",
    "    print(i,end=\" \")\n",
    "    i=i+2"
   ]
  },
  {
   "cell_type": "markdown",
   "metadata": {},
   "source": [
    "### 04) WAP to print numbers between two given numbers which is divisible by 2 but not divisible by 3"
   ]
  },
  {
   "cell_type": "code",
   "execution_count": 4,
   "metadata": {},
   "outputs": [
    {
     "name": "stdin",
     "output_type": "stream",
     "text": [
      "Enter number1:- 10\n",
      "Enter number2:- 21\n"
     ]
    },
    {
     "name": "stdout",
     "output_type": "stream",
     "text": [
      "10 14 16 20  \n",
      "10 14 16 20 "
     ]
    }
   ],
   "source": [
    "number1=int(input(\"Enter number1:-\"))\n",
    "number2=int(input(\"Enter number2:-\"))\n",
    "\n",
    "for i in range(number1,number2):\n",
    "    if(i%2==0 and i%3!=0):\n",
    "        print(i,end=\" \")\n",
    "\n",
    "print(\" \")\n",
    "\n",
    "i=number1\n",
    "while(i<number2):\n",
    "    if(i%2==0 and i%3!=0):\n",
    "        print(i,end=\" \")\n",
    "    i+=1"
   ]
  },
  {
   "cell_type": "markdown",
   "metadata": {},
   "source": [
    "### 05) WAP to print sum of 1 to n numbers"
   ]
  },
  {
   "cell_type": "code",
   "execution_count": 29,
   "metadata": {},
   "outputs": [
    {
     "name": "stdin",
     "output_type": "stream",
     "text": [
      "Enter number:- 10\n"
     ]
    },
    {
     "name": "stdout",
     "output_type": "stream",
     "text": [
      "Sum of 10 number is:- 55\n",
      " \n"
     ]
    },
    {
     "name": "stdin",
     "output_type": "stream",
     "text": [
      "Enter number1:- 10\n"
     ]
    },
    {
     "name": "stdout",
     "output_type": "stream",
     "text": [
      "Sum of 10 number is:- 55\n"
     ]
    }
   ],
   "source": [
    "number=int(input(\"Enter number:-\"))\n",
    "sum=0\n",
    "sum1=0\n",
    "for i in range(1,number+1):\n",
    "    sum+=i\n",
    "print(\"Sum of\",number,\"number is:-\",sum)\n",
    "\n",
    "print(\" \")\n",
    "\n",
    "number1=int(input(\"Enter number1:-\"))\n",
    "i=1\n",
    "while(i<number1+1):\n",
    "    sum1+=i\n",
    "    i+=1\n",
    "print(\"Sum of\",number1,\"number is:-\",sum1)"
   ]
  },
  {
   "cell_type": "markdown",
   "metadata": {},
   "source": [
    "### 06) WAP to print sum of series 1 + 4 + 9 + 16 + 25 + 36 + ...n"
   ]
  },
  {
   "cell_type": "code",
   "execution_count": 15,
   "metadata": {},
   "outputs": [
    {
     "name": "stdin",
     "output_type": "stream",
     "text": [
      "enter number:- 5\n"
     ]
    },
    {
     "name": "stdout",
     "output_type": "stream",
     "text": [
      "total is:- 55\n"
     ]
    }
   ],
   "source": [
    "number=int(input(\"enter number:-\"))\n",
    "total=0\n",
    "for i in range(1,number+1):\n",
    "    total=total+(i*i)\n",
    "print(\"total is:-\",total)"
   ]
  },
  {
   "cell_type": "markdown",
   "metadata": {},
   "source": [
    "### 07) WAP to print sum of series 1 – 2 + 3 – 4 + 5 – 6 + 7 ... n"
   ]
  },
  {
   "cell_type": "code",
   "execution_count": 14,
   "metadata": {},
   "outputs": [
    {
     "name": "stdin",
     "output_type": "stream",
     "text": [
      "Enter number:- 4\n"
     ]
    },
    {
     "name": "stdout",
     "output_type": "stream",
     "text": [
      "sum is:- -2\n"
     ]
    }
   ],
   "source": [
    "number=int(input(\"Enter number:-\"))\n",
    "sum=0\n",
    "for i in range(1,number+1):\n",
    "    if(i%2==0):\n",
    "        sum=sum-i\n",
    "    else:\n",
    "        sum=sum+i\n",
    "print(\"sum is:-\",sum)"
   ]
  },
  {
   "cell_type": "markdown",
   "metadata": {},
   "source": [
    "### 08) WAP to print multiplication table of given number."
   ]
  },
  {
   "cell_type": "code",
   "execution_count": 15,
   "metadata": {},
   "outputs": [
    {
     "name": "stdin",
     "output_type": "stream",
     "text": [
      "enter number:- 5\n"
     ]
    },
    {
     "name": "stdout",
     "output_type": "stream",
     "text": [
      "5 * 0 = 0\n",
      "5 * 1 = 5\n",
      "5 * 2 = 10\n",
      "5 * 3 = 15\n",
      "5 * 4 = 20\n",
      "5 * 5 = 25\n",
      "5 * 6 = 30\n",
      "5 * 7 = 35\n",
      "5 * 8 = 40\n",
      "5 * 9 = 45\n",
      "5 * 10 = 50\n",
      " \n"
     ]
    },
    {
     "name": "stdin",
     "output_type": "stream",
     "text": [
      "enter number1:- 6\n"
     ]
    },
    {
     "name": "stdout",
     "output_type": "stream",
     "text": [
      "6 * 0 = 0\n",
      "6 * 1 = 6\n",
      "6 * 2 = 12\n",
      "6 * 3 = 18\n",
      "6 * 4 = 24\n",
      "6 * 5 = 30\n",
      "6 * 6 = 36\n",
      "6 * 7 = 42\n",
      "6 * 8 = 48\n",
      "6 * 9 = 54\n",
      "6 * 10 = 60\n"
     ]
    }
   ],
   "source": [
    "number=int(input(\"enter number:-\"))\n",
    "for i in range(0,11):\n",
    "    print(number,\"*\",i,\"=\",(number*i))\n",
    "\n",
    "print(\" \")\n",
    "\n",
    "number1=int(input(\"enter number1:-\"))\n",
    "i=0\n",
    "while(i<11):\n",
    "    print(number1,\"*\",i,\"=\",(number1*i))\n",
    "    i+=1"
   ]
  },
  {
   "cell_type": "markdown",
   "metadata": {},
   "source": [
    "### 09) WAP to find factorial of the given number"
   ]
  },
  {
   "cell_type": "code",
   "execution_count": 30,
   "metadata": {},
   "outputs": [
    {
     "name": "stdin",
     "output_type": "stream",
     "text": [
      "enter number:- 5\n"
     ]
    },
    {
     "name": "stdout",
     "output_type": "stream",
     "text": [
      "factorial of 5 number is:- 120\n",
      " \n"
     ]
    },
    {
     "name": "stdin",
     "output_type": "stream",
     "text": [
      "enter number1:- 5\n"
     ]
    },
    {
     "name": "stdout",
     "output_type": "stream",
     "text": [
      "factorial of 5 number is:- 120\n"
     ]
    }
   ],
   "source": [
    "number=int(input(\"enter number:-\"))\n",
    "fact=1\n",
    "for i in range(1,number+1):\n",
    "    fact*=i\n",
    "print(\"factorial of\",number,\"number is:-\",fact)\n",
    "\n",
    "print(\" \")\n",
    "\n",
    "number1=int(input(\"enter number1:-\"))\n",
    "fact1=1\n",
    "i=1\n",
    "while(i<number1+1):\n",
    "    fact1*=i\n",
    "    i+=1\n",
    "print(\"factorial of\",number1,\"number is:-\",fact1)"
   ]
  },
  {
   "cell_type": "markdown",
   "metadata": {},
   "source": [
    "### 10) WAP to find factors of the given number"
   ]
  },
  {
   "cell_type": "code",
   "execution_count": 3,
   "metadata": {},
   "outputs": [
    {
     "name": "stdin",
     "output_type": "stream",
     "text": [
      "Enter number:- 10\n"
     ]
    },
    {
     "name": "stdout",
     "output_type": "stream",
     "text": [
      "1 2 5 10  \n",
      "1 2 5 10 "
     ]
    }
   ],
   "source": [
    "number=int(input(\"Enter number:-\"))\n",
    "for i in range(1,number+1):\n",
    "    if(number%i==0):\n",
    "        print(i,end=\" \")\n",
    "        \n",
    "print(\" \")\n",
    "\n",
    "j=1\n",
    "while(j<number+1):\n",
    "    if(number%j==0):\n",
    "        print(j,end=\" \")\n",
    "    j+=1"
   ]
  },
  {
   "cell_type": "markdown",
   "metadata": {},
   "source": [
    "### 11) WAP to find whether the given number is prime or not."
   ]
  },
  {
   "cell_type": "code",
   "execution_count": 1,
   "metadata": {},
   "outputs": [
    {
     "name": "stdin",
     "output_type": "stream",
     "text": [
      "Enter number:  11\n"
     ]
    },
    {
     "name": "stdout",
     "output_type": "stream",
     "text": [
      "11 is prime\n",
      " \n"
     ]
    },
    {
     "name": "stdin",
     "output_type": "stream",
     "text": [
      "Enter n:  11\n"
     ]
    },
    {
     "name": "stdout",
     "output_type": "stream",
     "text": [
      "11 is prime\n"
     ]
    }
   ],
   "source": [
    "count=0\n",
    "number=int(input(\"Enter number: \"))\n",
    "\n",
    "for i in range(1,number+1):\n",
    "    if(number%i==0):\n",
    "        count+=1\n",
    "if(count==2):\n",
    "    print(number,\"is prime\")\n",
    "else:\n",
    "    print(number,\"is not prime\")\n",
    "\n",
    "print(\" \")\n",
    "\n",
    "n=int(input(\"Enter n: \"))\n",
    "flag=0\n",
    "i=1\n",
    "while(i<n+1):\n",
    "    if(n%i==0):\n",
    "        flag+=1\n",
    "    i+=1\n",
    "if(flag==2):\n",
    "    print(n,\"is prime\")\n",
    "else:\n",
    "    print(n,\"is not prime\")"
   ]
  },
  {
   "cell_type": "markdown",
   "metadata": {},
   "source": [
    "### 13) WAP to check whether the given number is palindrome or not"
   ]
  },
  {
   "cell_type": "code",
   "execution_count": 4,
   "metadata": {},
   "outputs": [
    {
     "name": "stdin",
     "output_type": "stream",
     "text": [
      "Enter number:- 121\n"
     ]
    },
    {
     "name": "stdout",
     "output_type": "stream",
     "text": [
      "Number is palindrome\n"
     ]
    }
   ],
   "source": [
    "number=int(input(\"Enter number:-\"))\n",
    "temp=number\n",
    "s=0\n",
    "while(number>0):\n",
    "    r=number%10\n",
    "    s=(s*10)+r\n",
    "    number=number//10\n",
    "if(temp==s):\n",
    "    print(\"Number is palindrome\")\n",
    "else:\n",
    "    print(\"Number is not palindrome\")"
   ]
  },
  {
   "cell_type": "markdown",
   "metadata": {},
   "source": [
    "### 01) WAP to check whether the given number is Armstrong or not."
   ]
  },
  {
   "cell_type": "code",
   "execution_count": 6,
   "metadata": {},
   "outputs": [
    {
     "name": "stdin",
     "output_type": "stream",
     "text": [
      "Enter number:-  153\n"
     ]
    },
    {
     "name": "stdout",
     "output_type": "stream",
     "text": [
      "number is armstong\n"
     ]
    }
   ],
   "source": [
    "number=int(input(\"Enter number:- \"))\n",
    "temp=number\n",
    "sum=0\n",
    "while(number>0):\n",
    "    remainder=number%10\n",
    "    sum=(remainder*remainder*remainder)+sum\n",
    "    number=number//10\n",
    "if(temp==sum):\n",
    "    print(\"number is armstong\")\n",
    "else:\n",
    "    print(\"number is not armstong\")"
   ]
  },
  {
   "cell_type": "markdown",
   "metadata": {},
   "source": [
    "### 02) WAP to find out prime numbers between given two numbers."
   ]
  },
  {
   "cell_type": "code",
   "execution_count": 9,
   "metadata": {},
   "outputs": [
    {
     "name": "stdin",
     "output_type": "stream",
     "text": [
      "Enter number1:- 10\n",
      "Enter number2:- 20\n"
     ]
    },
    {
     "name": "stdout",
     "output_type": "stream",
     "text": [
      "11  \n",
      "13  \n",
      "17  \n",
      "19  \n"
     ]
    }
   ],
   "source": [
    "number1=int(input(\"Enter number1:-\"))\n",
    "number2=int(input(\"Enter number2:-\"))\n",
    "for i in range(number1,number2):\n",
    "    for j in range(2,i+1):\n",
    "        if(i%j==0):\n",
    "            break\n",
    "    if(i==j):\n",
    "        print(j,\" \")"
   ]
  },
  {
   "cell_type": "markdown",
   "metadata": {},
   "source": [
    "### 03) WAP to calculate x^y without using any function."
   ]
  },
  {
   "cell_type": "code",
   "execution_count": 4,
   "metadata": {},
   "outputs": [
    {
     "name": "stdin",
     "output_type": "stream",
     "text": [
      "Enter a:- 2\n",
      "Enter b:- 3\n"
     ]
    },
    {
     "name": "stdout",
     "output_type": "stream",
     "text": [
      "8\n"
     ]
    }
   ],
   "source": [
    "a=int(input(\"Enter a:-\"))\n",
    "b=int(input(\"Enter b:-\"))\n",
    "power=1\n",
    "for i in range(b):\n",
    "    power=power*a\n",
    "print(power)"
   ]
  },
  {
   "cell_type": "markdown",
   "metadata": {},
   "source": [
    "### 04) WAP to check whether the given number is perfect or not.\n",
    "[Sum of factors including 1 excluding number itself]"
   ]
  },
  {
   "cell_type": "code",
   "execution_count": 9,
   "metadata": {},
   "outputs": [
    {
     "name": "stdin",
     "output_type": "stream",
     "text": [
      "Enter number:-  6\n"
     ]
    },
    {
     "name": "stdout",
     "output_type": "stream",
     "text": [
      "number is perfect number\n"
     ]
    }
   ],
   "source": [
    "number=int(input(\"Enter number:- \"))\n",
    "sum=0\n",
    "for i in range(1,number):\n",
    "    if(number%i==0):\n",
    "        sum=sum+i\n",
    "if(number==sum):\n",
    "    print(\"number is perfect number\")\n",
    "else:\n",
    "    print(\"number is not perfect number\")"
   ]
  },
  {
   "cell_type": "markdown",
   "metadata": {},
   "source": [
    "### 05) WAP to find the sum of 1 + (1+2) + (1+2+3) + (1+2+3+4)+...+(1+2+3+4+....+n)"
   ]
  },
  {
   "cell_type": "code",
   "execution_count": 20,
   "metadata": {},
   "outputs": [
    {
     "name": "stdin",
     "output_type": "stream",
     "text": [
      "Enter n:- 3\n"
     ]
    },
    {
     "name": "stdout",
     "output_type": "stream",
     "text": [
      "10\n"
     ]
    }
   ],
   "source": [
    "n=int(input(\"Enter n:-\"))\n",
    "ans1=0\n",
    "for i in range(1,n+1) :\n",
    "    ans2=0;\n",
    "    for j in range(1,i+1) :\n",
    "        ans2=ans2+j\n",
    "    ans1=ans1+ans2\n",
    "print(ans1)"
   ]
  },
  {
   "cell_type": "markdown",
   "metadata": {},
   "source": [
    "### 06) WAP to print Multiplication Table up to n"
   ]
  },
  {
   "cell_type": "code",
   "execution_count": 35,
   "metadata": {},
   "outputs": [
    {
     "name": "stdin",
     "output_type": "stream",
     "text": [
      "Enter the number up to which you want the multiplication table:- 2\n"
     ]
    },
    {
     "name": "stdout",
     "output_type": "stream",
     "text": [
      "Multiplication table for: 1\n",
      "1 * 1 = 1\n",
      "1 * 2 = 2\n",
      "1 * 3 = 3\n",
      "1 * 4 = 4\n",
      "1 * 5 = 5\n",
      "1 * 6 = 6\n",
      "1 * 7 = 7\n",
      "1 * 8 = 8\n",
      "1 * 9 = 9\n",
      "1 * 10 = 10\n",
      "Multiplication table for: 2\n",
      "2 * 1 = 2\n",
      "2 * 2 = 4\n",
      "2 * 3 = 6\n",
      "2 * 4 = 8\n",
      "2 * 5 = 10\n",
      "2 * 6 = 12\n",
      "2 * 7 = 14\n",
      "2 * 8 = 16\n",
      "2 * 9 = 18\n",
      "2 * 10 = 20\n"
     ]
    }
   ],
   "source": [
    "n=int(input(\"Enter the number up to which you want the multiplication table:-\"))\n",
    "for i in range(1,n+1):\n",
    "    print(\"Multiplication table for:\",i)\n",
    "    for j in range(1,11):\n",
    "        print(i,\"*\",j,\"=\",(i*j))"
   ]
  },
  {
   "cell_type": "code",
   "execution_count": null,
   "metadata": {},
   "outputs": [],
   "source": []
  }
 ],
 "metadata": {
  "kernelspec": {
   "display_name": "Python 3 (ipykernel)",
   "language": "python",
   "name": "python3"
  },
  "language_info": {
   "codemirror_mode": {
    "name": "ipython",
    "version": 3
   },
   "file_extension": ".py",
   "mimetype": "text/x-python",
   "name": "python",
   "nbconvert_exporter": "python",
   "pygments_lexer": "ipython3",
   "version": "3.12.1"
  }
 },
 "nbformat": 4,
 "nbformat_minor": 4
}
