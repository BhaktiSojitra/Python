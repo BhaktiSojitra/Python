{
 "cells": [
  {
   "cell_type": "markdown",
   "metadata": {},
   "source": [
    "<a href='https://www.darshan.ac.in/'> <img src='https://www.darshan.ac.in/Content/media/DU_Logo.svg' width=\"250\" height=\"300\"/></a>\n",
    "<pre>\n",
    "<center><b><h1>Python Programming - 2101CS405</b></center>\n",
    "<center><b><h1>Lab - 12</b></center>    \n",
    "<pre>"
   ]
  },
  {
   "cell_type": "markdown",
   "metadata": {},
   "source": [
    "# OOP"
   ]
  },
  {
   "cell_type": "markdown",
   "metadata": {},
   "source": [
    "### 01) Write a Program to create a class by name Students, and initialize attributes like name, age, and grade while creating an object."
   ]
  },
  {
   "cell_type": "code",
   "execution_count": 3,
   "metadata": {},
   "outputs": [
    {
     "name": "stdout",
     "output_type": "stream",
     "text": [
      "bhakti\n",
      "19\n",
      "A\n"
     ]
    }
   ],
   "source": [
    "class Student:\n",
    "    def __init__(self,name,age,grade):\n",
    "        self.name=name\n",
    "        self.age=age\n",
    "        self.grade=grade\n",
    "s1 = Student('bhakti',19,'A')\n",
    "print(s1.name)\n",
    "print(s1.age)\n",
    "print(s1.grade)"
   ]
  },
  {
   "cell_type": "markdown",
   "metadata": {},
   "source": [
    "### 02) Create a class named Bank_Account with Account_No, User_Name, Email,Account_Type and Account_Balance data members. Also create a method GetAccountDetails() and DisplayAccountDetails(). Create main method to demonstrate the Bank_Account class."
   ]
  },
  {
   "cell_type": "code",
   "execution_count": 5,
   "metadata": {},
   "outputs": [
    {
     "name": "stdin",
     "output_type": "stream",
     "text": [
      "Enter Account Number:  23010101650\n",
      "Enter User Name:  sojitra bhakti\n",
      "Enter Email:  sojitrabhakti03@gmail.com\n",
      "Enter Account Type:  none\n",
      "Enter Account Balance:  0\n"
     ]
    },
    {
     "name": "stdout",
     "output_type": "stream",
     "text": [
      "---------------------------------------------\n",
      "Account No is :  23010101650\n",
      "User Name is :  sojitra bhakti\n",
      "Email ID is:  sojitrabhakti03@gmail.com\n",
      "Account Type is:  none\n",
      "Account Balance is:  0\n",
      "---------------------------------------------\n"
     ]
    }
   ],
   "source": [
    "class Bank_Acoount:\n",
    "    def GetAccountDetails(self):\n",
    "        self.Account_No=int(input('Enter Account Number: '))\n",
    "        self.User_Name=input('Enter User Name: ')\n",
    "        self.Email=input('Enter Email: ')\n",
    "        self.Account_Type=input('Enter Account Type: ')\n",
    "        self.Account_Balance=int(input('Enter Account Balance: '))\n",
    "    def DisplayAccountDetails(self):\n",
    "        print('---------------------------------------------')\n",
    "        print('Account No is : ', self.Account_No)\n",
    "        print('User Name is : ',self.User_Name)\n",
    "        print('Email ID is: ',self.Email)\n",
    "        print('Account Type is: ',self.Account_Type)\n",
    "        print('Account Balance is: ',self.Account_Balance)\n",
    "        print('---------------------------------------------')\n",
    "b1 = Bank_Acoount()\n",
    "b1.GetAccountDetails()\n",
    "b1.DisplayAccountDetails()"
   ]
  },
  {
   "cell_type": "markdown",
   "metadata": {},
   "source": [
    "### 03) WAP to create Circle class with area and perimeter function to find area and perimeter of circle."
   ]
  },
  {
   "cell_type": "code",
   "execution_count": 6,
   "metadata": {},
   "outputs": [
    {
     "name": "stdout",
     "output_type": "stream",
     "text": [
      "Area of circle is:  314.0\n",
      "Perimeter of cicle is:  62.800000000000004\n"
     ]
    }
   ],
   "source": [
    "class Circle:\n",
    "    def __init__(self,r):\n",
    "        self.r = r\n",
    "    def area(self):\n",
    "        print('Area of circle is: ',3.14*self.r*self.r)\n",
    "    def perimeter(self):\n",
    "        print('Perimeter of cicle is: ',2*3.14*self.r)\n",
    "c1 = Circle(10)\n",
    "c1.area()\n",
    "c1.perimeter()"
   ]
  },
  {
   "cell_type": "markdown",
   "metadata": {},
   "source": [
    "### 04) Create a class for employees that includes attributes such as name, age, salary, and methods to update and display employee information."
   ]
  },
  {
   "cell_type": "code",
   "execution_count": 7,
   "metadata": {},
   "outputs": [
    {
     "name": "stdin",
     "output_type": "stream",
     "text": [
      "Enter Name:  sojitra bhakti\n",
      "Enter Age:  19\n",
      "Enter Salary:  0\n"
     ]
    },
    {
     "name": "stdout",
     "output_type": "stream",
     "text": [
      "--------------------------\n",
      "Name is :  sojitra bhakti\n",
      "Age is :  19\n",
      "Salary is :  0\n",
      "--------------------------\n"
     ]
    },
    {
     "name": "stdin",
     "output_type": "stream",
     "text": [
      "Enter New Name:  hensi doshi\n"
     ]
    },
    {
     "name": "stdout",
     "output_type": "stream",
     "text": [
      "--------------------------\n",
      "Name is :  hensi doshi\n",
      "Age is :  19\n",
      "Salary is :  0\n",
      "--------------------------\n"
     ]
    }
   ],
   "source": [
    "class Employee:\n",
    "    \n",
    "    def add(self):\n",
    "        self.name=input('Enter Name: ')\n",
    "        self.age=int(input('Enter Age: '))\n",
    "        self.salary=int(input('Enter Salary: '))\n",
    "        \n",
    "    def display(self):\n",
    "        print('--------------------------')\n",
    "        print('Name is : ',self.name)\n",
    "        print('Age is : ',self.age)\n",
    "        print('Salary is : ',self.salary)\n",
    "        print('--------------------------')\n",
    "        \n",
    "    def updatename(self):\n",
    "        self.name=input('Enter New Name: ')\n",
    "        \n",
    "e1 = Employee()\n",
    "e1.add()\n",
    "e1.display()\n",
    "e1.updatename()\n",
    "e1.display()"
   ]
  },
  {
   "cell_type": "markdown",
   "metadata": {},
   "source": [
    "### 05) Create a bank account class with methods to deposit, withdraw, and check balance."
   ]
  },
  {
   "cell_type": "code",
   "execution_count": 9,
   "metadata": {},
   "outputs": [
    {
     "name": "stdout",
     "output_type": "stream",
     "text": [
      "1000\n",
      "3000\n",
      "1000\n",
      "500\n",
      "Your Account Balance is-  500\n"
     ]
    }
   ],
   "source": [
    "class BankAccount:\n",
    "    def __init__(self):\n",
    "        self.balance = 0\n",
    "    def deposit(self,a):\n",
    "        self.balance=self.balance + a\n",
    "        print(self.balance)\n",
    "    def withdraw(self,a):\n",
    "        self.balance=self.balance- a\n",
    "        print(self.balance)\n",
    "    def checkBalance(self):\n",
    "        print(\"Your Account Balance is- \",self.balance)\n",
    "b = BankAccount()\n",
    "b.deposit(1000)\n",
    "b.deposit(2000)\n",
    "b.withdraw(2000)\n",
    "b.withdraw(500)\n",
    "b.checkBalance()"
   ]
  },
  {
   "cell_type": "markdown",
   "metadata": {},
   "source": [
    "### 06) Create a class for managing inventory that includes attributes such as item name, price, quantity, and methods to add, remove, and update items."
   ]
  },
  {
   "cell_type": "code",
   "execution_count": 16,
   "metadata": {},
   "outputs": [
    {
     "name": "stdout",
     "output_type": "stream",
     "text": [
      "Item Details:\n",
      "Product Name: Laptop, Stock Count: 100, Price: 500.0\n",
      "Product Name: Mobile, Stock Count: 110, Price: 450.0\n",
      "Product Name: Desktop, Stock Count: 120, Price: 500.0\n",
      "Product Name: Tablet, Stock Count: 90, Price: 550.0\n",
      "\n",
      "Update the price of item code- 'I001':\n",
      "Product Name: Laptop, Stock Count: 100, Price: 505.0\n",
      "\n",
      "Update the stock of item code- 'I003':\n",
      "Product Name: Desktop, Stock Count: 115, Price: 500.0\n"
     ]
    }
   ],
   "source": [
    "class Inventory:\n",
    "    \n",
    "    def __init__(self):\n",
    "        self.inventory = {}\n",
    "        \n",
    "    def add_item(self, item_id, item_name, stock_count, price):\n",
    "        self.inventory[item_id] = {\"item_name\": item_name, \"stock_count\": stock_count, \"price\": price}\n",
    "        \n",
    "    def update_item(self, item_id, stock_count, price):\n",
    "        if item_id in self.inventory:\n",
    "            self.inventory[item_id][\"stock_count\"] = stock_count\n",
    "            self.inventory[item_id][\"price\"] = price\n",
    "        else:\n",
    "            print(\"Item not found in inventory.\")\n",
    "            \n",
    "    def check_item_details(self, item_id):\n",
    "        if item_id in self.inventory:\n",
    "            item = self.inventory[item_id]\n",
    "            return f\"Product Name: {item['item_name']}, Stock Count: {item['stock_count']}, Price: {item['price']}\"\n",
    "        else:\n",
    "            return \"Item not found in inventory.\"\n",
    "\n",
    "inventory = Inventory()\n",
    "inventory.add_item(\"I001\", \"Laptop\", 100, 500.00)\n",
    "inventory.add_item(\"I002\", \"Mobile\", 110, 450.00)\n",
    "inventory.add_item(\"I003\", \"Desktop\", 120, 500.00)\n",
    "inventory.add_item(\"I004\", \"Tablet\", 90, 550.00)\n",
    "print(\"Item Details:\")\n",
    "print(inventory.check_item_details(\"I001\"))\n",
    "print(inventory.check_item_details(\"I002\"))\n",
    "print(inventory.check_item_details(\"I003\"))\n",
    "print(inventory.check_item_details(\"I004\"))\n",
    "print(\"\\nUpdate the price of item code- 'I001':\")\n",
    "inventory.update_item(\"I001\", 100, 505.00)\n",
    "print(inventory.check_item_details(\"I001\"))\n",
    "print(\"\\nUpdate the stock of item code- 'I003':\")\n",
    "inventory.update_item(\"I003\", 115, 500.00)\n",
    "print(inventory.check_item_details(\"I003\"))"
   ]
  },
  {
   "cell_type": "markdown",
   "metadata": {},
   "source": [
    "### 09) Create a Class with instance attributes"
   ]
  },
  {
   "cell_type": "code",
   "execution_count": 18,
   "metadata": {},
   "outputs": [
    {
     "name": "stdin",
     "output_type": "stream",
     "text": [
      "Enter Name:-  sojitra bhakti\n",
      "Enter Salary:-  0\n"
     ]
    },
    {
     "name": "stdout",
     "output_type": "stream",
     "text": [
      "sojitra bhakti 0\n"
     ]
    }
   ],
   "source": [
    "class EMP:\n",
    "    def __init__(self):\n",
    "        self.name = input(\"Enter Name:- \")\n",
    "        self.salary = int(input(\"Enter Salary:- \"))\n",
    "    def display(self):\n",
    "        print(self.name,self.salary)\n",
    "e = EMP()\n",
    "e.display()"
   ]
  },
  {
   "cell_type": "markdown",
   "metadata": {},
   "source": [
    "### 07)\n",
    "Create one class student_kit <br>\n",
    "Within the student_kit class create one class attribute principal name ( Mr ABC ) <br>\n",
    "Create one attendance method and take input as number of days. <br>\n",
    "While creating student take input their name . <br>\n",
    "Create one certificate for each student by taking input of number of days present in class. <br>"
   ]
  },
  {
   "cell_type": "code",
   "execution_count": 21,
   "metadata": {},
   "outputs": [
    {
     "name": "stdout",
     "output_type": "stream",
     "text": [
      "Mr. Bean has issued a certificate to Tedi , who was present 15 days\n"
     ]
    }
   ],
   "source": [
    "class Student_Kit:\n",
    "    \n",
    "    Principal_Name=\"Mr. Bean\"\n",
    "    \n",
    "    def __init__(self,name):\n",
    "        self.name=name\n",
    "    def attendance(self,days):\n",
    "        self.days=days\n",
    "        return self.days\n",
    "        \n",
    "s1 = Student_Kit('Tedi')\n",
    "print(Student_Kit.Principal_Name ,'has issued a certificate to',s1.name,', who was present', s1.attendance(15),'days' )"
   ]
  },
  {
   "cell_type": "markdown",
   "metadata": {},
   "source": [
    "### 08) Define Time class with hour and minute as data member. Also define addition method to add two time objects."
   ]
  },
  {
   "cell_type": "code",
   "execution_count": null,
   "metadata": {},
   "outputs": [],
   "source": []
  },
  {
   "attachments": {},
   "cell_type": "markdown",
   "metadata": {},
   "source": [
    "### 09) WAP to demonstrate inheritance in python."
   ]
  },
  {
   "cell_type": "code",
   "execution_count": 23,
   "metadata": {},
   "outputs": [
    {
     "name": "stdout",
     "output_type": "stream",
     "text": [
      "1 5\n",
      "1 2\n",
      "2 7\n"
     ]
    }
   ],
   "source": [
    "class Time:\n",
    "    def __init__(self,h,m):\n",
    "        self.hour=h\n",
    "        self.minute=m\n",
    "    def add(self,a,b):\n",
    "        self.hour=a.hour + b.hour\n",
    "        self.minute=a.minute + b.minute\n",
    "    def display(self):\n",
    "        print(self.hour,self.minute)\n",
    "obj1 = Time(1,5)\n",
    "obj2 = Time(1,2)\n",
    "obj3 = Time(0,0)\n",
    "obj3.add(obj1,obj2)\n",
    "obj1.display()\n",
    "obj2.display()\n",
    "obj3.display()"
   ]
  },
  {
   "cell_type": "markdown",
   "metadata": {},
   "source": [
    "### 10) Create a child class Bus that will inherit all of the variables and methods of the Vehicle class\n",
    "class Vehicle:\n",
    "\n",
    "    def __init__(self, name, max_speed, mileage):\n",
    "        self.name = name\n",
    "        self.max_speed = max_speed\n",
    "        self.mileage = mileage\n",
    "        \n",
    "Create a Bus object that will inherit all of the variables and methods of the parent Vehicle class and display it.        "
   ]
  },
  {
   "cell_type": "code",
   "execution_count": 24,
   "metadata": {},
   "outputs": [
    {
     "name": "stdout",
     "output_type": "stream",
     "text": [
      "This is class A\n",
      "This is class B\n",
      "This is class C\n"
     ]
    }
   ],
   "source": [
    "class A:\n",
    "    def displayA(self):\n",
    "        print('This is class A')\n",
    "class B(A):\n",
    "    def displayB(self):\n",
    "        print('This is class B')\n",
    "class C(B):\n",
    "    def displayC(self):\n",
    "        print('This is class C')\n",
    "obj1 = C()\n",
    "obj1.displayA()\n",
    "obj1.displayB()\n",
    "obj1.displayC()"
   ]
  },
  {
   "cell_type": "markdown",
   "metadata": {},
   "source": [
    "### 11)  Create a class hierarchy for different types of animals, with a parent Animal class and child classes for specific animals like Cat, Dog, and Bird."
   ]
  },
  {
   "cell_type": "code",
   "execution_count": 25,
   "metadata": {},
   "outputs": [
    {
     "name": "stdout",
     "output_type": "stream",
     "text": [
      "Whiskers the Cat says: Meow\n",
      "Buddy the Dog says: Woof\n",
      "Tweetie the Bird says: Chirp\n"
     ]
    }
   ],
   "source": [
    "class Animal:\n",
    "    def __init__(self, name, species):\n",
    "        self.name = name\n",
    "        self.species = species\n",
    "\n",
    "    def make_sound(self):\n",
    "        pass \n",
    "\n",
    "class Cat(Animal):\n",
    "    def __init__(self, name):\n",
    "        super().__init__(name, species=\"Cat\")\n",
    "\n",
    "    def make_sound(self):\n",
    "        return \"Meow\"\n",
    "\n",
    "class Dog(Animal):\n",
    "    def __init__(self, name):\n",
    "        super().__init__(name, species=\"Dog\")\n",
    "\n",
    "    def make_sound(self):\n",
    "        return \"Woof\"\n",
    "\n",
    "class Bird(Animal):\n",
    "    def __init__(self, name):\n",
    "        super().__init__(name, species=\"Bird\")\n",
    "\n",
    "    def make_sound(self):\n",
    "        return \"Chirp\"\n",
    "        \n",
    "cat = Cat(\"Whiskers\")\n",
    "print(f\"{cat.name} the {cat.species} says: {cat.make_sound()}\")\n",
    "\n",
    "dog = Dog(\"Buddy\")\n",
    "print(f\"{dog.name} the {dog.species} says: {dog.make_sound()}\")\n",
    "\n",
    "bird = Bird(\"Tweetie\")\n",
    "print(f\"{bird.name} the {bird.species} says: {bird.make_sound()}\")"
   ]
  },
  {
   "cell_type": "markdown",
   "metadata": {},
   "source": [
    "### 12) Create a class hierarchy for different types of vehicles, with a parent Vehicle class and child classes for specific vehicles like Car, Truck, and Motorcycle."
   ]
  },
  {
   "cell_type": "code",
   "execution_count": 26,
   "metadata": {},
   "outputs": [
    {
     "name": "stdout",
     "output_type": "stream",
     "text": [
      "Toyota Camry 2020 with 4 doors.\n",
      "Car is being driven.\n",
      "Car has stopped.\n",
      "Ford F-150 2019 with a payload capacity of 2000 lbs.\n",
      "Truck is being driven.\n",
      "Truck has stopped.\n",
      "Honda CBR600RR 2021.\n",
      "Motorcycle is being ridden.\n",
      "Motorcycle has come to a stop.\n"
     ]
    }
   ],
   "source": [
    "class Vehicle:\n",
    "    def __init__(self, make, model, year):\n",
    "        self.make = make\n",
    "        self.model = model\n",
    "        self.year = year\n",
    "\n",
    "    def drive(self):\n",
    "        return \"Vehicle is being driven.\"\n",
    "\n",
    "    def stop(self):\n",
    "        return \"Vehicle has stopped.\"\n",
    "\n",
    "class Car(Vehicle):\n",
    "    def __init__(self, make, model, year, num_doors):\n",
    "        super().__init__(make, model, year)\n",
    "        self.num_doors = num_doors\n",
    "\n",
    "    def drive(self):\n",
    "        return \"Car is being driven.\"\n",
    "\n",
    "    def stop(self):\n",
    "        return \"Car has stopped.\"\n",
    "\n",
    "class Truck(Vehicle):\n",
    "    def __init__(self, make, model, year, payload_capacity):\n",
    "        super().__init__(make, model, year)\n",
    "        self.payload_capacity = payload_capacity\n",
    "\n",
    "    def drive(self):\n",
    "        return \"Truck is being driven.\"\n",
    "\n",
    "    def stop(self):\n",
    "        return \"Truck has stopped.\"\n",
    "\n",
    "class Motorcycle(Vehicle):\n",
    "    def __init__(self, make, model, year, is_sportbike):\n",
    "        super().__init__(make, model, year)\n",
    "        self.is_sportbike = is_sportbike\n",
    "\n",
    "    def drive(self):\n",
    "        return \"Motorcycle is being ridden.\"\n",
    "\n",
    "    def stop(self):\n",
    "        return \"Motorcycle has come to a stop.\"\n",
    "\n",
    "car = Car(\"Toyota\", \"Camry\", 2020, 4)\n",
    "print(f\"{car.make} {car.model} {car.year} with {car.num_doors} doors.\")\n",
    "print(car.drive())\n",
    "print(car.stop())\n",
    "\n",
    "truck = Truck(\"Ford\", \"F-150\", 2019, 2000)\n",
    "print(f\"{truck.make} {truck.model} {truck.year} with a payload capacity of {truck.payload_capacity} lbs.\")\n",
    "print(truck.drive())\n",
    "print(truck.stop())\n",
    "\n",
    "motorcycle = Motorcycle(\"Honda\", \"CBR600RR\", 2021, True)\n",
    "print(f\"{motorcycle.make} {motorcycle.model} {motorcycle.year}.\")\n",
    "print(motorcycle.drive())\n",
    "print(motorcycle.stop())"
   ]
  },
  {
   "cell_type": "markdown",
   "metadata": {},
   "source": [
    "### 13)  Create a class hierarchy for different types of bank accounts, with a parent Account class and child classes for specific account types like Checking, Savings, and Credit."
   ]
  },
  {
   "cell_type": "code",
   "execution_count": 27,
   "metadata": {},
   "outputs": [
    {
     "name": "stdout",
     "output_type": "stream",
     "text": [
      "Deposited 500. New balance: 1500\n",
      "Withdrew 1200. New balance: 300\n",
      "Withdrawal amount exceeds overdraft limit\n",
      "Interest applied. New balance: 5050.0\n",
      "Withdrew 1500. New balance: 500\n",
      "Withdrew 4000. New balance: -3500\n"
     ]
    }
   ],
   "source": [
    "class Account:\n",
    "    def __init__(self, account_number, balance=0):\n",
    "        self.account_number = account_number\n",
    "        self.balance = balance\n",
    "\n",
    "    def deposit(self, amount):\n",
    "        self.balance += amount\n",
    "        return f\"Deposited {amount}. New balance: {self.balance}\"\n",
    "\n",
    "    def withdraw(self, amount):\n",
    "        if amount > self.balance:\n",
    "            return \"Insufficient funds\"\n",
    "        self.balance -= amount\n",
    "        return f\"Withdrew {amount}. New balance: {self.balance}\"\n",
    "\n",
    "\n",
    "class Checking(Account):\n",
    "    def __init__(self, account_number, balance=0, overdraft_limit=1000):\n",
    "        super().__init__(account_number, balance)\n",
    "        self.overdraft_limit = overdraft_limit\n",
    "\n",
    "    def withdraw(self, amount):\n",
    "        if amount > self.balance + self.overdraft_limit:\n",
    "            return \"Withdrawal amount exceeds overdraft limit\"\n",
    "        self.balance -= amount\n",
    "        return f\"Withdrew {amount}. New balance: {self.balance}\"\n",
    "\n",
    "\n",
    "class Savings(Account):\n",
    "    def __init__(self, account_number, balance=0, interest_rate=0.01):\n",
    "        super().__init__(account_number, balance)\n",
    "        self.interest_rate = interest_rate\n",
    "\n",
    "    def apply_interest(self):\n",
    "        interest = self.balance * self.interest_rate\n",
    "        self.balance += interest\n",
    "        return f\"Interest applied. New balance: {self.balance}\"\n",
    "\n",
    "\n",
    "class Credit(Account):\n",
    "    def __init__(self, account_number, balance=0, credit_limit=5000):\n",
    "        super().__init__(account_number, balance)\n",
    "        self.credit_limit = credit_limit\n",
    "\n",
    "    def withdraw(self, amount):\n",
    "        if amount > self.balance + self.credit_limit:\n",
    "            return \"Withdrawal amount exceeds credit limit\"\n",
    "        self.balance -= amount\n",
    "        return f\"Withdrew {amount}. New balance: {self.balance}\"\n",
    "\n",
    "checking_account = Checking(\"123456\", 1000)\n",
    "print(checking_account.deposit(500))\n",
    "print(checking_account.withdraw(1200))  # Exceeds balance but within overdraft limit\n",
    "print(checking_account.withdraw(3000))  # Exceeds overdraft limit\n",
    "\n",
    "savings_account = Savings(\"789012\", 5000)\n",
    "print(savings_account.apply_interest())\n",
    "\n",
    "credit_account = Credit(\"345678\", 2000)\n",
    "print(credit_account.withdraw(1500))  # Within credit limit\n",
    "print(credit_account.withdraw(4000))  # Exceeds credit limit"
   ]
  },
  {
   "cell_type": "markdown",
   "metadata": {},
   "source": [
    "### 14) Create a Shape class with a draw method that is not implemented. Create three child classes Rectangle, Circle, and Triangle that implement the draw method with their respective drawing behaviors. Create a list of Shape objects that includes one instance of each child class, and then iterate through the list and call the draw method on each object."
   ]
  },
  {
   "cell_type": "code",
   "execution_count": 28,
   "metadata": {},
   "outputs": [
    {
     "name": "stdout",
     "output_type": "stream",
     "text": [
      "Drawing a rectangle\n",
      "Drawing a circle\n",
      "Drawing a triangle\n"
     ]
    }
   ],
   "source": [
    "class Shape:\n",
    "    def draw(self):\n",
    "        raise NotImplementedError(\"draw method not implemented\")\n",
    "\n",
    "\n",
    "class Rectangle(Shape):\n",
    "    def draw(self):\n",
    "        print(\"Drawing a rectangle\")\n",
    "\n",
    "\n",
    "class Circle(Shape):\n",
    "    def draw(self):\n",
    "        print(\"Drawing a circle\")\n",
    "\n",
    "\n",
    "class Triangle(Shape):\n",
    "    def draw(self):\n",
    "        print(\"Drawing a triangle\")\n",
    "        \n",
    "shapes = [Rectangle(), Circle(), Triangle()]\n",
    "\n",
    "for shape in shapes:\n",
    "    shape.draw()"
   ]
  },
  {
   "cell_type": "markdown",
   "metadata": {},
   "source": [
    "### 15) Create a Person class with a constructor that takes two arguments name and age. Create a child class Employee that inherits from Person and adds a new attribute salary. Override the __init__ method in Employee to call the parent class's __init__ method using the super keyword, and then initialize the salary attribute."
   ]
  },
  {
   "cell_type": "code",
   "execution_count": 29,
   "metadata": {},
   "outputs": [
    {
     "name": "stdout",
     "output_type": "stream",
     "text": [
      "Person: Alice, Age: 30\n",
      "Employee: Bob, Age: 35, Salary: $50000\n"
     ]
    }
   ],
   "source": [
    "class Person:\n",
    "    def __init__(self, name, age):\n",
    "        self.name = name\n",
    "        self.age = age\n",
    "\n",
    "class Employee(Person):\n",
    "    def __init__(self, name, age, salary):\n",
    "        # Call the parent class's __init__ method using super()\n",
    "        super().__init__(name, age)\n",
    "        # Initialize the salary attribute\n",
    "        self.salary = salary\n",
    "\n",
    "person1 = Person(\"Alice\", 30)\n",
    "print(f\"Person: {person1.name}, Age: {person1.age}\")\n",
    "\n",
    "employee1 = Employee(\"Bob\", 35, 50000)\n",
    "print(f\"Employee: {employee1.name}, Age: {employee1.age}, Salary: ${employee1.salary}\")"
   ]
  },
  {
   "cell_type": "code",
   "execution_count": null,
   "metadata": {},
   "outputs": [],
   "source": []
  }
 ],
 "metadata": {
  "kernelspec": {
   "display_name": "Python 3 (ipykernel)",
   "language": "python",
   "name": "python3"
  },
  "language_info": {
   "codemirror_mode": {
    "name": "ipython",
    "version": 3
   },
   "file_extension": ".py",
   "mimetype": "text/x-python",
   "name": "python",
   "nbconvert_exporter": "python",
   "pygments_lexer": "ipython3",
   "version": "3.12.1"
  }
 },
 "nbformat": 4,
 "nbformat_minor": 4
}
