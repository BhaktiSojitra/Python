{
 "cells": [
  {
   "cell_type": "markdown",
   "metadata": {},
   "source": [
    "\n",
    "<a href='https://www.darshan.ac.in/'> <img src='https://www.darshan.ac.in/Content/media/DU_Logo.svg' width=\"250\" height=\"300\"/></a>\n",
    "<pre>\n",
    "<center><b><h1>Python Programming - 2101CS405</b></center>\n",
    "<center><b><h1>Lab - 5</b></center>    \n",
    "<pre>"
   ]
  },
  {
   "cell_type": "markdown",
   "metadata": {},
   "source": [
    "# list"
   ]
  },
  {
   "cell_type": "markdown",
   "metadata": {},
   "source": [
    "### 01) WAP to find sum of all the elements in List."
   ]
  },
  {
   "cell_type": "code",
   "execution_count": 4,
   "metadata": {},
   "outputs": [
    {
     "name": "stdin",
     "output_type": "stream",
     "text": [
      "Enter size:- 3\n",
      "Enter element for list:- 1\n",
      "Enter element for list:- 2\n",
      "Enter element for list:- 3\n"
     ]
    },
    {
     "name": "stdout",
     "output_type": "stream",
     "text": [
      "list:- [1, 2, 3]\n",
      "sum is:- 6\n"
     ]
    }
   ],
   "source": [
    "list=[]\n",
    "size=int(input(\"Enter size:-\"))\n",
    "for i in range(0,size):\n",
    "    element=int(input(\"Enter element for list:-\"))\n",
    "    list.append(element)\n",
    "print(\"list:-\",list)\n",
    "sum=0\n",
    "for i in list:\n",
    "    sum=sum+i\n",
    "print(\"sum is:-\",sum)"
   ]
  },
  {
   "cell_type": "markdown",
   "metadata": {},
   "source": [
    "### 02) WAP to find largest element in a List."
   ]
  },
  {
   "cell_type": "code",
   "execution_count": 3,
   "metadata": {},
   "outputs": [
    {
     "name": "stdin",
     "output_type": "stream",
     "text": [
      "Enter size:- 2\n",
      "Enter element for list:- 0\n",
      "Enter element for list:- 5\n"
     ]
    },
    {
     "name": "stdout",
     "output_type": "stream",
     "text": [
      "list:- [0, 5]\n",
      "5\n"
     ]
    }
   ],
   "source": [
    "list=[]\n",
    "size=int(input(\"Enter size:-\"))\n",
    "for i in range(0,size):\n",
    "    element=int(input(\"Enter element for list:-\"))\n",
    "    list.append(element)\n",
    "print(\"list:-\",list)\n",
    "max=list[0]\n",
    "for i in range(0,len(list)):\n",
    "    if list[i]>max:\n",
    "        max=list[i]\n",
    "print(max)"
   ]
  },
  {
   "cell_type": "markdown",
   "metadata": {},
   "source": [
    "### 03) WAP to split the List into two and append the first part to the end."
   ]
  },
  {
   "cell_type": "code",
   "execution_count": 21,
   "metadata": {},
   "outputs": [
    {
     "name": "stdin",
     "output_type": "stream",
     "text": [
      "Enter size :  6\n",
      "Enter element for list : 1\n",
      "Enter element for list : 2\n",
      "Enter element for list : 3\n",
      "Enter element for list : 4\n",
      "Enter element for list : 5\n",
      "Enter element for list : 6\n"
     ]
    },
    {
     "name": "stdout",
     "output_type": "stream",
     "text": [
      "List is : [1, 2, 3, 4, 5, 6]\n",
      "3\n",
      "[1, 2, 3]\n",
      "[4, 5, 6]\n",
      "[4, 5, 6, 1, 2, 3]\n"
     ]
    }
   ],
   "source": [
    "list=[];\n",
    "size=int(input(\"Enter size : \"));\n",
    "for i in range(0,size) :\n",
    "\telement=int(input(\"Enter element for list :\"));\n",
    "\tlist.append(element);\n",
    "print(\"List is :\",list);\n",
    "mid=len(list)//2;\n",
    "print(mid)\n",
    "first_part = list[:mid]\n",
    "print(first_part)\n",
    "second_part = list[mid:]\n",
    "print(second_part)\n",
    "new_list = second_part + first_part\n",
    "print(new_list)"
   ]
  },
  {
   "cell_type": "markdown",
   "metadata": {},
   "source": [
    "### 04) WAP to interchange first and last elements in list entered by a user."
   ]
  },
  {
   "cell_type": "code",
   "execution_count": 25,
   "metadata": {},
   "outputs": [
    {
     "name": "stdin",
     "output_type": "stream",
     "text": [
      "Enter size:- 4\n",
      "Enter element for list:- 1\n",
      "Enter element for list:- 2\n",
      "Enter element for list:- 3\n",
      "Enter element for list:- 4\n"
     ]
    },
    {
     "name": "stdout",
     "output_type": "stream",
     "text": [
      "before list:- [1, 2, 3, 4]\n",
      "after list:- [4, 2, 3, 1]\n"
     ]
    }
   ],
   "source": [
    "list=[]\n",
    "size=int(input(\"Enter size:-\"))\n",
    "for i in range(0,size):\n",
    "    element=int(input(\"Enter element for list:-\"))\n",
    "    list.append(element)\n",
    "print(\"before list:-\",list)\n",
    "\n",
    "first_index,second_index=0,size-1\n",
    "temp=list[first_index]\n",
    "list[first_index]=list[second_index]\n",
    "list[second_index]=temp\n",
    "\n",
    "print(\"after list:-\",list)"
   ]
  },
  {
   "cell_type": "markdown",
   "metadata": {},
   "source": [
    "### 05) WAP to interchange the elements on two positions entered by a user."
   ]
  },
  {
   "cell_type": "code",
   "execution_count": 23,
   "metadata": {},
   "outputs": [
    {
     "name": "stdin",
     "output_type": "stream",
     "text": [
      "Enter size:- 5\n",
      "Enter element for list:- 1\n",
      "Enter element for list:- 2\n",
      "Enter element for list:- 3\n",
      "Enter element for list:- 4\n",
      "Enter element for list:- 5\n"
     ]
    },
    {
     "name": "stdout",
     "output_type": "stream",
     "text": [
      "before list:- [1, 2, 3, 4, 5]\n"
     ]
    },
    {
     "name": "stdin",
     "output_type": "stream",
     "text": [
      "Enter first_index:- 0\n",
      "Enter first_index:- 1\n"
     ]
    },
    {
     "name": "stdout",
     "output_type": "stream",
     "text": [
      "after list:- [2, 1, 3, 4, 5]\n"
     ]
    }
   ],
   "source": [
    "list=[]\n",
    "size=int(input(\"Enter size:-\"))\n",
    "for i in range(0,size):\n",
    "    element=int(input(\"Enter element for list:-\"))\n",
    "    list.append(element)\n",
    "print(\"before list:-\",list)\n",
    "\n",
    "first_index=int(input(\"Enter first_index:-\"))\n",
    "second_index=int(input(\"Enter first_index:-\"))\n",
    "\n",
    "temp=list[first_index]\n",
    "list[first_index]=list[second_index]\n",
    "list[second_index]=temp\n",
    "\n",
    "print(\"after list:-\",list)"
   ]
  },
  {
   "cell_type": "markdown",
   "metadata": {},
   "source": [
    "### 06) WAP to reverses the list entered by user."
   ]
  },
  {
   "cell_type": "code",
   "execution_count": 1,
   "metadata": {},
   "outputs": [
    {
     "name": "stdin",
     "output_type": "stream",
     "text": [
      "Enter size:- 4\n",
      "Enter element for list:- 1\n",
      "Enter element for list:- 2\n",
      "Enter element for list:- 3\n",
      "Enter element for list:- 4\n"
     ]
    },
    {
     "name": "stdout",
     "output_type": "stream",
     "text": [
      "before list:- [1, 2, 3, 4]\n",
      "after list:- [4, 3, 2, 1]\n"
     ]
    }
   ],
   "source": [
    "list=[]\n",
    "size=int(input(\"Enter size:-\"))\n",
    "for i in range(0,size):\n",
    "    element=int(input(\"Enter element for list:-\"))\n",
    "    list.append(element)\n",
    "print(\"before list:-\",list)\n",
    "\n",
    "list.reverse()\n",
    "\n",
    "print(\"after list:-\",list)"
   ]
  },
  {
   "cell_type": "markdown",
   "metadata": {},
   "source": [
    "### 07) Python program to remove multiple elements from a list using list comprehension"
   ]
  },
  {
   "cell_type": "code",
   "execution_count": 14,
   "metadata": {},
   "outputs": [
    {
     "name": "stdout",
     "output_type": "stream",
     "text": [
      "[1, 3, 5, 7, 9, 10]\n"
     ]
    }
   ],
   "source": [
    "my_list = [1, 2, 3, 4, 5, 6, 7, 8, 9, 10]\n",
    "elements_to_remove = [2, 4, 6, 8]\n",
    "my_list = [x for x in my_list if x not in elements_to_remove]\n",
    "# Display the modified list\n",
    "print(my_list)"
   ]
  },
  {
   "cell_type": "markdown",
   "metadata": {},
   "source": [
    "### 08) Create a list from the specified start to end index of another list."
   ]
  },
  {
   "cell_type": "code",
   "execution_count": 5,
   "metadata": {},
   "outputs": [
    {
     "name": "stdin",
     "output_type": "stream",
     "text": [
      "Enter size:- 4\n",
      "Enter element for list:- 10\n",
      "Enter element for list:- 20\n",
      "Enter element for list:- 30\n",
      "Enter element for list:- 40\n"
     ]
    },
    {
     "name": "stdout",
     "output_type": "stream",
     "text": [
      "list1:- [10, 20, 30, 40]\n"
     ]
    },
    {
     "name": "stdin",
     "output_type": "stream",
     "text": [
      "Enter start index:- 0\n",
      "Enter end index:- 2\n"
     ]
    },
    {
     "name": "stdout",
     "output_type": "stream",
     "text": [
      "list2:- [10, 20]\n"
     ]
    }
   ],
   "source": [
    "list1=[]\n",
    "size=int(input(\"Enter size:-\"))\n",
    "for i in range(0,size):\n",
    "    element=int(input(\"Enter element for list:-\"))\n",
    "    list1.append(element)\n",
    "print(\"list1:-\",list1)\n",
    "\n",
    "list2=[]\n",
    "start_index=int(input(\"Enter start index:-\"))\n",
    "end_index=int(input(\"Enter end index:-\"))\n",
    "list2=list1[start_index:end_index]\n",
    "print(\"list2:-\",list2)"
   ]
  },
  {
   "cell_type": "markdown",
   "metadata": {},
   "source": [
    "### 09) Input comma separated elements, convert into list and print."
   ]
  },
  {
   "cell_type": "code",
   "execution_count": 6,
   "metadata": {},
   "outputs": [
    {
     "name": "stdin",
     "output_type": "stream",
     "text": [
      "Enter comma seperated string: 10,20,30\n"
     ]
    },
    {
     "name": "stdout",
     "output_type": "stream",
     "text": [
      "[10, 20, 30]\n"
     ]
    }
   ],
   "source": [
    "str=input(\"Enter comma seperated string:\")\n",
    "list1=str.split(',')\n",
    "list2=[]\n",
    "for i in list1:\n",
    "    list2.append(int(i))\n",
    "print(list2)"
   ]
  },
  {
   "cell_type": "markdown",
   "metadata": {},
   "source": [
    "### 01) WAP to count Even and Odd numbers in a List."
   ]
  },
  {
   "cell_type": "code",
   "execution_count": 8,
   "metadata": {},
   "outputs": [
    {
     "name": "stdin",
     "output_type": "stream",
     "text": [
      "Enter size:- 3\n",
      "Enter element for list:- 1\n",
      "Enter element for list:- 2\n",
      "Enter element for list:- 3\n"
     ]
    },
    {
     "name": "stdout",
     "output_type": "stream",
     "text": [
      "list:- [1, 2, 3]\n",
      "countEven is:- 1\n",
      "countOdd is:- 2\n"
     ]
    }
   ],
   "source": [
    "list=[]\n",
    "size=int(input(\"Enter size:-\"))\n",
    "for i in range(0,size):\n",
    "    element=int(input(\"Enter element for list:-\"))\n",
    "    list.append(element)\n",
    "print(\"list:-\",list)\n",
    "\n",
    "countEven,countOdd=0,0\n",
    "for i in list:\n",
    "    if(i%2==0):\n",
    "        countEven=countEven+1\n",
    "    else:\n",
    "        countOdd=countOdd+1\n",
    "print(\"countEven is:-\",countEven)\n",
    "print(\"countOdd is:-\",countOdd)"
   ]
  },
  {
   "cell_type": "markdown",
   "metadata": {},
   "source": [
    "### 02) Python program to find N largest and smallest elements from the list"
   ]
  },
  {
   "cell_type": "code",
   "execution_count": 24,
   "metadata": {},
   "outputs": [
    {
     "name": "stdin",
     "output_type": "stream",
     "text": [
      "Enter size:- 5\n",
      "Enter element for list:- 1\n",
      "Enter element for list:- 2\n",
      "Enter element for list:- 3\n",
      "Enter element for list:- 4\n",
      "Enter element for list:- 5\n"
     ]
    },
    {
     "name": "stdout",
     "output_type": "stream",
     "text": [
      "list:- [1, 2, 3, 4, 5]\n"
     ]
    },
    {
     "name": "stdin",
     "output_type": "stream",
     "text": [
      "Enter how many largest and smallest elements you need:- 2\n"
     ]
    },
    {
     "name": "stdout",
     "output_type": "stream",
     "text": [
      "[1, 2] [4, 5]\n"
     ]
    }
   ],
   "source": [
    "list=[]\n",
    "size=int(input(\"Enter size:-\"))\n",
    "for i in range(0,size):\n",
    "    element=int(input(\"Enter element for list:-\"))\n",
    "    list.append(element)\n",
    "print(\"list:-\",list)\n",
    "\n",
    "number=int(input(\"Enter how many largest and smallest elements you need:-\"))\n",
    "print(list[:number], list[-number:])"
   ]
  },
  {
   "cell_type": "markdown",
   "metadata": {},
   "source": [
    "### 03) WAP to print duplicates from a list of integers"
   ]
  },
  {
   "cell_type": "code",
   "execution_count": 13,
   "metadata": {},
   "outputs": [
    {
     "name": "stdin",
     "output_type": "stream",
     "text": [
      "Enter size:- 5\n",
      "Enter element for list:- 1\n",
      "Enter element for list:- 1\n",
      "Enter element for list:- 2\n",
      "Enter element for list:- 0\n",
      "Enter element for list:- 1\n"
     ]
    },
    {
     "name": "stdout",
     "output_type": "stream",
     "text": [
      "list:- [1, 1, 2, 0, 1]\n",
      "[1]\n"
     ]
    }
   ],
   "source": [
    "list=[]\n",
    "size=int(input(\"Enter size:-\"))\n",
    "for i in range(0,size):\n",
    "    element=int(input(\"Enter element for list:-\"))\n",
    "    list.append(element)\n",
    "print(\"list:-\",list)\n",
    "\n",
    "duplicate_list=[]\n",
    "for i in range(0,len(list)):\n",
    "    for j in range(i+1,len(list)):\n",
    "        if list[i]==list[j] and list[i] not in duplicate_list:\n",
    "            duplicate_list.append(list[i])\n",
    "print(duplicate_list)"
   ]
  },
  {
   "cell_type": "code",
   "execution_count": null,
   "metadata": {},
   "outputs": [],
   "source": []
  }
 ],
 "metadata": {
  "kernelspec": {
   "display_name": "Python 3 (ipykernel)",
   "language": "python",
   "name": "python3"
  },
  "language_info": {
   "codemirror_mode": {
    "name": "ipython",
    "version": 3
   },
   "file_extension": ".py",
   "mimetype": "text/x-python",
   "name": "python",
   "nbconvert_exporter": "python",
   "pygments_lexer": "ipython3",
   "version": "3.12.1"
  }
 },
 "nbformat": 4,
 "nbformat_minor": 4
}
