{
 "cells": [
  {
   "cell_type": "markdown",
   "metadata": {},
   "source": [
    "<a href='https://www.darshan.ac.in/'> <img src='https://www.darshan.ac.in/Content/media/DU_Logo.svg' width=\"250\" height=\"300\"/></a>\n",
    "<pre>\n",
    "<center><b><h1>Python Programming - 2101CS405</b></center>\n",
    "<center><b><h1>Lab - 6</b></center>    \n",
    "<pre>"
   ]
  },
  {
   "cell_type": "code",
   "execution_count": null,
   "metadata": {},
   "outputs": [],
   "source": [
    "Name:- sojitra bhakti\n",
    "Enrollment:- 23010101650\n",
    "Batch:- D3"
   ]
  },
  {
   "cell_type": "markdown",
   "metadata": {},
   "source": [
    "# Tuples, dictionary, set"
   ]
  },
  {
   "cell_type": "markdown",
   "metadata": {},
   "source": [
    "# A"
   ]
  },
  {
   "cell_type": "markdown",
   "metadata": {},
   "source": [
    "### 01) WAP to sort python dictionary by key or value."
   ]
  },
  {
   "cell_type": "code",
   "execution_count": 15,
   "metadata": {},
   "outputs": [
    {
     "name": "stdin",
     "output_type": "stream",
     "text": [
      "enter size:- 2\n",
      "enter key: 10\n",
      "enter value: d\n",
      "enter key: 9\n",
      "enter value: d\n"
     ]
    },
    {
     "name": "stdout",
     "output_type": "stream",
     "text": [
      "original dictionary : {'10': 'd', '9': 'd'}\n",
      "sorted using key: ['10', '9']\n",
      "sorted using value: ['d', 'd']\n"
     ]
    }
   ],
   "source": [
    "dic={}\n",
    "size=int(input(\"enter size:-\"))\n",
    "for i in range(size):\n",
    "    k=input(\"enter key:\")\n",
    "    dic[k]=input(\"enter value:\")\n",
    "print(\"original dictionary :\",dic)\n",
    "print(\"sorted using key:\",sorted(dic.keys()))\n",
    "print(\"sorted using value:\",sorted(dic.values()))\n",
    "''' \n",
    "sort by key\n",
    "a=list(dic.values())\n",
    "a.sort()\n",
    "k_dic={}\n",
    "for i in a:\n",
    "    k_dic[i]=dict[i]\n",
    "print(\"by key:-\",k_dict)\n",
    "'''\n",
    "\n",
    "'''\n",
    "sort by value\n",
    "a=list(dic.values())\n",
    "a.sort()\n",
    "k_dic={}\n",
    "for i in a:\n",
    "    for j in dic:\n",
    "        if(i==dic[j])\n",
    "            k_dic[j]=1\n",
    "print(\"by value:-\",k_dic)\n",
    "'''"
   ]
  },
  {
   "cell_type": "markdown",
   "metadata": {},
   "source": [
    "### 02) WAP to merge two dictionaries given by user."
   ]
  },
  {
   "cell_type": "code",
   "execution_count": 17,
   "metadata": {},
   "outputs": [
    {
     "name": "stdout",
     "output_type": "stream",
     "text": [
      "dic1:- {3: 'x', 2: 'y'}\n",
      "dic2:- {1: 'a', 4: 'b'}\n",
      "dic3:- {3: 'x', 2: 'y', 1: 'a', 4: 'b'}\n",
      "update dic1: {3: 'x', 2: 'y', 1: 'a', 4: 'b'}\n"
     ]
    }
   ],
   "source": [
    "dic1={3:'x',2:'y'}\n",
    "dic2={1:'a',4:'b'}\n",
    "print(\"dic1:-\",dic1)\n",
    "print(\"dic2:-\",dic2)\n",
    "\n",
    "#union operator\n",
    "dic3=dic1|dic2\n",
    "print(\"dic3:-\",dic3)\n",
    "\n",
    "#using for loop\n",
    "for i in dic2:\n",
    "    dic1[i]=dic2[i]\n",
    "print(\"update dic1:\",dic1)"
   ]
  },
  {
   "cell_type": "markdown",
   "metadata": {},
   "source": [
    "### 03) WAP to find tuples that have all elements divisible by K from a list of tuples."
   ]
  },
  {
   "cell_type": "code",
   "execution_count": 23,
   "metadata": {},
   "outputs": [
    {
     "name": "stdout",
     "output_type": "stream",
     "text": [
      "[(3, 6, 9), (9, 12, 15)]\n",
      "divisible_by_k:- [(3, 6, 9), (9, 12, 15)]\n"
     ]
    }
   ],
   "source": [
    "list_tuple=[(1,2,3),(4,5,6),(7,8,9),(3,6,9),(9,12,15)];\n",
    "divisible_by_k=[]\n",
    "k=3\n",
    "for i in list_tuple:\n",
    "    for j in i:\n",
    "        if j%k!=0:\n",
    "            break\n",
    "    else:\n",
    "        divisible_by_k.append(i)\n",
    "\n",
    "#using list comprehension\n",
    "answer=[x for x in list_tuple if all(element % k == 0 for element in x)]\n",
    "print(answer)\n",
    "print(\"divisible_by_k:-\",divisible_by_k)"
   ]
  },
  {
   "cell_type": "markdown",
   "metadata": {},
   "source": [
    "### 04) WAP to find Tuples with positive elements in List of tuples."
   ]
  },
  {
   "cell_type": "code",
   "execution_count": 28,
   "metadata": {},
   "outputs": [
    {
     "name": "stdout",
     "output_type": "stream",
     "text": [
      "[(1, 2, 3), (4, 5, 6), (3, 6), (9, 12)]\n"
     ]
    }
   ],
   "source": [
    "'''list_tuple=[(1,2,3),(4,5,6),(-7,8,9),(-3,6,9),(-9,12,15)];\n",
    "positive_list=[]\n",
    "negative_list=[]\n",
    "for i in list_tuple:\n",
    "    for j in i:\n",
    "        if(j>0):\n",
    "            positive_list.append(i)\n",
    "        else:\n",
    "            negative_list.append(i)\n",
    "print(positive_list)'''\n",
    "\n",
    "list_tuple=[(1,2,3),(4,5,6),(-7,8,9),(3,6),(9,12)];\n",
    "result=[];\n",
    "for i in list_tuple:\n",
    "    c=0;\n",
    "    for j in i:\n",
    "        if(j>0):\n",
    "            c+=1;\n",
    "        if(c==len(i)):\n",
    "            result.append(i);\n",
    "print(str(result));"
   ]
  },
  {
   "cell_type": "markdown",
   "metadata": {},
   "source": [
    "### 05) WAP which perform union of two sets."
   ]
  },
  {
   "cell_type": "code",
   "execution_count": 30,
   "metadata": {},
   "outputs": [
    {
     "name": "stdout",
     "output_type": "stream",
     "text": [
      "{50, 20, 40, 10, 30}\n"
     ]
    }
   ],
   "source": [
    "set1={10,20,30,40,50}\n",
    "set2={30,40,50}\n",
    "print(set1.union(set2));"
   ]
  },
  {
   "cell_type": "markdown",
   "metadata": {},
   "source": [
    "# B"
   ]
  },
  {
   "cell_type": "markdown",
   "metadata": {},
   "source": [
    "### 01) WAP to convert binary tuple into integer."
   ]
  },
  {
   "cell_type": "code",
   "execution_count": 17,
   "metadata": {},
   "outputs": [
    {
     "name": "stdout",
     "output_type": "stream",
     "text": [
      "Integer value: 42\n"
     ]
    }
   ],
   "source": [
    "def binary_tuple_to_integer(binary_tuple):\n",
    "    result = 0\n",
    "    for bit in binary_tuple:\n",
    "        result = (result << 1) + bit\n",
    "    return result\n",
    "\n",
    "binary_tuple = (1,0,1,0,1,0)\n",
    "integer_value = binary_tuple_to_integer(binary_tuple)\n",
    "print(\"Integer value:\", integer_value)"
   ]
  },
  {
   "cell_type": "markdown",
   "metadata": {},
   "source": [
    "### 02) WAP to count frequency in list by dictionary."
   ]
  },
  {
   "cell_type": "code",
   "execution_count": 26,
   "metadata": {},
   "outputs": [
    {
     "name": "stdout",
     "output_type": "stream",
     "text": [
      "{1: 2, 2: 2, 3: 2, 4: 2, 5: 2}\n"
     ]
    }
   ],
   "source": [
    "original_list=[1,2,3,4,5,1,2,3,4,5]\n",
    "dic={}\n",
    "for i in original_list:\n",
    "    dic[i]=original_list.count(i)\n",
    "print(dic)"
   ]
  },
  {
   "cell_type": "markdown",
   "metadata": {},
   "source": [
    "### 03) WAP to remove all the duplicate words from the list using dictionary."
   ]
  },
  {
   "cell_type": "code",
   "execution_count": 14,
   "metadata": {},
   "outputs": [
    {
     "name": "stdout",
     "output_type": "stream",
     "text": [
      "List with duplicates removed: dict_keys(['apple', 'banana', 'orange', 'grape'])\n"
     ]
    }
   ],
   "source": [
    "def remove_duplicates(words):\n",
    "    unique_words = {}\n",
    "    for word in words:\n",
    "        if word not in unique_words:\n",
    "            unique_words[word] = True\n",
    "    #return unique_words\n",
    "    return unique_words.keys()\n",
    "    \n",
    "words_list = [\"apple\", \"banana\", \"apple\", \"orange\", \"banana\", \"grape\"]\n",
    "unique_words_list = remove_duplicates(words_list)\n",
    "print(\"List with duplicates removed:\", unique_words_list)"
   ]
  },
  {
   "cell_type": "code",
   "execution_count": null,
   "metadata": {},
   "outputs": [],
   "source": []
  },
  {
   "cell_type": "code",
   "execution_count": null,
   "metadata": {},
   "outputs": [],
   "source": []
  }
 ],
 "metadata": {
  "kernelspec": {
   "display_name": "Python 3 (ipykernel)",
   "language": "python",
   "name": "python3"
  },
  "language_info": {
   "codemirror_mode": {
    "name": "ipython",
    "version": 3
   },
   "file_extension": ".py",
   "mimetype": "text/x-python",
   "name": "python",
   "nbconvert_exporter": "python",
   "pygments_lexer": "ipython3",
   "version": "3.12.1"
  }
 },
 "nbformat": 4,
 "nbformat_minor": 4
}
