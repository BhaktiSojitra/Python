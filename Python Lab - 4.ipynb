{
 "cells": [
  {
   "cell_type": "markdown",
   "metadata": {},
   "source": [
    "\n",
    "<a href='https://www.darshan.ac.in/'> <img src='https://www.darshan.ac.in/Content/media/DU_Logo.svg' width=\"250\" height=\"300\"/></a>\n",
    "<pre>\n",
    "<center><b><h1>Python Programming - 2101CS405</b></center>\n",
    "<center><b><h1>Lab - 4</b></center>    \n",
    "<pre>"
   ]
  },
  {
   "cell_type": "markdown",
   "metadata": {},
   "source": [
    "# String"
   ]
  },
  {
   "cell_type": "markdown",
   "metadata": {},
   "source": [
    "### 01) WAP to check given string is palindrome or not."
   ]
  },
  {
   "cell_type": "code",
   "execution_count": 9,
   "metadata": {},
   "outputs": [
    {
     "name": "stdin",
     "output_type": "stream",
     "text": [
      "Enter number:-  121\n"
     ]
    },
    {
     "name": "stdout",
     "output_type": "stream",
     "text": [
      "string is palindrome\n"
     ]
    }
   ],
   "source": [
    "str=int(input(\"Enter number:- \"))\n",
    "s=0\n",
    "temp=str\n",
    "while(str>0):\n",
    "    r=str%10\n",
    "    s=(s*10)+r\n",
    "    str=str//10\n",
    "\n",
    "if(temp==s):\n",
    "    print(\"string is palindrome\")\n",
    "else:\n",
    "    print(\"string is not palindrome\")"
   ]
  },
  {
   "cell_type": "markdown",
   "metadata": {},
   "source": [
    "### 02) WAP to reverse the words in given string."
   ]
  },
  {
   "cell_type": "code",
   "execution_count": 2,
   "metadata": {},
   "outputs": [
    {
     "name": "stdin",
     "output_type": "stream",
     "text": [
      "Enter string:- hello world\n"
     ]
    },
    {
     "name": "stdout",
     "output_type": "stream",
     "text": [
      "original string:- hello world\n",
      "reversed string:- world hello\n"
     ]
    }
   ],
   "source": [
    "str=input(\"Enter string:-\")\n",
    "print(\"original string:-\",str)\n",
    "word=str.split(\" \")\n",
    "string=[]\n",
    "for i in word:\n",
    "    string.insert(0,i)\n",
    "print(\"reversed string:-\",end=\" \")\n",
    "print(\" \".join(string))"
   ]
  },
  {
   "cell_type": "markdown",
   "metadata": {},
   "source": [
    "### 03) WAP to remove ith character from given string"
   ]
  },
  {
   "cell_type": "code",
   "execution_count": 18,
   "metadata": {},
   "outputs": [
    {
     "name": "stdin",
     "output_type": "stream",
     "text": [
      "Enter the string :  hello\n",
      "Enter the index of character to be removed :  1\n"
     ]
    },
    {
     "name": "stdout",
     "output_type": "stream",
     "text": [
      "String after removing 1 th character : hllo\n"
     ]
    }
   ],
   "source": [
    "myStr =  input('Enter the string : ')\n",
    "i = int(input('Enter the index of character to be removed : '))\n",
    "newStr = \"\"\n",
    "for index in range(len(myStr)):\n",
    "    if index != i:\n",
    "        newStr = newStr + myStr[index]\n",
    "print (\"String after removing\", i,\"th character :\",newStr)"
   ]
  },
  {
   "cell_type": "markdown",
   "metadata": {},
   "source": [
    "### 04) WAP to find length of String without using len function."
   ]
  },
  {
   "cell_type": "code",
   "execution_count": 13,
   "metadata": {},
   "outputs": [
    {
     "name": "stdin",
     "output_type": "stream",
     "text": [
      "Enter string:- heelo\n"
     ]
    },
    {
     "name": "stdout",
     "output_type": "stream",
     "text": [
      "5\n"
     ]
    }
   ],
   "source": [
    "str=input(\"Enter string:-\")\n",
    "count=0\n",
    "for i in str:\n",
    "    count=count+1\n",
    "print(count)"
   ]
  },
  {
   "cell_type": "markdown",
   "metadata": {},
   "source": [
    "### 05) WAP to print even length word in string."
   ]
  },
  {
   "cell_type": "code",
   "execution_count": 3,
   "metadata": {},
   "outputs": [
    {
     "name": "stdin",
     "output_type": "stream",
     "text": [
      "Enter string:- sojitra bhakti\n"
     ]
    },
    {
     "name": "stdout",
     "output_type": "stream",
     "text": [
      "sjtabat\n",
      "7\n"
     ]
    }
   ],
   "source": [
    "str=input(\"Enter string:-\")\n",
    "count=\"\"\n",
    "for i in str[0:len(str)+1:2]:\n",
    "    count=count+i\n",
    "print(count)\n",
    "print(len(count))"
   ]
  },
  {
   "cell_type": "markdown",
   "metadata": {},
   "source": [
    "### 06) WAP to count numbers of vowels in given string."
   ]
  },
  {
   "cell_type": "code",
   "execution_count": 4,
   "metadata": {},
   "outputs": [
    {
     "name": "stdin",
     "output_type": "stream",
     "text": [
      "Enter string:- sojitra bhakti\n"
     ]
    },
    {
     "name": "stdout",
     "output_type": "stream",
     "text": [
      "5\n"
     ]
    }
   ],
   "source": [
    "str=input(\"Enter string:-\")\n",
    "count=0\n",
    "\n",
    "for i in str:\n",
    "    if(i=='a' or i=='e' or i=='i' or i=='o' or i=='u'):\n",
    "        count=count+1\n",
    "print(count)"
   ]
  },
  {
   "cell_type": "markdown",
   "metadata": {},
   "source": [
    "### 07) WAP to convert given array to string."
   ]
  },
  {
   "cell_type": "code",
   "execution_count": 8,
   "metadata": {},
   "outputs": [
    {
     "name": "stdin",
     "output_type": "stream",
     "text": [
      "Enter size:- 3\n",
      "Enter string:- hello\n",
      "Enter string:- world\n",
      "Enter string:- byy\n"
     ]
    },
    {
     "name": "stdout",
     "output_type": "stream",
     "text": [
      "['hello', 'world', 'byy']\n",
      "hello world byy\n"
     ]
    }
   ],
   "source": [
    "array=[]\n",
    "size=int(input(\"Enter size:-\"))\n",
    "for i in range(0,size):\n",
    "    str=(input(\"Enter string:-\"))\n",
    "    array.append(str)\n",
    "print(array)\n",
    "string=\" \".join(array)\n",
    "print(string)"
   ]
  },
  {
   "cell_type": "markdown",
   "metadata": {},
   "source": [
    "### 01) WAP to find out duplicate characters in given string."
   ]
  },
  {
   "cell_type": "code",
   "execution_count": 16,
   "metadata": {},
   "outputs": [
    {
     "name": "stdin",
     "output_type": "stream",
     "text": [
      "Enter String:- hhello wworld\n"
     ]
    },
    {
     "name": "stdout",
     "output_type": "stream",
     "text": [
      "hhello wworld\n",
      "['h', 'l', 'o', 'w'],"
     ]
    }
   ],
   "source": [
    "duplicate_chars=[]\n",
    "str=input(\"Enter String:-\")\n",
    "print(str)\n",
    "for i in range (0,len(str)):\n",
    "    for j in range (i+1,len(str)):\n",
    "        if str[i]==str[j] and str[i] not in duplicate_chars:\n",
    "            duplicate_chars.append(str[i])\n",
    "print(duplicate_chars,end=\",\")"
   ]
  },
  {
   "cell_type": "markdown",
   "metadata": {},
   "source": [
    "### 02) WAP to capitalize the first and last character of each word in a string."
   ]
  },
  {
   "cell_type": "code",
   "execution_count": 21,
   "metadata": {},
   "outputs": [
    {
     "name": "stdin",
     "output_type": "stream",
     "text": [
      "Enter string:- bhakti sojitra\n"
     ]
    },
    {
     "name": "stdout",
     "output_type": "stream",
     "text": [
      "original string:- bhakti sojitra\n",
      "new string:- ['BhaktI', 'SojitrA']\n"
     ]
    }
   ],
   "source": [
    "str=input(\"Enter string:-\")\n",
    "print(\"original string:-\",str)\n",
    "a=str.split()\n",
    "list=[]\n",
    "for i in a:\n",
    "    x=i[0].upper()+i[1:-1]+i[-1].upper()\n",
    "    list.append(x)\n",
    "print(\"new string:-\",list)"
   ]
  },
  {
   "cell_type": "markdown",
   "metadata": {},
   "source": [
    "### 03) WAP to find Maximum frequency character in String."
   ]
  },
  {
   "cell_type": "code",
   "execution_count": null,
   "metadata": {},
   "outputs": [],
   "source": [
    "s=input(\"enter string:\")\n",
    "max=0\n",
    "temp=''\n",
    "for i in s:\n",
    "    if(s.count(i)>max):\n",
    "        max=s.count(i)\n",
    "        #print(max,end=\"\")\n",
    "        temp=i\n",
    "print(\"Maximum frequency character is:-\",temp)"
   ]
  },
  {
   "cell_type": "raw",
   "metadata": {},
   "source": [
    "04) WAP to find Minimum frequency character in String."
   ]
  },
  {
   "cell_type": "code",
   "execution_count": 34,
   "metadata": {},
   "outputs": [
    {
     "name": "stdin",
     "output_type": "stream",
     "text": [
      "enter string: hhello\n"
     ]
    },
    {
     "name": "stdout",
     "output_type": "stream",
     "text": [
      "['e', 'o']\n"
     ]
    }
   ],
   "source": [
    "s=input(\"enter string:\")\n",
    "min=1\n",
    "temp=[]\n",
    "for i in s:\n",
    "    if(s.count(i)<=min):\n",
    "        min=s.count(i)\n",
    "        temp.append(i)\n",
    "print(temp)"
   ]
  },
  {
   "cell_type": "markdown",
   "metadata": {},
   "source": [
    "### 05) WAP to check if a given string is binary string or not"
   ]
  },
  {
   "cell_type": "code",
   "execution_count": 19,
   "metadata": {},
   "outputs": [
    {
     "name": "stdin",
     "output_type": "stream",
     "text": [
      "enter string: bhakti\n"
     ]
    },
    {
     "name": "stdout",
     "output_type": "stream",
     "text": [
      "String is not binary\n"
     ]
    }
   ],
   "source": [
    "s=input(\"enter string:\")\n",
    "ans=True\n",
    "for i in s:\n",
    "    if(i!='0' and i!='1'):\n",
    "        ans=False\n",
    "        break\n",
    "if ans:\n",
    "    print(\"String is binary\")\n",
    "else:\n",
    "     print(\"String is not binary\")"
   ]
  },
  {
   "cell_type": "code",
   "execution_count": null,
   "metadata": {},
   "outputs": [],
   "source": []
  }
 ],
 "metadata": {
  "kernelspec": {
   "display_name": "Python 3 (ipykernel)",
   "language": "python",
   "name": "python3"
  },
  "language_info": {
   "codemirror_mode": {
    "name": "ipython",
    "version": 3
   },
   "file_extension": ".py",
   "mimetype": "text/x-python",
   "name": "python",
   "nbconvert_exporter": "python",
   "pygments_lexer": "ipython3",
   "version": "3.12.1"
  },
  "vscode": {
   "interpreter": {
    "hash": "31f2aee4e71d21fbe5cf8b01ff0e069b9275f58929596ceb00d14d90e3e16cd6"
   }
  }
 },
 "nbformat": 4,
 "nbformat_minor": 4
}
